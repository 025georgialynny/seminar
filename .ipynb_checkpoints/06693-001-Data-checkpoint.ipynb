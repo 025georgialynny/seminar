{
 "cells": [
  {
   "cell_type": "code",
   "execution_count": 2,
   "id": "willing-warren",
   "metadata": {},
   "outputs": [],
   "source": [
    "library(dplyr)"
   ]
  },
  {
   "cell_type": "code",
   "execution_count": 3,
   "id": "future-special",
   "metadata": {},
   "outputs": [],
   "source": [
    "library(stringr)"
   ]
  },
  {
   "cell_type": "code",
   "execution_count": null,
   "id": "changed-textbook",
   "metadata": {},
   "outputs": [
    {
     "name": "stdout",
     "output_type": "stream",
     "text": [
      "package 'tensorflow' successfully unpacked and MD5 sums checked\n",
      "\n",
      "The downloaded binary packages are in\n",
      "\tC:\\Users\\galyn\\AppData\\Local\\Temp\\RtmpOqfRo7\\downloaded_packages\n"
     ]
    },
    {
     "name": "stderr",
     "output_type": "stream",
     "text": [
      "Warning message:\n",
      "\"package 'tensorflow' was built under R version 3.6.3\""
     ]
    }
   ],
   "source": [
    "install.packages(\"tensorflow\")\n",
    "library(tensorflow)\n",
    "install_tensorflow()\n",
    "tf$constant(\"Hellow Tensorflow\")"
   ]
  },
  {
   "cell_type": "code",
   "execution_count": null,
   "id": "together-donna",
   "metadata": {},
   "outputs": [],
   "source": [
    "library(keras)"
   ]
  },
  {
   "cell_type": "code",
   "execution_count": null,
   "id": "regular-words",
   "metadata": {},
   "outputs": [],
   "source": [
    "ncs1<- read.table(file = 'ICPSR_06693-V6/ICPSR_06693/DS0001/06693-0001-Data.tsv', sep = '\\t', header = TRUE)"
   ]
  },
  {
   "cell_type": "code",
   "execution_count": null,
   "id": "neural-purpose",
   "metadata": {},
   "outputs": [],
   "source": [
    "dim(ncs1)"
   ]
  },
  {
   "cell_type": "markdown",
   "id": "anonymous-termination",
   "metadata": {},
   "source": [
    "boorsboom ex: http://www.psychosystems.org/files/Literature/borsboomcramerannualreview.pdf"
   ]
  },
  {
   "cell_type": "code",
   "execution_count": null,
   "id": "czech-requirement",
   "metadata": {},
   "outputs": [],
   "source": [
    "head(ncs1)"
   ]
  },
  {
   "cell_type": "code",
   "execution_count": null,
   "id": "facial-liabilities",
   "metadata": {},
   "outputs": [],
   "source": [
    "ncs_col = colnames(ncs1)\n"
   ]
  },
  {
   "cell_type": "code",
   "execution_count": null,
   "id": "radical-awareness",
   "metadata": {},
   "outputs": [],
   "source": [
    "ncs_administration = ncs1[,1:grep('V15$', ncs_col)]"
   ]
  },
  {
   "cell_type": "code",
   "execution_count": null,
   "id": "hearing-clause",
   "metadata": {},
   "outputs": [],
   "source": [
    "ncs_a = ncs1[,c(1, (grep('V15$', ncs_col)+1):grep('V250$', ncs_col))]"
   ]
  },
  {
   "cell_type": "code",
   "execution_count": null,
   "id": "atmospheric-queue",
   "metadata": {},
   "outputs": [],
   "source": [
    "ncs_b = ncs1[,c(1, (grep('V250$', ncs_col)+1):grep('V948$', ncs_col))]"
   ]
  },
  {
   "cell_type": "code",
   "execution_count": null,
   "id": "interracial-weight",
   "metadata": {},
   "outputs": [],
   "source": [
    "ncs_c = ncs1[,c(1, (grep('V948$', ncs_col)+1):grep('V1016$', ncs_col))]"
   ]
  },
  {
   "cell_type": "code",
   "execution_count": null,
   "id": "downtown-dragon",
   "metadata": {},
   "outputs": [],
   "source": [
    "ncs_d = ncs1[,c(1, (grep('V1016$', ncs_col)+1):grep('V1559$', ncs_col))]"
   ]
  },
  {
   "cell_type": "code",
   "execution_count": null,
   "id": "retained-caution",
   "metadata": {},
   "outputs": [],
   "source": [
    "ncs_e = ncs1[,c(1, (grep('V1559$', ncs_col)+1):grep('V1757$', ncs_col))]"
   ]
  },
  {
   "cell_type": "code",
   "execution_count": null,
   "id": "julian-thousand",
   "metadata": {},
   "outputs": [],
   "source": [
    "ncs_f = ncs1[,c(1, (grep('V1757$', ncs_col)+1):grep('V1816$', ncs_col))]"
   ]
  },
  {
   "cell_type": "code",
   "execution_count": null,
   "id": "central-warner",
   "metadata": {},
   "outputs": [],
   "source": [
    "ncs_g = ncs1[,c(1, (grep('V1816$', ncs_col)+1):grep('V3757$', ncs_col))]"
   ]
  },
  {
   "cell_type": "code",
   "execution_count": null,
   "id": "anticipated-feedback",
   "metadata": {},
   "outputs": [],
   "source": [
    "ncs_h = ncs1[,c(1, (grep('V3757$', ncs_col)+1):grep('V3817$', ncs_col))]"
   ]
  },
  {
   "cell_type": "code",
   "execution_count": null,
   "id": "atmospheric-companion",
   "metadata": {},
   "outputs": [],
   "source": [
    "ncs_j = ncs1[,c(1, (grep('V3817$', ncs_col)+1):grep('V3936$', ncs_col))]"
   ]
  },
  {
   "cell_type": "code",
   "execution_count": null,
   "id": "painted-blame",
   "metadata": {},
   "outputs": [],
   "source": [
    "head(ncs_j)"
   ]
  }
 ],
 "metadata": {
  "kernelspec": {
   "display_name": "R",
   "language": "R",
   "name": "ir"
  },
  "language_info": {
   "codemirror_mode": "r",
   "file_extension": ".r",
   "mimetype": "text/x-r-source",
   "name": "R",
   "pygments_lexer": "r",
   "version": "3.6.1"
  }
 },
 "nbformat": 4,
 "nbformat_minor": 5
}
