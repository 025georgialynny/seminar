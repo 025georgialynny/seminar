{
 "cells": [
  {
   "cell_type": "code",
   "execution_count": 1,
   "metadata": {},
   "outputs": [],
   "source": [
    "import numpy\n",
    "#import tick\n",
    "from tick import hawkes\n",
    "import pandas as pd\n",
    "#import ncsr_import\n",
    "import numpy as np\n",
    "from tick.plot import plot_hawkes_kernels"
   ]
  },
  {
   "cell_type": "code",
   "execution_count": 2,
   "metadata": {},
   "outputs": [],
   "source": [
    "adj = pd.read_csv('all_adjacency_matrix.csv', index_col=0)\n",
    "age = pd.read_csv('justage_vars_init.csv', index_col=0)\n",
    "ncsr = ncsr_import.ncsr_data()\n",
    "age_mdd = pd.read_csv('age_mdd.csv', index_col=0)\n",
    "all_vars = pd.read_csv('all_vars_ncsr.csv', index_col=0)"
   ]
  },
  {
   "cell_type": "markdown",
   "metadata": {
    "tags": []
   },
   "source": [
    "ncsr_var_desc =  pd.DataFrame(columns = ['VarName', 'Description', 'Root_DF', 'Start', 'End', 'DataFrame', 'recursion_flag'])\n",
    "\n",
    "for x in ncsr.root.iloc[:,0]:\n",
    "    ncsr_var_desc = ncsr_var_desc.append(ncsr.get_value_from_string(x))\n",
    "\n",
    "ncsr_var_desc = ncsr_var_desc.reset_index(drop=True)\n",
    "ncsr_var_desc.to_csv(\"all_vars_ncsr.csv\")"
   ]
  },
  {
   "cell_type": "code",
   "execution_count": 3,
   "metadata": {},
   "outputs": [],
   "source": [
    "# MDD is 3380\n",
    "\n",
    "#mdd = ncsr.ncsr[ncsr.ncsr.iloc[:, 3380] == 1]"
   ]
  },
  {
   "cell_type": "code",
   "execution_count": 4,
   "metadata": {},
   "outputs": [],
   "source": [
    "#age_mdd = age.iloc[mdd.index, :].reset_index(drop = True)"
   ]
  },
  {
   "cell_type": "code",
   "execution_count": 5,
   "metadata": {},
   "outputs": [],
   "source": [
    "#age_mdd.to_csv('age_mdd.csv')"
   ]
  },
  {
   "cell_type": "code",
   "execution_count": 6,
   "metadata": {},
   "outputs": [],
   "source": [
    "msk = np.random.rand(len(age_mdd)) < 0.02"
   ]
  },
  {
   "cell_type": "code",
   "execution_count": 7,
   "metadata": {},
   "outputs": [],
   "source": [
    "mdd_train = age_mdd[msk]\n",
    "mdd_test = age_mdd[~msk]"
   ]
  },
  {
   "cell_type": "code",
   "execution_count": 8,
   "metadata": {},
   "outputs": [],
   "source": [
    "mdd_train = [ np.array(x) for x in mdd_train.values.tolist()]\n",
    "mdd_train = [x.astype(float) for x in mdd_train]"
   ]
  },
  {
   "cell_type": "code",
   "execution_count": 9,
   "metadata": {},
   "outputs": [
    {
     "data": {
      "text/plain": [
       "28"
      ]
     },
     "execution_count": 9,
     "metadata": {},
     "output_type": "execute_result"
    }
   ],
   "source": [
    "train_dim = len(mdd_train)\n",
    "train_dim"
   ]
  },
  {
   "cell_type": "code",
   "execution_count": 10,
   "metadata": {},
   "outputs": [],
   "source": [
    "learner = hawkes.HawkesEM(train_dim,  n_threads=2, verbose = True, tol = 1e-3)"
   ]
  },
  {
   "cell_type": "code",
   "execution_count": null,
   "metadata": {},
   "outputs": [],
   "source": [
    "learner.fit(mdd_train)"
   ]
  },
  {
   "cell_type": "code",
   "execution_count": null,
   "metadata": {
    "scrolled": true
   },
   "outputs": [],
   "source": [
    "plot_hawkes_kernels(learner)"
   ]
  },
  {
   "cell_type": "code",
   "execution_count": null,
   "metadata": {},
   "outputs": [],
   "source": []
  }
 ],
 "metadata": {
  "kernelspec": {
   "display_name": "Python 3",
   "language": "python",
   "name": "python3"
  },
  "language_info": {
   "codemirror_mode": {
    "name": "ipython",
    "version": 3
   },
   "file_extension": ".py",
   "mimetype": "text/x-python",
   "name": "python",
   "nbconvert_exporter": "python",
   "pygments_lexer": "ipython3",
   "version": "3.8.5"
  }
 },
 "nbformat": 4,
 "nbformat_minor": 4
}
