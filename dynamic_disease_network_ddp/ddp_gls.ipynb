{
 "cells": [
  {
   "cell_type": "code",
   "execution_count": 4,
   "metadata": {},
   "outputs": [],
   "source": [
    "import pickle\n",
    "import torch\n",
    "import torch.optim as optim\n",
    "import numpy as np\n",
    "import matplotlib\n",
    "import matplotlib.pyplot as plt\n",
    "import data_loader\n",
    "import models\n",
    "import pandas as pd\n",
    "\n",
    "ncsr = pd.read_csv('../justage_vars_init.csv', index_col=0)\n",
    "pkl = open('../gad_ncsr_for_ddp.pickle', \"rb\")\n",
    "dpp_data = {}\n",
    "dpp_data['ncsr'] = pickle.load(pkl)\n",
    "ddp_data = dpp_data\n",
    "pkl.close()\n",
    "\n",
    "max_len = max([len(ddp_data['ncsr'][x]) for  x in range(len(ddp_data['ncsr']))])\n",
    "n_event_type = dim_process = len(ncsr.columns) \n",
    "n_sample = len(ddp_data['ncsr'])\n",
    "context_dim = 1\n",
    "\n",
    "\n",
    "train_input = data_loader.process_seq(ddp_data, list(range(n_sample)), max_len=max_len, n_event_type=n_event_type, tag_batch = 'ncsr', dtype=np.float32)\n",
    "\n",
    "batch_input_np = list(train_input)\n",
    "df_patient_static_mat = np.ones((1, n_sample)).astype('float32')\n",
    "batch_input_np.append(df_patient_static_mat)\n",
    "\n",
    "\n",
    "gap = batch_input_np[0][:-1, :] - batch_input_np[0][1:, :]\n",
    "gap_mean = np.mean(gap)\n",
    "gap_std = np.std(gap)\n",
    "\n",
    "ddp_model = pickle.load(open('../gad_ddp_1_model.pkl', 'rb'))"
   ]
  },
  {
   "cell_type": "code",
   "execution_count": 98,
   "metadata": {},
   "outputs": [],
   "source": [
    "max_len = max([len(ddp_data['ncsr'][x]) for  x in range(len(ddp_data['ncsr']))])\n",
    "n_event_type = dim_process = len(ncsr.columns) \n",
    "n_sample = len(ddp_data['ncsr'])\n",
    "context_dim = 1\n",
    "test_data = {}\n",
    "test_data['ncsr'] = []\n",
    "test_data['ncsr'].append(ddp_data['ncsr'][8][0:1])\n",
    "\n",
    "\n",
    "tst = data_loader.process_seq(test_data, list(range(1)), max_len=max_len, n_event_type=n_event_type, tag_batch = 'ncsr', dtype=np.float32)\n",
    "batch_input_np = list(tst)\n",
    "\n",
    "n_record = tst[0].shape[1]\n",
    "\n",
    "df_patient_static_mat = np.ones((1, n_sample)).astype('float32')\n",
    "batch_input_np.append(df_patient_static_mat)\n",
    "tst = batch_input_np\n",
    "idx = np.random.choice(list(range(n_record)), size=1, replace=False)\n",
    "mini_batch = list(map(lambda x: torch.tensor(x[..., idx]), tst))\n",
    "ddp_model.set_input(*mini_batch)"
   ]
  },
  {
   "cell_type": "code",
   "execution_count": 104,
   "metadata": {},
   "outputs": [],
   "source": [
    "with torch.no_grad():\n",
    "            ddp_model.update_state_given_event(torch.tensor([ 0.16901408450704225]), torch.tensor([287]))\n",
    "            #ddp_model.forward()\n",
    "            x = ddp_model.get_prediction()\n",
    "            y = ddp_model.next_event_time(100)"
   ]
  },
  {
   "cell_type": "code",
   "execution_count": null,
   "metadata": {},
   "outputs": [],
   "source": []
  },
  {
   "cell_type": "code",
   "execution_count": 92,
   "metadata": {},
   "outputs": [
    {
     "data": {
      "text/plain": [
       "{'idx_event': 4,\n",
       " 'type_event': 287,\n",
       " 'time_since_start': 0.16901408450704225,\n",
       " 'time_since_last_same_event': 0.16901408450704225,\n",
       " 'time_since_last_event': 0.11267605633802816}"
      ]
     },
     "execution_count": 92,
     "metadata": {},
     "output_type": "execute_result"
    }
   ],
   "source": [
    "ddp_data['ncsr'][8][3]"
   ]
  },
  {
   "cell_type": "markdown",
   "metadata": {},
   "source": [
    "ddp_model.get_prediction() dim: 309x126x2\n",
    "\n",
    "get_prediction:  symptom -> timepoint -> case\n"
   ]
  },
  {
   "cell_type": "code",
   "execution_count": 69,
   "metadata": {},
   "outputs": [],
   "source": [
    "chawkes = models.CHawkes(\n",
    "    n_event_type=n_event_type, \n",
    "    n_context_dim=context_dim, \n",
    "    first_occurrence_only=False, \n",
    "    #alpha_mat_np=alpha_init,\n",
    "    #lambda_mat_np=lambda_init,\n",
    ")"
   ]
  },
  {
   "cell_type": "code",
   "execution_count": 71,
   "metadata": {},
   "outputs": [
    {
     "data": {
      "text/plain": [
       "tensor([-6598.0791], grad_fn=<SubBackward0>)"
      ]
     },
     "execution_count": 71,
     "metadata": {},
     "output_type": "execute_result"
    }
   ],
   "source": [
    "chawkes.set_input(*mini_batch)\n",
    "chawkes.forward()\n",
    "chawkes.get_likelihood_seq()"
   ]
  },
  {
   "cell_type": "code",
   "execution_count": 174,
   "metadata": {},
   "outputs": [],
   "source": [
    "for idx, x in enumerate(case_batch):\n",
    "    case_batch[idx][x!=0]  =  0"
   ]
  },
  {
   "cell_type": "code",
   "execution_count": 175,
   "metadata": {},
   "outputs": [],
   "source": [
    "case_batch[8][0] = torch.Tensor([np.float32(1.0)]).type(torch.FloatTensor)"
   ]
  },
  {
   "cell_type": "code",
   "execution_count": 227,
   "metadata": {},
   "outputs": [
    {
     "data": {
      "text/plain": [
       "list"
      ]
     },
     "execution_count": 227,
     "metadata": {},
     "output_type": "execute_result"
    }
   ],
   "source": [
    "type(case_batch)"
   ]
  },
  {
   "cell_type": "code",
   "execution_count": null,
   "metadata": {},
   "outputs": [],
   "source": []
  }
 ],
 "metadata": {
  "kernelspec": {
   "display_name": "Python 3",
   "language": "python",
   "name": "python3"
  },
  "language_info": {
   "codemirror_mode": {
    "name": "ipython",
    "version": 3
   },
   "file_extension": ".py",
   "mimetype": "text/x-python",
   "name": "python",
   "nbconvert_exporter": "python",
   "pygments_lexer": "ipython3",
   "version": "3.8.5"
  }
 },
 "nbformat": 4,
 "nbformat_minor": 4
}
