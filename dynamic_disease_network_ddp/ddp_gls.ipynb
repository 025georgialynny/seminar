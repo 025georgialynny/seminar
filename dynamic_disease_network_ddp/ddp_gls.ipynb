{
 "metadata": {
  "language_info": {
   "codemirror_mode": {
    "name": "ipython",
    "version": 3
   },
   "file_extension": ".py",
   "mimetype": "text/x-python",
   "name": "python",
   "nbconvert_exporter": "python",
   "pygments_lexer": "ipython3",
   "version": 3
  },
  "orig_nbformat": 2
 },
 "nbformat": 4,
 "nbformat_minor": 2,
 "cells": [
  {
   "cell_type": "code",
   "execution_count": null,
   "metadata": {},
   "outputs": [],
   "source": [
    "import pickle\n",
    "import torch\n",
    "import torch.optim as optim\n",
    "import numpy as np\n",
    "import matplotlib\n",
    "import matplotlib.pyplot as plt\n",
    "import data_loader\n",
    "import models\n",
    "import pandas as pd\n",
    "\n",
    "ncsr = pd.read_csv('../justage_vars_init.csv', index_col=0)\n",
    "pkl = open('../ncsr_for_ddp.pickle', \"rb\")\n",
    "dpp_data = {}\n",
    "dpp_data['ncsr'] = pickle.load(pkl)\n",
    "pkl.close()"
   ]
  }
 ]
}