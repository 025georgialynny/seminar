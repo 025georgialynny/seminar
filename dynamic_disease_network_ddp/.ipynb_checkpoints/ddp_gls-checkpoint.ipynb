{
 "metadata": {
  "language_info": {
   "codemirror_mode": {
    "name": "ipython",
    "version": 3
   },
   "file_extension": ".py",
   "mimetype": "text/x-python",
   "name": "python",
   "nbconvert_exporter": "python",
   "pygments_lexer": "ipython3",
   "version": "3.8.5-final"
  },
  "orig_nbformat": 2,
  "kernelspec": {
   "name": "python3",
   "display_name": "Python 3.8.5 64-bit ('galyn': virtualenv)",
   "metadata": {
    "interpreter": {
     "hash": "8ca28b1d433ae75eab343bd246052c2243632e123f07554f7cebf0e78e390e86"
    }
   }
  }
 },
 "nbformat": 4,
 "nbformat_minor": 2,
 "cells": [
  {
   "cell_type": "code",
   "execution_count": 1,
   "metadata": {},
   "outputs": [],
   "source": [
    "import pickle\n",
    "import torch\n",
    "import torch.optim as optim\n",
    "import numpy as np\n",
    "import matplotlib\n",
    "import matplotlib.pyplot as plt\n",
    "import data_loader\n",
    "import models\n",
    "import pandas as pd\n",
    "\n",
    "ncsr = pd.read_csv('../justage_vars_init.csv', index_col=0)\n",
    "pkl = open('../ncsr_for_ddp.pickle', \"rb\")\n",
    "dpp_data = {}\n",
    "dpp_data['ncsr'] = pickle.load(pkl)\n",
    "ddp_data = dpp_data\n",
    "pkl.close()\n",
    "\n",
    "max_len = max([len(ddp_data['ncsr'][x]) for  x in range(len(ddp_data['ncsr']))])\n",
    "n_event_type = dim_process = len(ncsr.columns) \n",
    "n_sample = len(ddp_data['ncsr'])\n",
    "context_dim = 1\n",
    "\n",
    "\n",
    "train_input = data_loader.process_seq(ddp_data, list(range(n_sample)), max_len=max_len, n_event_type=n_event_type, tag_batch = 'ncsr', dtype=np.float32)\n",
    "\n",
    "batch_input_np = list(train_input)\n",
    "df_patient_static_mat = np.ones((1, n_sample)).astype('float32')\n",
    "batch_input_np.append(df_patient_static_mat)\n",
    "\n",
    "\n",
    "gap = batch_input_np[0][:-1, :] - batch_input_np[0][1:, :]\n",
    "gap_mean = np.mean(gap)\n",
    "gap_std = np.std(gap)\n",
    "\n",
    "ddp_model = pickle.load(open('tst.pkl', 'rb'))"
   ]
  },
  {
   "cell_type": "code",
   "execution_count": 2,
   "metadata": {},
   "outputs": [],
   "source": [
    "case_batch = data_loader.get_case_batch([3,4], batch_input_np)"
   ]
  },
  {
   "cell_type": "code",
   "execution_count": 46,
   "metadata": {},
   "outputs": [
    {
     "output_type": "stream",
     "name": "stdout",
     "text": [
      "[[0. 0.]\n [0. 0.]\n [0. 0.]\n [0. 0.]\n [0. 0.]\n [0. 0.]\n [0. 0.]\n [0. 0.]\n [0. 0.]\n [0. 0.]\n [0. 0.]\n [0. 0.]\n [0. 0.]\n [0. 0.]\n [0. 0.]\n [0. 0.]\n [0. 0.]\n [0. 0.]\n [0. 0.]\n [0. 0.]\n [0. 0.]\n [0. 0.]\n [0. 0.]\n [0. 0.]\n [0. 0.]\n [0. 0.]\n [0. 0.]\n [0. 0.]\n [0. 0.]\n [0. 0.]\n [0. 0.]\n [0. 0.]\n [0. 0.]\n [0. 0.]\n [0. 0.]\n [0. 0.]\n [0. 0.]\n [0. 0.]\n [0. 0.]\n [0. 0.]\n [0. 0.]\n [0. 0.]\n [0. 0.]\n [0. 0.]\n [0. 0.]\n [0. 0.]\n [0. 0.]\n [0. 0.]\n [0. 0.]\n [0. 0.]\n [0. 0.]\n [0. 0.]\n [0. 0.]\n [0. 0.]\n [0. 0.]\n [0. 0.]\n [0. 0.]\n [0. 0.]\n [0. 0.]\n [0. 0.]\n [0. 0.]\n [0. 0.]\n [0. 0.]\n [0. 0.]\n [0. 0.]\n [0. 0.]\n [0. 0.]\n [0. 0.]\n [0. 0.]\n [0. 0.]\n [0. 0.]\n [0. 0.]\n [0. 0.]\n [0. 0.]\n [0. 0.]\n [0. 0.]\n [0. 0.]\n [0. 0.]\n [0. 0.]\n [0. 0.]\n [0. 0.]\n [0. 0.]\n [0. 0.]\n [0. 0.]\n [0. 0.]\n [0. 0.]\n [0. 0.]\n [0. 0.]\n [0. 0.]\n [0. 0.]\n [0. 0.]\n [0. 0.]\n [0. 0.]\n [0. 0.]\n [0. 0.]\n [0. 0.]\n [0. 0.]\n [0. 0.]\n [0. 0.]\n [0. 0.]\n [0. 0.]\n [0. 0.]\n [0. 0.]\n [0. 0.]\n [0. 0.]\n [0. 0.]\n [0. 0.]\n [0. 0.]\n [0. 0.]\n [0. 0.]\n [0. 0.]\n [0. 0.]\n [0. 0.]\n [0. 0.]\n [0. 0.]\n [0. 0.]\n [0. 0.]\n [0. 0.]\n [0. 0.]\n [0. 0.]\n [0. 0.]\n [0. 0.]\n [0. 0.]\n [0. 0.]\n [0. 0.]\n [0. 0.]]\n"
     ]
    }
   ],
   "source": [
    "with torch.no_grad():\n",
    "            ddp_model.set_input(*case_batch)\n",
    "\n",
    "            x = ddp_model.get_prediction()\n",
    "            print(ddp_model.graph_weights_seq.numpy())"
   ]
  },
  {
   "cell_type": "code",
   "execution_count": 24,
   "metadata": {},
   "outputs": [
    {
     "output_type": "stream",
     "name": "stdout",
     "text": [
      "[5289 4934]\n"
     ]
    }
   ],
   "source": [
    "batch_size = 2\n",
    "n_record = batch_input_np[0].shape[1]\n",
    "idx = np.random.choice(list(range(n_record)), size=batch_size, replace=False)\n",
    "print(idx)\n",
    "mini_batch = map(lambda x: torch.tensor(x[..., idx]), batch_input_np)\n",
    "mini_batch = list(mini_batch)"
   ]
  },
  {
   "cell_type": "code",
   "execution_count": 44,
   "metadata": {},
   "outputs": [
    {
     "output_type": "execute_result",
     "data": {
      "text/plain": [
       "tensor([[0., 0.],\n",
       "        [0., 0.],\n",
       "        [0., 0.],\n",
       "        [0., 0.],\n",
       "        [0., 0.],\n",
       "        [0., 0.],\n",
       "        [0., 0.],\n",
       "        [0., 0.],\n",
       "        [0., 0.],\n",
       "        [0., 0.],\n",
       "        [0., 0.],\n",
       "        [0., 0.],\n",
       "        [0., 0.],\n",
       "        [0., 0.],\n",
       "        [0., 0.],\n",
       "        [0., 0.],\n",
       "        [0., 0.],\n",
       "        [0., 0.],\n",
       "        [0., 0.],\n",
       "        [0., 0.],\n",
       "        [0., 0.],\n",
       "        [0., 0.],\n",
       "        [0., 0.],\n",
       "        [0., 0.],\n",
       "        [0., 0.],\n",
       "        [0., 0.],\n",
       "        [0., 0.],\n",
       "        [0., 0.],\n",
       "        [0., 0.],\n",
       "        [0., 0.],\n",
       "        [0., 0.],\n",
       "        [0., 0.],\n",
       "        [0., 0.],\n",
       "        [0., 0.],\n",
       "        [0., 0.],\n",
       "        [0., 0.],\n",
       "        [0., 0.],\n",
       "        [0., 0.],\n",
       "        [0., 0.],\n",
       "        [0., 0.],\n",
       "        [0., 0.],\n",
       "        [0., 0.],\n",
       "        [0., 0.],\n",
       "        [0., 0.],\n",
       "        [0., 0.],\n",
       "        [0., 0.],\n",
       "        [0., 0.],\n",
       "        [0., 0.],\n",
       "        [0., 0.],\n",
       "        [0., 0.],\n",
       "        [0., 0.],\n",
       "        [0., 0.],\n",
       "        [0., 0.],\n",
       "        [0., 0.],\n",
       "        [0., 0.],\n",
       "        [0., 0.],\n",
       "        [0., 0.],\n",
       "        [0., 0.],\n",
       "        [0., 0.],\n",
       "        [0., 0.],\n",
       "        [0., 0.],\n",
       "        [0., 0.],\n",
       "        [0., 0.],\n",
       "        [0., 0.],\n",
       "        [0., 0.],\n",
       "        [0., 0.],\n",
       "        [0., 0.],\n",
       "        [0., 0.],\n",
       "        [0., 0.],\n",
       "        [0., 0.],\n",
       "        [0., 0.],\n",
       "        [0., 0.],\n",
       "        [0., 0.],\n",
       "        [0., 0.],\n",
       "        [0., 0.],\n",
       "        [0., 0.],\n",
       "        [0., 0.],\n",
       "        [0., 0.],\n",
       "        [0., 0.],\n",
       "        [0., 0.],\n",
       "        [0., 0.],\n",
       "        [0., 0.],\n",
       "        [0., 0.],\n",
       "        [0., 0.],\n",
       "        [0., 0.],\n",
       "        [0., 0.],\n",
       "        [0., 0.],\n",
       "        [0., 0.],\n",
       "        [0., 0.],\n",
       "        [0., 0.],\n",
       "        [0., 0.],\n",
       "        [0., 0.],\n",
       "        [0., 0.],\n",
       "        [0., 0.],\n",
       "        [0., 0.],\n",
       "        [0., 0.],\n",
       "        [0., 0.],\n",
       "        [0., 0.],\n",
       "        [0., 0.],\n",
       "        [0., 0.],\n",
       "        [0., 0.],\n",
       "        [0., 0.],\n",
       "        [0., 0.],\n",
       "        [0., 0.],\n",
       "        [0., 0.],\n",
       "        [0., 0.],\n",
       "        [0., 0.],\n",
       "        [0., 0.],\n",
       "        [0., 0.],\n",
       "        [0., 0.],\n",
       "        [0., 0.],\n",
       "        [0., 0.],\n",
       "        [0., 0.],\n",
       "        [0., 0.],\n",
       "        [0., 0.],\n",
       "        [0., 0.],\n",
       "        [0., 0.],\n",
       "        [0., 0.],\n",
       "        [0., 0.],\n",
       "        [0., 0.],\n",
       "        [0., 0.],\n",
       "        [0., 0.],\n",
       "        [0., 0.],\n",
       "        [0., 0.],\n",
       "        [0., 0.],\n",
       "        [0., 0.]])"
      ]
     },
     "metadata": {},
     "execution_count": 44
    }
   ],
   "source": [
    "ddp_model.graph_weights_seq\n"
   ]
  },
  {
   "source": [
    "ddp_model.get_prediction() dim: 309x126x2\n",
    "\n",
    "get_prediction:  symptom -> timepoint -> case\n"
   ],
   "cell_type": "markdown",
   "metadata": {}
  },
  {
   "cell_type": "code",
   "execution_count": 31,
   "metadata": {},
   "outputs": [
    {
     "output_type": "execute_result",
     "data": {
      "text/plain": [
       "[{'idx_event': 1,\n",
       "  'type_event': 246,\n",
       "  'time_since_start': 0.04,\n",
       "  'time_since_last_same_event': 0.04,\n",
       "  'time_since_last_event': 0.04},\n",
       " {'idx_event': 2,\n",
       "  'type_event': 247,\n",
       "  'time_since_start': 0.04,\n",
       "  'time_since_last_same_event': 0.04,\n",
       "  'time_since_last_event': 0.0},\n",
       " {'idx_event': 3,\n",
       "  'type_event': 219,\n",
       "  'time_since_start': 0.14,\n",
       "  'time_since_last_same_event': 0.14,\n",
       "  'time_since_last_event': 0.1},\n",
       " {'idx_event': 4,\n",
       "  'type_event': 220,\n",
       "  'time_since_start': 0.14,\n",
       "  'time_since_last_same_event': 0.14,\n",
       "  'time_since_last_event': 0.0},\n",
       " {'idx_event': 5,\n",
       "  'type_event': 179,\n",
       "  'time_since_start': 0.14,\n",
       "  'time_since_last_same_event': 0.14,\n",
       "  'time_since_last_event': 0.0},\n",
       " {'idx_event': 6,\n",
       "  'type_event': 284,\n",
       "  'time_since_start': 0.14,\n",
       "  'time_since_last_same_event': 0.14,\n",
       "  'time_since_last_event': 0.0},\n",
       " {'idx_event': 7,\n",
       "  'type_event': 223,\n",
       "  'time_since_start': 0.24,\n",
       "  'time_since_last_same_event': 0.24,\n",
       "  'time_since_last_event': 0.09999999999999998},\n",
       " {'idx_event': 8,\n",
       "  'type_event': 224,\n",
       "  'time_since_start': 0.24,\n",
       "  'time_since_last_same_event': 0.24,\n",
       "  'time_since_last_event': 0.0},\n",
       " {'idx_event': 9,\n",
       "  'type_event': 285,\n",
       "  'time_since_start': 0.24,\n",
       "  'time_since_last_same_event': 0.24,\n",
       "  'time_since_last_event': 0.0}]"
      ]
     },
     "metadata": {},
     "execution_count": 31
    }
   ],
   "source": [
    "ddp_data['ncsr'][5289]"
   ]
  }
 ]
}