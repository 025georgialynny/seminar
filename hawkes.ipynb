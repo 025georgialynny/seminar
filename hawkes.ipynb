{
 "metadata": {
  "language_info": {
   "codemirror_mode": {
    "name": "ipython",
    "version": 3
   },
   "file_extension": ".py",
   "mimetype": "text/x-python",
   "name": "python",
   "nbconvert_exporter": "python",
   "pygments_lexer": "ipython3",
   "version": "3.8.5-final"
  },
  "orig_nbformat": 2,
  "kernelspec": {
   "name": "python3",
   "display_name": "Python 3.8.5 64-bit (conda)",
   "metadata": {
    "interpreter": {
     "hash": "8ca28b1d433ae75eab343bd246052c2243632e123f07554f7cebf0e78e390e86"
    }
   }
  }
 },
 "nbformat": 4,
 "nbformat_minor": 2,
 "cells": [
  {
   "cell_type": "code",
   "execution_count": 2,
   "metadata": {},
   "outputs": [],
   "source": [
    "import numpy\n",
    "from tick import hawkes\n",
    "import pandas as pd\n",
    "import ncsr_import\n",
    "import numpy as np"
   ]
  },
  {
   "cell_type": "code",
   "execution_count": 3,
   "metadata": {},
   "outputs": [
    {
     "output_type": "stream",
     "name": "stderr",
     "text": [
      "C:\\Users\\galyn\\miniconda3\\lib\\site-packages\\IPython\\core\\interactiveshell.py:3427: DtypeWarning: Columns (910,953,3340,3518,3573,3581,3582,3583,3584,3616,3620,3711) have mixed types.Specify dtype option on import or set low_memory=False.\n  exec(code_obj, self.user_global_ns, self.user_ns)\n"
     ]
    }
   ],
   "source": [
    "adj = pd.read_csv('all_adjacency_matrix.csv', index_col=0)\n",
    "age = pd.read_csv('justage_vars_init.csv', index_col=0)\n",
    "ncsr = ncsr_import.ncsr_data()\n",
    "all_vars = pd.read_csv('all_vars_ncsr.csv', index_col=0)"
   ]
  },
  {
   "source": [
    "ncsr_var_desc =  pd.DataFrame(columns = ['VarName', 'Description', 'Root_DF', 'Start', 'End', 'DataFrame', 'recursion_flag'])\n",
    "\n",
    "for x in ncsr.root.iloc[:,0]:\n",
    "    ncsr_var_desc = ncsr_var_desc.append(ncsr.get_value_from_string(x))\n",
    "\n",
    "ncsr_var_desc = ncsr_var_desc.reset_index(drop=True)\n",
    "ncsr_var_desc.to_csv(\"all_vars_ncsr.csv\")"
   ],
   "cell_type": "markdown",
   "metadata": {
    "tags": []
   }
  },
  {
   "cell_type": "code",
   "execution_count": 4,
   "metadata": {},
   "outputs": [],
   "source": [
    "# MDD is 3380\n",
    "\n",
    "mdd = ncsr.ncsr[ncsr.ncsr.iloc[:, 3380] == 1]"
   ]
  },
  {
   "cell_type": "code",
   "execution_count": 5,
   "metadata": {},
   "outputs": [],
   "source": [
    "age_mdd = age.iloc[mdd.index, :].reset_index(drop = True)"
   ]
  },
  {
   "cell_type": "code",
   "execution_count": 6,
   "metadata": {},
   "outputs": [],
   "source": [
    "msk = np.random.rand(len(age_mdd)) < 0.8"
   ]
  },
  {
   "cell_type": "code",
   "execution_count": 7,
   "metadata": {},
   "outputs": [],
   "source": [
    "mdd_train = age_mdd[msk]\n",
    "mdd_test = age_mdd[~msk]"
   ]
  },
  {
   "cell_type": "code",
   "execution_count": 8,
   "metadata": {},
   "outputs": [],
   "source": [
    "mdd_train = [ np.array(x) for x in mdd_train.values.tolist()]\n",
    "mdd_train = [x.astype(float) for x in mdd_train]"
   ]
  },
  {
   "cell_type": "code",
   "execution_count": 9,
   "metadata": {},
   "outputs": [],
   "source": [
    "train_dim = len(mdd_train)"
   ]
  },
  {
   "cell_type": "code",
   "execution_count": 11,
   "metadata": {},
   "outputs": [],
   "source": [
    "learner = hawkes.HawkesEM(train_dim,  n_threads=8, verbose = True, tol = 1e-3)"
   ]
  },
  {
   "cell_type": "code",
   "execution_count": 12,
   "metadata": {},
   "outputs": [
    {
     "output_type": "stream",
     "name": "stdout",
     "text": [
      "Launching the solver HawkesEM...\n"
     ]
    }
   ],
   "source": [
    "learner.fit(mdd_train)"
   ]
  },
  {
   "cell_type": "code",
   "execution_count": 1,
   "metadata": {},
   "outputs": [
    {
     "output_type": "error",
     "ename": "NameError",
     "evalue": "name 'learner' is not defined",
     "traceback": [
      "\u001b[1;31m---------------------------------------------------------------------------\u001b[0m",
      "\u001b[1;31mNameError\u001b[0m                                 Traceback (most recent call last)",
      "\u001b[1;32m<ipython-input-1-dd76d58eeee1>\u001b[0m in \u001b[0;36m<module>\u001b[1;34m\u001b[0m\n\u001b[1;32m----> 1\u001b[1;33m \u001b[0mlearner\u001b[0m\u001b[1;33m\u001b[0m\u001b[1;33m\u001b[0m\u001b[0m\n\u001b[0m",
      "\u001b[1;31mNameError\u001b[0m: name 'learner' is not defined"
     ]
    }
   ],
   "source": [
    "learner"
   ]
  }
 ]
}