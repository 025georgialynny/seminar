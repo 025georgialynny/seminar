{
 "metadata": {
  "language_info": {
   "codemirror_mode": {
    "name": "ipython",
    "version": 3
   },
   "file_extension": ".py",
   "mimetype": "text/x-python",
   "name": "python",
   "nbconvert_exporter": "python",
   "pygments_lexer": "ipython3",
   "version": "3.8.5-final"
  },
  "orig_nbformat": 2,
  "kernelspec": {
   "name": "python3",
   "display_name": "Python 3.8.5 64-bit (conda)",
   "metadata": {
    "interpreter": {
     "hash": "8ca28b1d433ae75eab343bd246052c2243632e123f07554f7cebf0e78e390e86"
    }
   }
  }
 },
 "nbformat": 4,
 "nbformat_minor": 2,
 "cells": [
  {
   "cell_type": "code",
   "execution_count": 1,
   "metadata": {},
   "outputs": [],
   "source": [
    "import matplotlib as matplot\n",
    "import seaborn\n",
    "import bokeh\n",
    "import keras\n",
    "import scipy\n",
    "import plotly\n",
    "import plotly.express as pe\n",
    "import numpy\n",
    "import pandas as pd\n",
    "from get_tree_data import ncs1_data\n",
    "import re\n",
    "# import block"
   ]
  },
  {
   "cell_type": "code",
   "execution_count": 2,
   "metadata": {},
   "outputs": [],
   "source": [
    "ncs1 = ncs1_data()\n",
    "  # ncs1 holds all of the data from NCS 006693\n",
    "  # Includes ncs1.dxdm (DS0002 DataFrame) and ncs1.survey (DS001 DataFrame)\n",
    "  # Key Functions:\n",
    "    # ncs1.search_for_description looks for a descriotion of a column name in ncs1.dxdm or ncs1.survey\n",
    "  # Key Variables:\n",
    "    # ncs1.dxdm (DS0002)\n",
    "    # ncs1.survey (DS0001)\n",
    "    # ncs1.tree (Tree including descriptions of survey and dxdm columns)\n",
    "    # ncs1.root (root used in traversing ncs1.tree)"
   ]
  }
 ]
}