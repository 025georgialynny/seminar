{
 "metadata": {
  "language_info": {
   "codemirror_mode": {
    "name": "ipython",
    "version": 3
   },
   "file_extension": ".py",
   "mimetype": "text/x-python",
   "name": "python",
   "nbconvert_exporter": "python",
   "pygments_lexer": "ipython3",
   "version": "3.8.5-final"
  },
  "orig_nbformat": 2,
  "kernelspec": {
   "name": "python3",
   "display_name": "Python 3.8.5 64-bit (conda)",
   "metadata": {
    "interpreter": {
     "hash": "8ca28b1d433ae75eab343bd246052c2243632e123f07554f7cebf0e78e390e86"
    }
   }
  }
 },
 "nbformat": 4,
 "nbformat_minor": 2,
 "cells": [
  {
   "cell_type": "code",
   "execution_count": 1,
   "metadata": {},
   "outputs": [],
   "source": [
    "import matplotlib as matplot\n",
    "import seaborn\n",
    "import bokeh\n",
    "import keras\n",
    "import scipy\n",
    "import plotly\n",
    "import plotly.express as pe\n",
    "import numpy\n",
    "import pandas as pd\n",
    "from get_tree_data import ncs1_data\n",
    "import re\n",
    "# import block"
   ]
  },
  {
   "cell_type": "code",
   "execution_count": 2,
   "metadata": {},
   "outputs": [],
   "source": [
    "ncs1 = ncs1_data()\n",
    "  # ncs1 holds all of the data from NCS 006693\n",
    "  # Includes ncs1.dxdm (DS0002 DataFrame) and ncs1.survey (DS001 DataFrame)\n",
    "  # Key Functions:\n",
    "    # ncs1.search_for_description looks for a descriotion of a column name in ncs1.dxdm or ncs1.survey\n",
    "  # Key Variables:\n",
    "    # ncs1.dxdm (DS0002)\n",
    "    # ncs1.survey (DS0001)\n",
    "    # ncs1.tree (Tree including descriptions of survey and dxdm columns)\n",
    "    # ncs1.root (root used in traversing ncs1.tree)"
   ]
  },
  {
   "cell_type": "code",
   "execution_count": 3,
   "metadata": {},
   "outputs": [
    {
     "output_type": "execute_result",
     "data": {
      "text/plain": [
       "   VarName                      Description           Root_DF Start End  \\\n",
       "0   AGO1M1    1MTH AGORAPHOBIA W/ OR W/O PD  DXDM_AGORAPHOBIA     6   6   \n",
       "1   AGO1M2          1MTH AGORAPHOBIA W/O PD  DXDM_AGORAPHOBIA     7   7   \n",
       "2   AGO6M1    6MTH AGORAPHOBIA W/ OR W/O PD  DXDM_AGORAPHOBIA     8   8   \n",
       "3   AGO6M2          6MTH AGORAPHOBIA W/O PD  DXDM_AGORAPHOBIA     9   9   \n",
       "4   AGOLT1         AGORAPHOBIA W/ OR W/O PD  DXDM_AGORAPHOBIA    10  10   \n",
       "5   AGOLT2               AGORAPHOBIA W/O PD  DXDM_AGORAPHOBIA    11  11   \n",
       "6    AGONS      AGO WITH OR W-O PANIC ONSET  DXDM_AGORAPHOBIA    12  12   \n",
       "7   AGONSA  AGO WITH OR W-O PANIC ONSET AGE  DXDM_AGORAPHOBIA    13  13   \n",
       "8   AGOYR1   12MTH AGORAPHOBIA W/ OR W/O PD  DXDM_AGORAPHOBIA    14  14   \n",
       "9   AGOYR2         12MTH AGORAPHOBIA W/O PD  DXDM_AGORAPHOBIA    15  15   \n",
       "10   AGREC    AGO WITH OR W-O PANIC RECENCY  DXDM_AGORAPHOBIA    16  16   \n",
       "11  AGRECA    AGO WITH OR W-O PANIC REC AGE  DXDM_AGORAPHOBIA    17  17   \n",
       "\n",
       "   DataFrame recursion_flag  \n",
       "0       dxdm              0  \n",
       "1       dxdm              0  \n",
       "2       dxdm              0  \n",
       "3       dxdm              0  \n",
       "4       dxdm              0  \n",
       "5       dxdm              0  \n",
       "6       dxdm              0  \n",
       "7       dxdm              0  \n",
       "8       dxdm              0  \n",
       "9       dxdm              0  \n",
       "10      dxdm              0  \n",
       "11      dxdm              0  "
      ],
      "text/html": "<div>\n<style scoped>\n    .dataframe tbody tr th:only-of-type {\n        vertical-align: middle;\n    }\n\n    .dataframe tbody tr th {\n        vertical-align: top;\n    }\n\n    .dataframe thead th {\n        text-align: right;\n    }\n</style>\n<table border=\"1\" class=\"dataframe\">\n  <thead>\n    <tr style=\"text-align: right;\">\n      <th></th>\n      <th>VarName</th>\n      <th>Description</th>\n      <th>Root_DF</th>\n      <th>Start</th>\n      <th>End</th>\n      <th>DataFrame</th>\n      <th>recursion_flag</th>\n    </tr>\n  </thead>\n  <tbody>\n    <tr>\n      <th>0</th>\n      <td>AGO1M1</td>\n      <td>1MTH AGORAPHOBIA W/ OR W/O PD</td>\n      <td>DXDM_AGORAPHOBIA</td>\n      <td>6</td>\n      <td>6</td>\n      <td>dxdm</td>\n      <td>0</td>\n    </tr>\n    <tr>\n      <th>1</th>\n      <td>AGO1M2</td>\n      <td>1MTH AGORAPHOBIA W/O PD</td>\n      <td>DXDM_AGORAPHOBIA</td>\n      <td>7</td>\n      <td>7</td>\n      <td>dxdm</td>\n      <td>0</td>\n    </tr>\n    <tr>\n      <th>2</th>\n      <td>AGO6M1</td>\n      <td>6MTH AGORAPHOBIA W/ OR W/O PD</td>\n      <td>DXDM_AGORAPHOBIA</td>\n      <td>8</td>\n      <td>8</td>\n      <td>dxdm</td>\n      <td>0</td>\n    </tr>\n    <tr>\n      <th>3</th>\n      <td>AGO6M2</td>\n      <td>6MTH AGORAPHOBIA W/O PD</td>\n      <td>DXDM_AGORAPHOBIA</td>\n      <td>9</td>\n      <td>9</td>\n      <td>dxdm</td>\n      <td>0</td>\n    </tr>\n    <tr>\n      <th>4</th>\n      <td>AGOLT1</td>\n      <td>AGORAPHOBIA W/ OR W/O PD</td>\n      <td>DXDM_AGORAPHOBIA</td>\n      <td>10</td>\n      <td>10</td>\n      <td>dxdm</td>\n      <td>0</td>\n    </tr>\n    <tr>\n      <th>5</th>\n      <td>AGOLT2</td>\n      <td>AGORAPHOBIA W/O PD</td>\n      <td>DXDM_AGORAPHOBIA</td>\n      <td>11</td>\n      <td>11</td>\n      <td>dxdm</td>\n      <td>0</td>\n    </tr>\n    <tr>\n      <th>6</th>\n      <td>AGONS</td>\n      <td>AGO WITH OR W-O PANIC ONSET</td>\n      <td>DXDM_AGORAPHOBIA</td>\n      <td>12</td>\n      <td>12</td>\n      <td>dxdm</td>\n      <td>0</td>\n    </tr>\n    <tr>\n      <th>7</th>\n      <td>AGONSA</td>\n      <td>AGO WITH OR W-O PANIC ONSET AGE</td>\n      <td>DXDM_AGORAPHOBIA</td>\n      <td>13</td>\n      <td>13</td>\n      <td>dxdm</td>\n      <td>0</td>\n    </tr>\n    <tr>\n      <th>8</th>\n      <td>AGOYR1</td>\n      <td>12MTH AGORAPHOBIA W/ OR W/O PD</td>\n      <td>DXDM_AGORAPHOBIA</td>\n      <td>14</td>\n      <td>14</td>\n      <td>dxdm</td>\n      <td>0</td>\n    </tr>\n    <tr>\n      <th>9</th>\n      <td>AGOYR2</td>\n      <td>12MTH AGORAPHOBIA W/O PD</td>\n      <td>DXDM_AGORAPHOBIA</td>\n      <td>15</td>\n      <td>15</td>\n      <td>dxdm</td>\n      <td>0</td>\n    </tr>\n    <tr>\n      <th>10</th>\n      <td>AGREC</td>\n      <td>AGO WITH OR W-O PANIC RECENCY</td>\n      <td>DXDM_AGORAPHOBIA</td>\n      <td>16</td>\n      <td>16</td>\n      <td>dxdm</td>\n      <td>0</td>\n    </tr>\n    <tr>\n      <th>11</th>\n      <td>AGRECA</td>\n      <td>AGO WITH OR W-O PANIC REC AGE</td>\n      <td>DXDM_AGORAPHOBIA</td>\n      <td>17</td>\n      <td>17</td>\n      <td>dxdm</td>\n      <td>0</td>\n    </tr>\n  </tbody>\n</table>\n</div>"
     },
     "metadata": {},
     "execution_count": 3
    }
   ],
   "source": [
    "ncs1.get_value_from_string(ncs1.root.iloc[33,0])"
   ]
  },
  {
   "cell_type": "code",
   "execution_count": 9,
   "metadata": {},
   "outputs": [
    {
     "output_type": "execute_result",
     "data": {
      "text/plain": [
       "{'varName': 'AGREC',\n",
       " 'type': 'numeric',\n",
       " 'missingValues': None,\n",
       " 'integer': True,\n",
       " 'formatWidth': 1,\n",
       " 'decimals': 0,\n",
       " 'varLabel': 'AGO WITH OR W-O PANIC RECENCY',\n",
       " 'filter': None,\n",
       " 'qText': None,\n",
       " 'txt': None,\n",
       " 'categories': [{'valueCode': None,\n",
       "   'valueString': '1',\n",
       "   'valueLabel': '<= 1 Month',\n",
       "   'valueTxt': None,\n",
       "   'missing': False,\n",
       "   'sysMiss': False,\n",
       "   'stats': {'freq': '136'}},\n",
       "  {'valueCode': None,\n",
       "   'valueString': '2',\n",
       "   'valueLabel': '>1 Month & <=6 Months',\n",
       "   'valueTxt': None,\n",
       "   'missing': False,\n",
       "   'sysMiss': False,\n",
       "   'stats': {'freq': '81'}},\n",
       "  {'valueCode': None,\n",
       "   'valueString': '3',\n",
       "   'valueLabel': '>6 Months & <= 1 Year',\n",
       "   'valueTxt': None,\n",
       "   'missing': False,\n",
       "   'sysMiss': False,\n",
       "   'stats': {'freq': '49'}},\n",
       "  {'valueCode': None,\n",
       "   'valueString': '4',\n",
       "   'valueLabel': '> 1 Year',\n",
       "   'valueTxt': None,\n",
       "   'missing': False,\n",
       "   'sysMiss': False,\n",
       "   'stats': {'freq': '221'}},\n",
       "  {'valueCode': None,\n",
       "   'valueString': 'Sysmiss',\n",
       "   'valueLabel': None,\n",
       "   'valueTxt': None,\n",
       "   'missing': True,\n",
       "   'sysMiss': True,\n",
       "   'stats': {'freq': '7611'}}],\n",
       " 'sumStats': {'invd': '7611', 'vald': '487'}}"
      ]
     },
     "metadata": {},
     "execution_count": 9
    }
   ],
   "source": [
    "ncs1.get_variable_info('AGREC')"
   ]
  },
  {
   "cell_type": "code",
   "execution_count": 27,
   "metadata": {},
   "outputs": [
    {
     "output_type": "execute_result",
     "data": {
      "text/plain": [
       "0       0\n",
       "1       0\n",
       "2       0\n",
       "3       0\n",
       "4       0\n",
       "       ..\n",
       "8093    0\n",
       "8094    0\n",
       "8095    0\n",
       "8096    0\n",
       "8097    0\n",
       "Name: AGO1M1, Length: 8098, dtype: int64"
      ]
     },
     "metadata": {},
     "execution_count": 27
    }
   ],
   "source": [
    "ncs1.dxdm.loc[:,'AGO1M1']"
   ]
  }
 ]
}