{
 "metadata": {
  "language_info": {
   "codemirror_mode": {
    "name": "ipython",
    "version": 3
   },
   "file_extension": ".py",
   "mimetype": "text/x-python",
   "name": "python",
   "nbconvert_exporter": "python",
   "pygments_lexer": "ipython3",
   "version": "3.8.5-final"
  },
  "orig_nbformat": 2,
  "kernelspec": {
   "name": "python3",
   "display_name": "Python 3.8.5 64-bit (conda)",
   "metadata": {
    "interpreter": {
     "hash": "8ca28b1d433ae75eab343bd246052c2243632e123f07554f7cebf0e78e390e86"
    }
   }
  }
 },
 "nbformat": 4,
 "nbformat_minor": 2,
 "cells": [
  {
   "cell_type": "code",
   "execution_count": 1,
   "metadata": {},
   "outputs": [],
   "source": [
    "import matplotlib as matplot\n",
    "import seaborn\n",
    "import bokeh\n",
    "import keras\n",
    "import numpy\n",
    "import scipy\n",
    "import pandas as pd\n",
    "# import block"
   ]
  },
  {
   "cell_type": "code",
   "execution_count": 187,
   "metadata": {},
   "outputs": [],
   "source": [
    "ncs1 = pd.read_csv(\"ICPSR_06693-V6/ICPSR_06693/DS0001/06693-0001-Data.tsv\", sep = \"\\t\")\n",
    "# ncs1 includes all of the symptom data from the NCS Data"
   ]
  },
  {
   "cell_type": "code",
   "execution_count": 246,
   "metadata": {},
   "outputs": [],
   "source": [
    "ncs1 = pd.DataFrame(ncs1)\n",
    "#turn into pandas DF"
   ]
  },
  {
   "cell_type": "code",
   "execution_count": 251,
   "metadata": {},
   "outputs": [
    {
     "output_type": "execute_result",
     "data": {
      "text/plain": [
       "      CASEID        V2  V3    V4  V5  V6  V7  V8  V9  V10  ...  V7437  V7438  \\\n",
       "0      10001  60080192   1  8128   9  28  90   9  28   90  ...      9      9   \n",
       "1      10002  16030048   1  3941  10   1  90  10   1   90  ...      9      9   \n",
       "2      10003  74070592   1  7813  10   5  90  10   5   90  ...      9      9   \n",
       "3      10004  74030720   1  7813  10  10  90  10  10   90  ...      9      9   \n",
       "4      10005   4180080   1  9018  10  10  90  10  10   90  ...      9      9   \n",
       "...      ...       ...  ..   ...  ..  ..  ..  ..  ..  ...  ...    ...    ...   \n",
       "8093   25952  44110688   6  8331  11   8  91  11   8   91  ...      0      0   \n",
       "8094   25953   1130821   5  4260   8  21  91  11  13   91  ...      5      5   \n",
       "8095   25954  18070448   4  5319   7   7  91   7   7   91  ...      0      0   \n",
       "8096   25955   1400261   6  8224  11  22  91  11  22   91  ...      5      5   \n",
       "8097   25956   1471591   4  8224   8  25  91  10  11   91  ...      0      0   \n",
       "\n",
       "      V7439  V7440  V7441  V7442   P1FWT  P2WTV3  TOBACWT  P2TOBWT  \n",
       "0         9      9     99      9  0.5135           0.5883           \n",
       "1         9      9     99      9  1.8968           2.1730           \n",
       "2         9      9     99      9  0.4100           0.4697           \n",
       "3         9      9     99      9  0.3093           0.3543           \n",
       "4         9      9     99      9  0.7790           0.8924           \n",
       "...     ...    ...    ...    ...     ...     ...      ...      ...  \n",
       "8093      0      0      0      0  3.1569           3.6165           \n",
       "8094      0      1     99      9  0.1200   .2128   0.1375    .3332  \n",
       "8095      0      0      0      0  0.8161   .6435   0.9349   1.0076  \n",
       "8096      0      2      0      0  0.5060           0.5797           \n",
       "8097      0      0      0      0  0.9369           1.0733           \n",
       "\n",
       "[8098 rows x 2954 columns]"
      ],
      "text/html": "<div>\n<style scoped>\n    .dataframe tbody tr th:only-of-type {\n        vertical-align: middle;\n    }\n\n    .dataframe tbody tr th {\n        vertical-align: top;\n    }\n\n    .dataframe thead th {\n        text-align: right;\n    }\n</style>\n<table border=\"1\" class=\"dataframe\">\n  <thead>\n    <tr style=\"text-align: right;\">\n      <th></th>\n      <th>CASEID</th>\n      <th>V2</th>\n      <th>V3</th>\n      <th>V4</th>\n      <th>V5</th>\n      <th>V6</th>\n      <th>V7</th>\n      <th>V8</th>\n      <th>V9</th>\n      <th>V10</th>\n      <th>...</th>\n      <th>V7437</th>\n      <th>V7438</th>\n      <th>V7439</th>\n      <th>V7440</th>\n      <th>V7441</th>\n      <th>V7442</th>\n      <th>P1FWT</th>\n      <th>P2WTV3</th>\n      <th>TOBACWT</th>\n      <th>P2TOBWT</th>\n    </tr>\n  </thead>\n  <tbody>\n    <tr>\n      <th>0</th>\n      <td>10001</td>\n      <td>60080192</td>\n      <td>1</td>\n      <td>8128</td>\n      <td>9</td>\n      <td>28</td>\n      <td>90</td>\n      <td>9</td>\n      <td>28</td>\n      <td>90</td>\n      <td>...</td>\n      <td>9</td>\n      <td>9</td>\n      <td>9</td>\n      <td>9</td>\n      <td>99</td>\n      <td>9</td>\n      <td>0.5135</td>\n      <td></td>\n      <td>0.5883</td>\n      <td></td>\n    </tr>\n    <tr>\n      <th>1</th>\n      <td>10002</td>\n      <td>16030048</td>\n      <td>1</td>\n      <td>3941</td>\n      <td>10</td>\n      <td>1</td>\n      <td>90</td>\n      <td>10</td>\n      <td>1</td>\n      <td>90</td>\n      <td>...</td>\n      <td>9</td>\n      <td>9</td>\n      <td>9</td>\n      <td>9</td>\n      <td>99</td>\n      <td>9</td>\n      <td>1.8968</td>\n      <td></td>\n      <td>2.1730</td>\n      <td></td>\n    </tr>\n    <tr>\n      <th>2</th>\n      <td>10003</td>\n      <td>74070592</td>\n      <td>1</td>\n      <td>7813</td>\n      <td>10</td>\n      <td>5</td>\n      <td>90</td>\n      <td>10</td>\n      <td>5</td>\n      <td>90</td>\n      <td>...</td>\n      <td>9</td>\n      <td>9</td>\n      <td>9</td>\n      <td>9</td>\n      <td>99</td>\n      <td>9</td>\n      <td>0.4100</td>\n      <td></td>\n      <td>0.4697</td>\n      <td></td>\n    </tr>\n    <tr>\n      <th>3</th>\n      <td>10004</td>\n      <td>74030720</td>\n      <td>1</td>\n      <td>7813</td>\n      <td>10</td>\n      <td>10</td>\n      <td>90</td>\n      <td>10</td>\n      <td>10</td>\n      <td>90</td>\n      <td>...</td>\n      <td>9</td>\n      <td>9</td>\n      <td>9</td>\n      <td>9</td>\n      <td>99</td>\n      <td>9</td>\n      <td>0.3093</td>\n      <td></td>\n      <td>0.3543</td>\n      <td></td>\n    </tr>\n    <tr>\n      <th>4</th>\n      <td>10005</td>\n      <td>4180080</td>\n      <td>1</td>\n      <td>9018</td>\n      <td>10</td>\n      <td>10</td>\n      <td>90</td>\n      <td>10</td>\n      <td>10</td>\n      <td>90</td>\n      <td>...</td>\n      <td>9</td>\n      <td>9</td>\n      <td>9</td>\n      <td>9</td>\n      <td>99</td>\n      <td>9</td>\n      <td>0.7790</td>\n      <td></td>\n      <td>0.8924</td>\n      <td></td>\n    </tr>\n    <tr>\n      <th>...</th>\n      <td>...</td>\n      <td>...</td>\n      <td>...</td>\n      <td>...</td>\n      <td>...</td>\n      <td>...</td>\n      <td>...</td>\n      <td>...</td>\n      <td>...</td>\n      <td>...</td>\n      <td>...</td>\n      <td>...</td>\n      <td>...</td>\n      <td>...</td>\n      <td>...</td>\n      <td>...</td>\n      <td>...</td>\n      <td>...</td>\n      <td>...</td>\n      <td>...</td>\n      <td>...</td>\n    </tr>\n    <tr>\n      <th>8093</th>\n      <td>25952</td>\n      <td>44110688</td>\n      <td>6</td>\n      <td>8331</td>\n      <td>11</td>\n      <td>8</td>\n      <td>91</td>\n      <td>11</td>\n      <td>8</td>\n      <td>91</td>\n      <td>...</td>\n      <td>0</td>\n      <td>0</td>\n      <td>0</td>\n      <td>0</td>\n      <td>0</td>\n      <td>0</td>\n      <td>3.1569</td>\n      <td></td>\n      <td>3.6165</td>\n      <td></td>\n    </tr>\n    <tr>\n      <th>8094</th>\n      <td>25953</td>\n      <td>1130821</td>\n      <td>5</td>\n      <td>4260</td>\n      <td>8</td>\n      <td>21</td>\n      <td>91</td>\n      <td>11</td>\n      <td>13</td>\n      <td>91</td>\n      <td>...</td>\n      <td>5</td>\n      <td>5</td>\n      <td>0</td>\n      <td>1</td>\n      <td>99</td>\n      <td>9</td>\n      <td>0.1200</td>\n      <td>.2128</td>\n      <td>0.1375</td>\n      <td>.3332</td>\n    </tr>\n    <tr>\n      <th>8095</th>\n      <td>25954</td>\n      <td>18070448</td>\n      <td>4</td>\n      <td>5319</td>\n      <td>7</td>\n      <td>7</td>\n      <td>91</td>\n      <td>7</td>\n      <td>7</td>\n      <td>91</td>\n      <td>...</td>\n      <td>0</td>\n      <td>0</td>\n      <td>0</td>\n      <td>0</td>\n      <td>0</td>\n      <td>0</td>\n      <td>0.8161</td>\n      <td>.6435</td>\n      <td>0.9349</td>\n      <td>1.0076</td>\n    </tr>\n    <tr>\n      <th>8096</th>\n      <td>25955</td>\n      <td>1400261</td>\n      <td>6</td>\n      <td>8224</td>\n      <td>11</td>\n      <td>22</td>\n      <td>91</td>\n      <td>11</td>\n      <td>22</td>\n      <td>91</td>\n      <td>...</td>\n      <td>5</td>\n      <td>5</td>\n      <td>0</td>\n      <td>2</td>\n      <td>0</td>\n      <td>0</td>\n      <td>0.5060</td>\n      <td></td>\n      <td>0.5797</td>\n      <td></td>\n    </tr>\n    <tr>\n      <th>8097</th>\n      <td>25956</td>\n      <td>1471591</td>\n      <td>4</td>\n      <td>8224</td>\n      <td>8</td>\n      <td>25</td>\n      <td>91</td>\n      <td>10</td>\n      <td>11</td>\n      <td>91</td>\n      <td>...</td>\n      <td>0</td>\n      <td>0</td>\n      <td>0</td>\n      <td>0</td>\n      <td>0</td>\n      <td>0</td>\n      <td>0.9369</td>\n      <td></td>\n      <td>1.0733</td>\n      <td></td>\n    </tr>\n  </tbody>\n</table>\n<p>8098 rows × 2954 columns</p>\n</div>"
     },
     "metadata": {},
     "execution_count": 251
    }
   ],
   "source": [
    "ncs1"
   ]
  },
  {
   "cell_type": "code",
   "execution_count": 249,
   "metadata": {},
   "outputs": [],
   "source": [
    "ncs_a = ncs1.iloc[:, ncs1.columns.get_loc('V101'):ncs1.columns.get_loc('V250')]\n",
    "ncs_a.insert(0, 'CASEID', ncs1.loc[:,'CASEID'], True)"
   ]
  },
  {
   "cell_type": "code",
   "execution_count": 250,
   "metadata": {},
   "outputs": [
    {
     "output_type": "execute_result",
     "data": {
      "text/plain": [
       "      CASEID  V101  V102  V103  V104  V105  V106  V107  V108  V109  ...  V240  \\\n",
       "0      10001     1     2     1     2     8     1     2     5     5  ...     0   \n",
       "1      10002     3     3     3     3     8     1     2     3     5  ...     0   \n",
       "2      10003     3     3     3     3     8     1     1     1     0  ...     1   \n",
       "3      10004     1     1     1     3     5     1     2     3     5  ...     0   \n",
       "4      10005     2     2     1     3     8     1     1     1     0  ...     1   \n",
       "...      ...   ...   ...   ...   ...   ...   ...   ...   ...   ...  ...   ...   \n",
       "8093   25952     2     1     1     3     6     2     0     5     5  ...     0   \n",
       "8094   25953     3     2     1     2     7     2     0     5     5  ...     0   \n",
       "8095   25954     4     2     5     4     7     2     0     1     0  ...     1   \n",
       "8096   25955     2     3     1     3     7     1     0     1     0  ...     1   \n",
       "8097   25956     1     2     1     1     8     1     0     1     0  ...     1   \n",
       "\n",
       "      V241  V242  V243  V244  V245  V246  V247  V248  V249  \n",
       "0        0     0     1     2     0     2     1     4     4  \n",
       "1        0     0     1     3     0     2     1     4     4  \n",
       "2        1     2     0     0     3     3     3     1     4  \n",
       "3        0     0     1     4     0     3     1     3     3  \n",
       "4        1     1     0     0     1     2     3     4     4  \n",
       "...    ...   ...   ...   ...   ...   ...   ...   ...   ...  \n",
       "8093     0     0     1     1     0     2     2     3     2  \n",
       "8094     0     0     1     1     0     2     1     4     4  \n",
       "8095     1     1     0     0     3     4     2     3     4  \n",
       "8096     1     0     0     0     3     3     3     1     2  \n",
       "8097     1     1     0     0     3     3     2     4     2  \n",
       "\n",
       "[8098 rows x 64 columns]"
      ],
      "text/html": "<div>\n<style scoped>\n    .dataframe tbody tr th:only-of-type {\n        vertical-align: middle;\n    }\n\n    .dataframe tbody tr th {\n        vertical-align: top;\n    }\n\n    .dataframe thead th {\n        text-align: right;\n    }\n</style>\n<table border=\"1\" class=\"dataframe\">\n  <thead>\n    <tr style=\"text-align: right;\">\n      <th></th>\n      <th>CASEID</th>\n      <th>V101</th>\n      <th>V102</th>\n      <th>V103</th>\n      <th>V104</th>\n      <th>V105</th>\n      <th>V106</th>\n      <th>V107</th>\n      <th>V108</th>\n      <th>V109</th>\n      <th>...</th>\n      <th>V240</th>\n      <th>V241</th>\n      <th>V242</th>\n      <th>V243</th>\n      <th>V244</th>\n      <th>V245</th>\n      <th>V246</th>\n      <th>V247</th>\n      <th>V248</th>\n      <th>V249</th>\n    </tr>\n  </thead>\n  <tbody>\n    <tr>\n      <th>0</th>\n      <td>10001</td>\n      <td>1</td>\n      <td>2</td>\n      <td>1</td>\n      <td>2</td>\n      <td>8</td>\n      <td>1</td>\n      <td>2</td>\n      <td>5</td>\n      <td>5</td>\n      <td>...</td>\n      <td>0</td>\n      <td>0</td>\n      <td>0</td>\n      <td>1</td>\n      <td>2</td>\n      <td>0</td>\n      <td>2</td>\n      <td>1</td>\n      <td>4</td>\n      <td>4</td>\n    </tr>\n    <tr>\n      <th>1</th>\n      <td>10002</td>\n      <td>3</td>\n      <td>3</td>\n      <td>3</td>\n      <td>3</td>\n      <td>8</td>\n      <td>1</td>\n      <td>2</td>\n      <td>3</td>\n      <td>5</td>\n      <td>...</td>\n      <td>0</td>\n      <td>0</td>\n      <td>0</td>\n      <td>1</td>\n      <td>3</td>\n      <td>0</td>\n      <td>2</td>\n      <td>1</td>\n      <td>4</td>\n      <td>4</td>\n    </tr>\n    <tr>\n      <th>2</th>\n      <td>10003</td>\n      <td>3</td>\n      <td>3</td>\n      <td>3</td>\n      <td>3</td>\n      <td>8</td>\n      <td>1</td>\n      <td>1</td>\n      <td>1</td>\n      <td>0</td>\n      <td>...</td>\n      <td>1</td>\n      <td>1</td>\n      <td>2</td>\n      <td>0</td>\n      <td>0</td>\n      <td>3</td>\n      <td>3</td>\n      <td>3</td>\n      <td>1</td>\n      <td>4</td>\n    </tr>\n    <tr>\n      <th>3</th>\n      <td>10004</td>\n      <td>1</td>\n      <td>1</td>\n      <td>1</td>\n      <td>3</td>\n      <td>5</td>\n      <td>1</td>\n      <td>2</td>\n      <td>3</td>\n      <td>5</td>\n      <td>...</td>\n      <td>0</td>\n      <td>0</td>\n      <td>0</td>\n      <td>1</td>\n      <td>4</td>\n      <td>0</td>\n      <td>3</td>\n      <td>1</td>\n      <td>3</td>\n      <td>3</td>\n    </tr>\n    <tr>\n      <th>4</th>\n      <td>10005</td>\n      <td>2</td>\n      <td>2</td>\n      <td>1</td>\n      <td>3</td>\n      <td>8</td>\n      <td>1</td>\n      <td>1</td>\n      <td>1</td>\n      <td>0</td>\n      <td>...</td>\n      <td>1</td>\n      <td>1</td>\n      <td>1</td>\n      <td>0</td>\n      <td>0</td>\n      <td>1</td>\n      <td>2</td>\n      <td>3</td>\n      <td>4</td>\n      <td>4</td>\n    </tr>\n    <tr>\n      <th>...</th>\n      <td>...</td>\n      <td>...</td>\n      <td>...</td>\n      <td>...</td>\n      <td>...</td>\n      <td>...</td>\n      <td>...</td>\n      <td>...</td>\n      <td>...</td>\n      <td>...</td>\n      <td>...</td>\n      <td>...</td>\n      <td>...</td>\n      <td>...</td>\n      <td>...</td>\n      <td>...</td>\n      <td>...</td>\n      <td>...</td>\n      <td>...</td>\n      <td>...</td>\n      <td>...</td>\n    </tr>\n    <tr>\n      <th>8093</th>\n      <td>25952</td>\n      <td>2</td>\n      <td>1</td>\n      <td>1</td>\n      <td>3</td>\n      <td>6</td>\n      <td>2</td>\n      <td>0</td>\n      <td>5</td>\n      <td>5</td>\n      <td>...</td>\n      <td>0</td>\n      <td>0</td>\n      <td>0</td>\n      <td>1</td>\n      <td>1</td>\n      <td>0</td>\n      <td>2</td>\n      <td>2</td>\n      <td>3</td>\n      <td>2</td>\n    </tr>\n    <tr>\n      <th>8094</th>\n      <td>25953</td>\n      <td>3</td>\n      <td>2</td>\n      <td>1</td>\n      <td>2</td>\n      <td>7</td>\n      <td>2</td>\n      <td>0</td>\n      <td>5</td>\n      <td>5</td>\n      <td>...</td>\n      <td>0</td>\n      <td>0</td>\n      <td>0</td>\n      <td>1</td>\n      <td>1</td>\n      <td>0</td>\n      <td>2</td>\n      <td>1</td>\n      <td>4</td>\n      <td>4</td>\n    </tr>\n    <tr>\n      <th>8095</th>\n      <td>25954</td>\n      <td>4</td>\n      <td>2</td>\n      <td>5</td>\n      <td>4</td>\n      <td>7</td>\n      <td>2</td>\n      <td>0</td>\n      <td>1</td>\n      <td>0</td>\n      <td>...</td>\n      <td>1</td>\n      <td>1</td>\n      <td>1</td>\n      <td>0</td>\n      <td>0</td>\n      <td>3</td>\n      <td>4</td>\n      <td>2</td>\n      <td>3</td>\n      <td>4</td>\n    </tr>\n    <tr>\n      <th>8096</th>\n      <td>25955</td>\n      <td>2</td>\n      <td>3</td>\n      <td>1</td>\n      <td>3</td>\n      <td>7</td>\n      <td>1</td>\n      <td>0</td>\n      <td>1</td>\n      <td>0</td>\n      <td>...</td>\n      <td>1</td>\n      <td>1</td>\n      <td>0</td>\n      <td>0</td>\n      <td>0</td>\n      <td>3</td>\n      <td>3</td>\n      <td>3</td>\n      <td>1</td>\n      <td>2</td>\n    </tr>\n    <tr>\n      <th>8097</th>\n      <td>25956</td>\n      <td>1</td>\n      <td>2</td>\n      <td>1</td>\n      <td>1</td>\n      <td>8</td>\n      <td>1</td>\n      <td>0</td>\n      <td>1</td>\n      <td>0</td>\n      <td>...</td>\n      <td>1</td>\n      <td>1</td>\n      <td>1</td>\n      <td>0</td>\n      <td>0</td>\n      <td>3</td>\n      <td>3</td>\n      <td>2</td>\n      <td>4</td>\n      <td>2</td>\n    </tr>\n  </tbody>\n</table>\n<p>8098 rows × 64 columns</p>\n</div>"
     },
     "metadata": {},
     "execution_count": 250
    }
   ],
   "source": [
    "ncs_a"
   ]
  },
  {
   "cell_type": "code",
   "execution_count": null,
   "metadata": {},
   "outputs": [],
   "source": []
  }
 ]
}