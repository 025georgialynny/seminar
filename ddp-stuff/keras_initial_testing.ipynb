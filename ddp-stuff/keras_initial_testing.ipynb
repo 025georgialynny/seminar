{
 "metadata": {
  "language_info": {
   "codemirror_mode": {
    "name": "ipython",
    "version": 3
   },
   "file_extension": ".py",
   "mimetype": "text/x-python",
   "name": "python",
   "nbconvert_exporter": "python",
   "pygments_lexer": "ipython3",
   "version": "3.8.5-final"
  },
  "orig_nbformat": 2,
  "kernelspec": {
   "name": "python3",
   "display_name": "Python 3.8.5 64-bit (conda)",
   "metadata": {
    "interpreter": {
     "hash": "8ca28b1d433ae75eab343bd246052c2243632e123f07554f7cebf0e78e390e86"
    }
   }
  }
 },
 "nbformat": 4,
 "nbformat_minor": 2,
 "cells": [
  {
   "cell_type": "code",
   "execution_count": 1,
   "metadata": {},
   "outputs": [],
   "source": [
    "# https://www.promodel.com/pdf/DES-ANN-Article-8-20-2018.pdf\n",
    "# Step one goal: create an ANN and find import variables, w"
   ]
  },
  {
   "cell_type": "code",
   "execution_count": 1,
   "metadata": {},
   "outputs": [],
   "source": [
    "import matplotlib as matplot\n",
    "import seaborn\n",
    "import bokeh\n",
    "#import keras\n",
    "import scipy\n",
    "import plotly\n",
    "import plotly.express as pe\n",
    "import numpy\n",
    "import pandas as pd\n",
    "from get_tree_data import ncs1_data\n",
    "import re\n",
    "from numpy import loadtxt\n",
    "from keras.models import Sequential\n",
    "from keras.layers import Dense\n",
    "# import block"
   ]
  },
  {
   "cell_type": "code",
   "execution_count": 2,
   "metadata": {},
   "outputs": [],
   "source": [
    "ncs1 = ncs1_data()\n",
    "  # ncs1 holds all of the data from NCS 006693\n",
    "  # Includes ncs1.dxdm (DS0002 DataFrame) and ncs1.survey (DS001 DataFrame)\n",
    "  # Key Functions:\n",
    "    # ncs1.search_for_description looks for a descriotion of a column name in ncs1.dxdm or ncs1.survey\n",
    "  # Key Variables:\n",
    "    # ncs1.dxdm (DS0002)\n",
    "    # ncs1.survey (DS0001)\n",
    "    # ncs1.tree (Tree including descriptions of survey and dxdm columns)\n",
    "    # ncs1.root (root used in traversing ncs1.tree)"
   ]
  },
  {
   "cell_type": "code",
   "execution_count": 3,
   "metadata": {},
   "outputs": [],
   "source": [
    "keras_input = ncs1.survey.iloc[:, ncs1.root.loc[2,\"Start\"]+1:ncs1.root.loc[2, \"End\"]]\n",
    "keras_input.insert(0, 'CASEID', ncs1.survey.loc[:,'CASEID'], True)\n",
    "\n",
    "train_input = keras_input.sample(frac = .6)\n",
    "test_input = keras_input.drop(train_input.index)\n",
    "\n",
    "keras_output = ncs1.dxdm.loc[:, ('CASEID', 'DRGALT1')]\n",
    "\n",
    "train_output = keras_output.drop(test_input.index)\n",
    "test_output = keras_input.drop(train_input.index)\n",
    "\n",
    "# setup train/test input vars\n",
    "\n",
    "train_output = train_output.reset_index(drop=True)\n",
    "test_output = test_output.reset_index(drop=True)\n",
    "\n",
    "train_input = train_input.reset_index(drop=True)\n",
    "test_input = test_input.reset_index(drop=True)"
   ]
  },
  {
   "cell_type": "code",
   "execution_count": 4,
   "metadata": {},
   "outputs": [],
   "source": [
    "# use sections from ncs1.root and see what keras has to say about them in relation to DRGALT1 \n",
    "model = Sequential()\n",
    "model.add(Dense(12, input_dim=12, activation='relu'))\n",
    "model.add(Dense(10, activation='relu'))\n",
    "model.add(Dense(6, activation='relu'))\n",
    "model.add(Dense(3, activation='relu'))\n",
    "model.add(Dense(1, activation='relu'))\n",
    "model.compile(loss='binary_crossentropy', optimizer='adam', metrics=['accuracy'])"
   ]
  },
  {
   "cell_type": "code",
   "execution_count": 10,
   "metadata": {},
   "outputs": [
    {
     "output_type": "error",
     "ename": "NameError",
     "evalue": "name 'train_input' is not defined",
     "traceback": [
      "\u001b[1;31m---------------------------------------------------------------------------\u001b[0m",
      "\u001b[1;31mNameError\u001b[0m                                 Traceback (most recent call last)",
      "\u001b[1;32m<ipython-input-10-170bd3820c3e>\u001b[0m in \u001b[0;36m<module>\u001b[1;34m\u001b[0m\n\u001b[1;32m----> 1\u001b[1;33m \u001b[0mmodel\u001b[0m\u001b[1;33m.\u001b[0m\u001b[0mfit\u001b[0m\u001b[1;33m(\u001b[0m\u001b[0mtrain_input\u001b[0m\u001b[1;33m.\u001b[0m\u001b[0miloc\u001b[0m\u001b[1;33m[\u001b[0m\u001b[1;33m:\u001b[0m\u001b[1;33m,\u001b[0m \u001b[1;36m1\u001b[0m\u001b[1;33m:\u001b[0m\u001b[1;36m13\u001b[0m\u001b[1;33m]\u001b[0m\u001b[1;33m,\u001b[0m \u001b[0mtrain_output\u001b[0m\u001b[1;33m.\u001b[0m\u001b[0miloc\u001b[0m\u001b[1;33m[\u001b[0m\u001b[1;33m:\u001b[0m\u001b[1;33m,\u001b[0m \u001b[1;36m1\u001b[0m\u001b[1;33m]\u001b[0m\u001b[1;33m,\u001b[0m \u001b[0mepochs\u001b[0m\u001b[1;33m=\u001b[0m\u001b[1;36m150\u001b[0m\u001b[1;33m,\u001b[0m \u001b[0mbatch_size\u001b[0m\u001b[1;33m=\u001b[0m\u001b[1;36m10\u001b[0m\u001b[1;33m)\u001b[0m\u001b[1;33m\u001b[0m\u001b[1;33m\u001b[0m\u001b[0m\n\u001b[0m",
      "\u001b[1;31mNameError\u001b[0m: name 'train_input' is not defined"
     ]
    }
   ],
   "source": [
    "model.fit(train_input.iloc[:, 1:13], train_output.iloc[:, 1], epochs=150, batch_size=10)"
   ]
  },
  {
   "cell_type": "code",
   "execution_count": 37,
   "metadata": {},
   "outputs": [
    {
     "output_type": "stream",
     "name": "stdout",
     "text": [
      "152/152 [==============================] - 0s 974us/step - loss: 0.3561 - accuracy: 0.8854\n"
     ]
    }
   ],
   "source": [
    "_, accuracy = model.evaluate(train_input.iloc[:, 1:13], train_output.iloc[:, 1])"
   ]
  },
  {
   "cell_type": "code",
   "execution_count": 38,
   "metadata": {},
   "outputs": [],
   "source": []
  },
  {
   "cell_type": "code",
   "execution_count": 39,
   "metadata": {
    "tags": []
   },
   "outputs": [
    {
     "output_type": "stream",
     "name": "stdout",
     "text": [
      "accuracy: 0.0\n"
     ]
    }
   ],
   "source": [
    "right = 0\n",
    "for i in range(0, len(predictions)):\n",
    "    if predictions[i] == test_output.iloc[i, 1]:\n",
    "        right = right+1\n",
    "print(\"accuracy: \" + str(right/len(test_output)))"
   ]
  },
  {
   "cell_type": "code",
   "execution_count": null,
   "metadata": {},
   "outputs": [],
   "source": []
  },
  {
   "cell_type": "code",
   "execution_count": null,
   "metadata": {},
   "outputs": [],
   "source": []
  }
 ]
}