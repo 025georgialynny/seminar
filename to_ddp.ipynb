{
 "metadata": {
  "language_info": {
   "codemirror_mode": {
    "name": "ipython",
    "version": 3
   },
   "file_extension": ".py",
   "mimetype": "text/x-python",
   "name": "python",
   "nbconvert_exporter": "python",
   "pygments_lexer": "ipython3",
   "version": "3.8.5-final"
  },
  "orig_nbformat": 2,
  "kernelspec": {
   "name": "python3",
   "display_name": "Python 3.8.5 64-bit (conda)",
   "metadata": {
    "interpreter": {
     "hash": "8ca28b1d433ae75eab343bd246052c2243632e123f07554f7cebf0e78e390e86"
    }
   }
  }
 },
 "nbformat": 4,
 "nbformat_minor": 2,
 "cells": [
  {
   "cell_type": "code",
   "execution_count": 21,
   "metadata": {},
   "outputs": [],
   "source": [
    "#import pickle\n",
    "#import torch\n",
    "#import torch.optim as optim\n",
    "import numpy as np\n",
    "import matplotlib\n",
    "import matplotlib.pyplot as plt\n",
    "#from dynamic_disease_network_ddp import data_loader\n",
    "#from dynamic_disease_network_ddp import models\n",
    "import pandas as pd\n",
    "import copy"
   ]
  },
  {
   "cell_type": "code",
   "execution_count": null,
   "metadata": {},
   "outputs": [],
   "source": []
  },
  {
   "cell_type": "code",
   "execution_count": 43,
   "metadata": {},
   "outputs": [],
   "source": [
    "ncsr = pd.read_csv('justage_vars_init.csv', index_col=0)\n",
    "ncsr_test = copy.deepcopy(ncsr)"
   ]
  },
  {
   "cell_type": "code",
   "execution_count": 42,
   "metadata": {},
   "outputs": [
    {
     "output_type": "execute_result",
     "data": {
      "text/plain": [
       "     CASEID  D22A  D22C  D37A  D37B  D38C  D42  D47  D59A  D72A  ...  EA15A  \\\n",
       "0         1    35    -1    34    -1    40   -1   -1    34    35  ...     -1   \n",
       "1       124    19    -1    19    -1    -1   -1   -1    -1    -1  ...     -1   \n",
       "2       153    35    -1    35    -1    23   -1   -1    23    35  ...     -1   \n",
       "3       173    -1    35    34    -1    35   -1   -1    -1    35  ...     -1   \n",
       "4       187    43    -1    31    -1    43   -1   -1    -1    31  ...     -1   \n",
       "..      ...   ...   ...   ...   ...   ...  ...  ...   ...   ...  ...    ...   \n",
       "374    9187    -1    27    -1    -1    -1   -1   -1    24    24  ...     -1   \n",
       "375    9238    46    -1    46    -1    46   -1   -1    -1    47  ...     -1   \n",
       "376    9250    47    -1    26    -1    46   -1   -1    27    47  ...     -1   \n",
       "377    9256    22    -1    19    -1    -1   -1   -1    -1    11  ...     -1   \n",
       "378    9274    38    -1    28    -1    45   -1   -1    -1    30  ...     -1   \n",
       "\n",
       "     EA19A  EA19B  EA19B1  EA22A  EA26A  EA26B1  EA29A  EA35A  EA37A  \n",
       "0       -1     -1      -1     -1     -1      -1     -1     -1     -1  \n",
       "1       -1     -1      -1     -1     -1      -1     -1     -1     -1  \n",
       "2       -1     -1      -1     -1     -1      -1     -1     -1     -1  \n",
       "3       -1     -1      -1     -1     -1      -1     -1     -1     -1  \n",
       "4       22     -1      -1     51     -1      -1     -1     21     -1  \n",
       "..     ...    ...     ...    ...    ...     ...    ...    ...    ...  \n",
       "374     -1     -1      -1     -1     -1      -1     -1     -1     -1  \n",
       "375     -1     -1      -1     -1     -1      -1     -1     -1     -1  \n",
       "376     -1     -1      -1     -1     -1      -1     -1     -1     -1  \n",
       "377     -1     -1      -1     -1     -1      -1     -1     -1     -1  \n",
       "378     -1     -1      -1     -1     -1      -1     -1     -1     -1  \n",
       "\n",
       "[379 rows x 309 columns]"
      ],
      "text/html": "<div>\n<style scoped>\n    .dataframe tbody tr th:only-of-type {\n        vertical-align: middle;\n    }\n\n    .dataframe tbody tr th {\n        vertical-align: top;\n    }\n\n    .dataframe thead th {\n        text-align: right;\n    }\n</style>\n<table border=\"1\" class=\"dataframe\">\n  <thead>\n    <tr style=\"text-align: right;\">\n      <th></th>\n      <th>CASEID</th>\n      <th>D22A</th>\n      <th>D22C</th>\n      <th>D37A</th>\n      <th>D37B</th>\n      <th>D38C</th>\n      <th>D42</th>\n      <th>D47</th>\n      <th>D59A</th>\n      <th>D72A</th>\n      <th>...</th>\n      <th>EA15A</th>\n      <th>EA19A</th>\n      <th>EA19B</th>\n      <th>EA19B1</th>\n      <th>EA22A</th>\n      <th>EA26A</th>\n      <th>EA26B1</th>\n      <th>EA29A</th>\n      <th>EA35A</th>\n      <th>EA37A</th>\n    </tr>\n  </thead>\n  <tbody>\n    <tr>\n      <th>0</th>\n      <td>1</td>\n      <td>35</td>\n      <td>-1</td>\n      <td>34</td>\n      <td>-1</td>\n      <td>40</td>\n      <td>-1</td>\n      <td>-1</td>\n      <td>34</td>\n      <td>35</td>\n      <td>...</td>\n      <td>-1</td>\n      <td>-1</td>\n      <td>-1</td>\n      <td>-1</td>\n      <td>-1</td>\n      <td>-1</td>\n      <td>-1</td>\n      <td>-1</td>\n      <td>-1</td>\n      <td>-1</td>\n    </tr>\n    <tr>\n      <th>1</th>\n      <td>124</td>\n      <td>19</td>\n      <td>-1</td>\n      <td>19</td>\n      <td>-1</td>\n      <td>-1</td>\n      <td>-1</td>\n      <td>-1</td>\n      <td>-1</td>\n      <td>-1</td>\n      <td>...</td>\n      <td>-1</td>\n      <td>-1</td>\n      <td>-1</td>\n      <td>-1</td>\n      <td>-1</td>\n      <td>-1</td>\n      <td>-1</td>\n      <td>-1</td>\n      <td>-1</td>\n      <td>-1</td>\n    </tr>\n    <tr>\n      <th>2</th>\n      <td>153</td>\n      <td>35</td>\n      <td>-1</td>\n      <td>35</td>\n      <td>-1</td>\n      <td>23</td>\n      <td>-1</td>\n      <td>-1</td>\n      <td>23</td>\n      <td>35</td>\n      <td>...</td>\n      <td>-1</td>\n      <td>-1</td>\n      <td>-1</td>\n      <td>-1</td>\n      <td>-1</td>\n      <td>-1</td>\n      <td>-1</td>\n      <td>-1</td>\n      <td>-1</td>\n      <td>-1</td>\n    </tr>\n    <tr>\n      <th>3</th>\n      <td>173</td>\n      <td>-1</td>\n      <td>35</td>\n      <td>34</td>\n      <td>-1</td>\n      <td>35</td>\n      <td>-1</td>\n      <td>-1</td>\n      <td>-1</td>\n      <td>35</td>\n      <td>...</td>\n      <td>-1</td>\n      <td>-1</td>\n      <td>-1</td>\n      <td>-1</td>\n      <td>-1</td>\n      <td>-1</td>\n      <td>-1</td>\n      <td>-1</td>\n      <td>-1</td>\n      <td>-1</td>\n    </tr>\n    <tr>\n      <th>4</th>\n      <td>187</td>\n      <td>43</td>\n      <td>-1</td>\n      <td>31</td>\n      <td>-1</td>\n      <td>43</td>\n      <td>-1</td>\n      <td>-1</td>\n      <td>-1</td>\n      <td>31</td>\n      <td>...</td>\n      <td>-1</td>\n      <td>22</td>\n      <td>-1</td>\n      <td>-1</td>\n      <td>51</td>\n      <td>-1</td>\n      <td>-1</td>\n      <td>-1</td>\n      <td>21</td>\n      <td>-1</td>\n    </tr>\n    <tr>\n      <th>...</th>\n      <td>...</td>\n      <td>...</td>\n      <td>...</td>\n      <td>...</td>\n      <td>...</td>\n      <td>...</td>\n      <td>...</td>\n      <td>...</td>\n      <td>...</td>\n      <td>...</td>\n      <td>...</td>\n      <td>...</td>\n      <td>...</td>\n      <td>...</td>\n      <td>...</td>\n      <td>...</td>\n      <td>...</td>\n      <td>...</td>\n      <td>...</td>\n      <td>...</td>\n      <td>...</td>\n    </tr>\n    <tr>\n      <th>374</th>\n      <td>9187</td>\n      <td>-1</td>\n      <td>27</td>\n      <td>-1</td>\n      <td>-1</td>\n      <td>-1</td>\n      <td>-1</td>\n      <td>-1</td>\n      <td>24</td>\n      <td>24</td>\n      <td>...</td>\n      <td>-1</td>\n      <td>-1</td>\n      <td>-1</td>\n      <td>-1</td>\n      <td>-1</td>\n      <td>-1</td>\n      <td>-1</td>\n      <td>-1</td>\n      <td>-1</td>\n      <td>-1</td>\n    </tr>\n    <tr>\n      <th>375</th>\n      <td>9238</td>\n      <td>46</td>\n      <td>-1</td>\n      <td>46</td>\n      <td>-1</td>\n      <td>46</td>\n      <td>-1</td>\n      <td>-1</td>\n      <td>-1</td>\n      <td>47</td>\n      <td>...</td>\n      <td>-1</td>\n      <td>-1</td>\n      <td>-1</td>\n      <td>-1</td>\n      <td>-1</td>\n      <td>-1</td>\n      <td>-1</td>\n      <td>-1</td>\n      <td>-1</td>\n      <td>-1</td>\n    </tr>\n    <tr>\n      <th>376</th>\n      <td>9250</td>\n      <td>47</td>\n      <td>-1</td>\n      <td>26</td>\n      <td>-1</td>\n      <td>46</td>\n      <td>-1</td>\n      <td>-1</td>\n      <td>27</td>\n      <td>47</td>\n      <td>...</td>\n      <td>-1</td>\n      <td>-1</td>\n      <td>-1</td>\n      <td>-1</td>\n      <td>-1</td>\n      <td>-1</td>\n      <td>-1</td>\n      <td>-1</td>\n      <td>-1</td>\n      <td>-1</td>\n    </tr>\n    <tr>\n      <th>377</th>\n      <td>9256</td>\n      <td>22</td>\n      <td>-1</td>\n      <td>19</td>\n      <td>-1</td>\n      <td>-1</td>\n      <td>-1</td>\n      <td>-1</td>\n      <td>-1</td>\n      <td>11</td>\n      <td>...</td>\n      <td>-1</td>\n      <td>-1</td>\n      <td>-1</td>\n      <td>-1</td>\n      <td>-1</td>\n      <td>-1</td>\n      <td>-1</td>\n      <td>-1</td>\n      <td>-1</td>\n      <td>-1</td>\n    </tr>\n    <tr>\n      <th>378</th>\n      <td>9274</td>\n      <td>38</td>\n      <td>-1</td>\n      <td>28</td>\n      <td>-1</td>\n      <td>45</td>\n      <td>-1</td>\n      <td>-1</td>\n      <td>-1</td>\n      <td>30</td>\n      <td>...</td>\n      <td>-1</td>\n      <td>-1</td>\n      <td>-1</td>\n      <td>-1</td>\n      <td>-1</td>\n      <td>-1</td>\n      <td>-1</td>\n      <td>-1</td>\n      <td>-1</td>\n      <td>-1</td>\n    </tr>\n  </tbody>\n</table>\n<p>379 rows × 309 columns</p>\n</div>"
     },
     "metadata": {},
     "execution_count": 42
    }
   ],
   "source": [
    "ncsr"
   ]
  },
  {
   "cell_type": "code",
   "execution_count": 17,
   "metadata": {},
   "outputs": [],
   "source": [
    "cn = 0\n",
    "test = ncsr.iloc[cn,:]"
   ]
  },
  {
   "cell_type": "code",
   "execution_count": 18,
   "metadata": {},
   "outputs": [],
   "source": [
    "case1_dict = {}\n",
    "for x in range(1, len(test)):\n",
    "    if test[x] > -1:\n",
    "        case1_dict[ncsr.columns[x]] = test[x]"
   ]
  },
  {
   "cell_type": "code",
   "execution_count": 54,
   "metadata": {},
   "outputs": [],
   "source": [
    "sorted_values = sorted(case1_dict.values())\n",
    "sorted_dict = {}\n",
    "for i in sorted_values:\n",
    "    for k in case1_dict.keys():\n",
    "        if case1_dict[k] == i:\n",
    "            sorted_dict[k] = case1_dict[k]\n",
    "            case1_dict[k] = -1\n",
    "            break"
   ]
  },
  {
   "cell_type": "code",
   "execution_count": 87,
   "metadata": {},
   "outputs": [
    {
     "output_type": "execute_result",
     "data": {
      "text/plain": [
       "'GM16B'"
      ]
     },
     "metadata": {},
     "execution_count": 87
    }
   ],
   "source": [
    "\n",
    "    sorted_case = ncsr.iloc[x, 1:].sort_values()\n",
    "    sorted_vars = list(sorted_case.index)\n",
    "    sorted_vars[3]"
   ]
  },
  {
   "cell_type": "code",
   "execution_count": 105,
   "metadata": {
    "tags": []
   },
   "outputs": [],
   "source": [
    "dpp_data = []\n",
    "\n",
    "ncsr = pd.read_csv('justage_vars_init.csv', index_col=0)\n",
    "for x in ncsr.index: \n",
    "    last_event = 0\n",
    "    sorted_case = ncsr.iloc[x, 1:].sort_values()\n",
    "    sorted_vars = list(sorted_case.index)\n",
    "    dpp_data.append([])\n",
    "    count = 0 \n",
    "    for y in range(len(sorted_case)):\n",
    "        if sorted_case[y] != -1:\n",
    "            dpp_data[x].append({})\n",
    "            dpp_data[x][count]['idx_event'] = count + 1\n",
    "            dpp_data[x][count]['type_event'] = list(ncsr.columns).index(sorted_vars[y])\n",
    "            dpp_data[x][count]['time_since_start'] = sorted_case[y]/max(sorted_case)\n",
    "            dpp_data[x][count]['time_since_last_same_event'] = sorted_case[y]/max(sorted_case)\n",
    "            dpp_data[x][count]['time_since_last_event'] = sorted_case[y]/max(sorted_case) - last_event\n",
    "            last_event = sorted_case[y]/max(sorted_case)\n",
    "            count += 1\n"
   ]
  },
  {
   "cell_type": "code",
   "execution_count": 103,
   "metadata": {},
   "outputs": [
    {
     "output_type": "execute_result",
     "data": {
      "text/plain": [
       "[{'idx_event': 1,\n",
       "  'type_event': 246,\n",
       "  'time_since_start': 0.16666666666666666,\n",
       "  'time_since_last_same_event': 0.16666666666666666,\n",
       "  'time_since_last_event': 0.16666666666666666},\n",
       " {'idx_event': 2,\n",
       "  'type_event': 247,\n",
       "  'time_since_start': 0.16666666666666666,\n",
       "  'time_since_last_same_event': 0.16666666666666666,\n",
       "  'time_since_last_event': 0.0},\n",
       " {'idx_event': 3,\n",
       "  'type_event': 219,\n",
       "  'time_since_start': 0.5,\n",
       "  'time_since_last_same_event': 0.5,\n",
       "  'time_since_last_event': 0.33333333333333337},\n",
       " {'idx_event': 4,\n",
       "  'type_event': 284,\n",
       "  'time_since_start': 0.5,\n",
       "  'time_since_last_same_event': 0.5,\n",
       "  'time_since_last_event': 0.0},\n",
       " {'idx_event': 5,\n",
       "  'type_event': 220,\n",
       "  'time_since_start': 0.7083333333333334,\n",
       "  'time_since_last_same_event': 0.7083333333333334,\n",
       "  'time_since_last_event': 0.20833333333333337},\n",
       " {'idx_event': 6,\n",
       "  'type_event': 285,\n",
       "  'time_since_start': 1.0,\n",
       "  'time_since_last_same_event': 1.0,\n",
       "  'time_since_last_event': 0.29166666666666663},\n",
       " {'idx_event': 7,\n",
       "  'type_event': 223,\n",
       "  'time_since_start': 1.0,\n",
       "  'time_since_last_same_event': 1.0,\n",
       "  'time_since_last_event': 0.0}]"
      ]
     },
     "metadata": {},
     "execution_count": 103
    }
   ],
   "source": [
    "dpp_data[3]\n"
   ]
  },
  {
   "cell_type": "code",
   "execution_count": 53,
   "metadata": {},
   "outputs": [
    {
     "output_type": "display_data",
     "data": {
      "text/plain": "<Figure size 1080x144 with 1 Axes>",
      "image/svg+xml": "<?xml version=\"1.0\" encoding=\"utf-8\" standalone=\"no\"?>\r\n<!DOCTYPE svg PUBLIC \"-//W3C//DTD SVG 1.1//EN\"\r\n  \"http://www.w3.org/Graphics/SVG/1.1/DTD/svg11.dtd\">\r\n<!-- Created with matplotlib (https://matplotlib.org/) -->\r\n<svg height=\"168.594375pt\" version=\"1.1\" viewBox=\"0 0 887.028125 168.594375\" width=\"887.028125pt\" xmlns=\"http://www.w3.org/2000/svg\" xmlns:xlink=\"http://www.w3.org/1999/xlink\">\r\n <metadata>\r\n  <rdf:RDF xmlns:cc=\"http://creativecommons.org/ns#\" xmlns:dc=\"http://purl.org/dc/elements/1.1/\" xmlns:rdf=\"http://www.w3.org/1999/02/22-rdf-syntax-ns#\">\r\n   <cc:Work>\r\n    <dc:type rdf:resource=\"http://purl.org/dc/dcmitype/StillImage\"/>\r\n    <dc:date>2021-03-17T17:13:46.310349</dc:date>\r\n    <dc:format>image/svg+xml</dc:format>\r\n    <dc:creator>\r\n     <cc:Agent>\r\n      <dc:title>Matplotlib v3.3.4, https://matplotlib.org/</dc:title>\r\n     </cc:Agent>\r\n    </dc:creator>\r\n   </cc:Work>\r\n  </rdf:RDF>\r\n </metadata>\r\n <defs>\r\n  <style type=\"text/css\">*{stroke-linecap:butt;stroke-linejoin:round;}</style>\r\n </defs>\r\n <g id=\"figure_1\">\r\n  <g id=\"patch_1\">\r\n   <path d=\"M 0 168.594375 \r\nL 887.028125 168.594375 \r\nL 887.028125 0 \r\nL 0 0 \r\nz\r\n\" style=\"fill:none;\"/>\r\n  </g>\r\n  <g id=\"axes_1\">\r\n   <g id=\"patch_2\">\r\n    <path d=\"M 42.828125 131.038125 \r\nL 879.828125 131.038125 \r\nL 879.828125 22.318125 \r\nL 42.828125 22.318125 \r\nz\r\n\" style=\"fill:#ffffff;\"/>\r\n   </g>\r\n   <g id=\"matplotlib.axis_1\">\r\n    <g id=\"xtick_1\">\r\n     <g id=\"line2d_1\">\r\n      <defs>\r\n       <path d=\"M 0 0 \r\nL 0 3.5 \r\n\" id=\"m3b1a7cb085\" style=\"stroke:#000000;stroke-width:0.8;\"/>\r\n      </defs>\r\n      <g>\r\n       <use style=\"stroke:#000000;stroke-width:0.8;\" x=\"62.314821\" xlink:href=\"#m3b1a7cb085\" y=\"131.038125\"/>\r\n      </g>\r\n     </g>\r\n     <g id=\"text_1\">\r\n      <!-- 0 -->\r\n      <g transform=\"translate(59.133571 145.636562)scale(0.1 -0.1)\">\r\n       <defs>\r\n        <path d=\"M 31.78125 66.40625 \r\nQ 24.171875 66.40625 20.328125 58.90625 \r\nQ 16.5 51.421875 16.5 36.375 \r\nQ 16.5 21.390625 20.328125 13.890625 \r\nQ 24.171875 6.390625 31.78125 6.390625 \r\nQ 39.453125 6.390625 43.28125 13.890625 \r\nQ 47.125 21.390625 47.125 36.375 \r\nQ 47.125 51.421875 43.28125 58.90625 \r\nQ 39.453125 66.40625 31.78125 66.40625 \r\nz\r\nM 31.78125 74.21875 \r\nQ 44.046875 74.21875 50.515625 64.515625 \r\nQ 56.984375 54.828125 56.984375 36.375 \r\nQ 56.984375 17.96875 50.515625 8.265625 \r\nQ 44.046875 -1.421875 31.78125 -1.421875 \r\nQ 19.53125 -1.421875 13.0625 8.265625 \r\nQ 6.59375 17.96875 6.59375 36.375 \r\nQ 6.59375 54.828125 13.0625 64.515625 \r\nQ 19.53125 74.21875 31.78125 74.21875 \r\nz\r\n\" id=\"DejaVuSans-48\"/>\r\n       </defs>\r\n       <use xlink:href=\"#DejaVuSans-48\"/>\r\n      </g>\r\n     </g>\r\n    </g>\r\n    <g id=\"xtick_2\">\r\n     <g id=\"line2d_2\">\r\n      <g>\r\n       <use style=\"stroke:#000000;stroke-width:0.8;\" x=\"186.039877\" xlink:href=\"#m3b1a7cb085\" y=\"131.038125\"/>\r\n      </g>\r\n     </g>\r\n     <g id=\"text_2\">\r\n      <!-- 20 -->\r\n      <g transform=\"translate(179.677377 145.636562)scale(0.1 -0.1)\">\r\n       <defs>\r\n        <path d=\"M 19.1875 8.296875 \r\nL 53.609375 8.296875 \r\nL 53.609375 0 \r\nL 7.328125 0 \r\nL 7.328125 8.296875 \r\nQ 12.9375 14.109375 22.625 23.890625 \r\nQ 32.328125 33.6875 34.8125 36.53125 \r\nQ 39.546875 41.84375 41.421875 45.53125 \r\nQ 43.3125 49.21875 43.3125 52.78125 \r\nQ 43.3125 58.59375 39.234375 62.25 \r\nQ 35.15625 65.921875 28.609375 65.921875 \r\nQ 23.96875 65.921875 18.8125 64.3125 \r\nQ 13.671875 62.703125 7.8125 59.421875 \r\nL 7.8125 69.390625 \r\nQ 13.765625 71.78125 18.9375 73 \r\nQ 24.125 74.21875 28.421875 74.21875 \r\nQ 39.75 74.21875 46.484375 68.546875 \r\nQ 53.21875 62.890625 53.21875 53.421875 \r\nQ 53.21875 48.921875 51.53125 44.890625 \r\nQ 49.859375 40.875 45.40625 35.40625 \r\nQ 44.1875 33.984375 37.640625 27.21875 \r\nQ 31.109375 20.453125 19.1875 8.296875 \r\nz\r\n\" id=\"DejaVuSans-50\"/>\r\n       </defs>\r\n       <use xlink:href=\"#DejaVuSans-50\"/>\r\n       <use x=\"63.623047\" xlink:href=\"#DejaVuSans-48\"/>\r\n      </g>\r\n     </g>\r\n    </g>\r\n    <g id=\"xtick_3\">\r\n     <g id=\"line2d_3\">\r\n      <g>\r\n       <use style=\"stroke:#000000;stroke-width:0.8;\" x=\"309.764932\" xlink:href=\"#m3b1a7cb085\" y=\"131.038125\"/>\r\n      </g>\r\n     </g>\r\n     <g id=\"text_3\">\r\n      <!-- 40 -->\r\n      <g transform=\"translate(303.402432 145.636562)scale(0.1 -0.1)\">\r\n       <defs>\r\n        <path d=\"M 37.796875 64.3125 \r\nL 12.890625 25.390625 \r\nL 37.796875 25.390625 \r\nz\r\nM 35.203125 72.90625 \r\nL 47.609375 72.90625 \r\nL 47.609375 25.390625 \r\nL 58.015625 25.390625 \r\nL 58.015625 17.1875 \r\nL 47.609375 17.1875 \r\nL 47.609375 0 \r\nL 37.796875 0 \r\nL 37.796875 17.1875 \r\nL 4.890625 17.1875 \r\nL 4.890625 26.703125 \r\nz\r\n\" id=\"DejaVuSans-52\"/>\r\n       </defs>\r\n       <use xlink:href=\"#DejaVuSans-52\"/>\r\n       <use x=\"63.623047\" xlink:href=\"#DejaVuSans-48\"/>\r\n      </g>\r\n     </g>\r\n    </g>\r\n    <g id=\"xtick_4\">\r\n     <g id=\"line2d_4\">\r\n      <g>\r\n       <use style=\"stroke:#000000;stroke-width:0.8;\" x=\"433.489988\" xlink:href=\"#m3b1a7cb085\" y=\"131.038125\"/>\r\n      </g>\r\n     </g>\r\n     <g id=\"text_4\">\r\n      <!-- 60 -->\r\n      <g transform=\"translate(427.127488 145.636562)scale(0.1 -0.1)\">\r\n       <defs>\r\n        <path d=\"M 33.015625 40.375 \r\nQ 26.375 40.375 22.484375 35.828125 \r\nQ 18.609375 31.296875 18.609375 23.390625 \r\nQ 18.609375 15.53125 22.484375 10.953125 \r\nQ 26.375 6.390625 33.015625 6.390625 \r\nQ 39.65625 6.390625 43.53125 10.953125 \r\nQ 47.40625 15.53125 47.40625 23.390625 \r\nQ 47.40625 31.296875 43.53125 35.828125 \r\nQ 39.65625 40.375 33.015625 40.375 \r\nz\r\nM 52.59375 71.296875 \r\nL 52.59375 62.3125 \r\nQ 48.875 64.0625 45.09375 64.984375 \r\nQ 41.3125 65.921875 37.59375 65.921875 \r\nQ 27.828125 65.921875 22.671875 59.328125 \r\nQ 17.53125 52.734375 16.796875 39.40625 \r\nQ 19.671875 43.65625 24.015625 45.921875 \r\nQ 28.375 48.1875 33.59375 48.1875 \r\nQ 44.578125 48.1875 50.953125 41.515625 \r\nQ 57.328125 34.859375 57.328125 23.390625 \r\nQ 57.328125 12.15625 50.6875 5.359375 \r\nQ 44.046875 -1.421875 33.015625 -1.421875 \r\nQ 20.359375 -1.421875 13.671875 8.265625 \r\nQ 6.984375 17.96875 6.984375 36.375 \r\nQ 6.984375 53.65625 15.1875 63.9375 \r\nQ 23.390625 74.21875 37.203125 74.21875 \r\nQ 40.921875 74.21875 44.703125 73.484375 \r\nQ 48.484375 72.75 52.59375 71.296875 \r\nz\r\n\" id=\"DejaVuSans-54\"/>\r\n       </defs>\r\n       <use xlink:href=\"#DejaVuSans-54\"/>\r\n       <use x=\"63.623047\" xlink:href=\"#DejaVuSans-48\"/>\r\n      </g>\r\n     </g>\r\n    </g>\r\n    <g id=\"xtick_5\">\r\n     <g id=\"line2d_5\">\r\n      <g>\r\n       <use style=\"stroke:#000000;stroke-width:0.8;\" x=\"557.215043\" xlink:href=\"#m3b1a7cb085\" y=\"131.038125\"/>\r\n      </g>\r\n     </g>\r\n     <g id=\"text_5\">\r\n      <!-- 80 -->\r\n      <g transform=\"translate(550.852543 145.636562)scale(0.1 -0.1)\">\r\n       <defs>\r\n        <path d=\"M 31.78125 34.625 \r\nQ 24.75 34.625 20.71875 30.859375 \r\nQ 16.703125 27.09375 16.703125 20.515625 \r\nQ 16.703125 13.921875 20.71875 10.15625 \r\nQ 24.75 6.390625 31.78125 6.390625 \r\nQ 38.8125 6.390625 42.859375 10.171875 \r\nQ 46.921875 13.96875 46.921875 20.515625 \r\nQ 46.921875 27.09375 42.890625 30.859375 \r\nQ 38.875 34.625 31.78125 34.625 \r\nz\r\nM 21.921875 38.8125 \r\nQ 15.578125 40.375 12.03125 44.71875 \r\nQ 8.5 49.078125 8.5 55.328125 \r\nQ 8.5 64.0625 14.71875 69.140625 \r\nQ 20.953125 74.21875 31.78125 74.21875 \r\nQ 42.671875 74.21875 48.875 69.140625 \r\nQ 55.078125 64.0625 55.078125 55.328125 \r\nQ 55.078125 49.078125 51.53125 44.71875 \r\nQ 48 40.375 41.703125 38.8125 \r\nQ 48.828125 37.15625 52.796875 32.3125 \r\nQ 56.78125 27.484375 56.78125 20.515625 \r\nQ 56.78125 9.90625 50.3125 4.234375 \r\nQ 43.84375 -1.421875 31.78125 -1.421875 \r\nQ 19.734375 -1.421875 13.25 4.234375 \r\nQ 6.78125 9.90625 6.78125 20.515625 \r\nQ 6.78125 27.484375 10.78125 32.3125 \r\nQ 14.796875 37.15625 21.921875 38.8125 \r\nz\r\nM 18.3125 54.390625 \r\nQ 18.3125 48.734375 21.84375 45.5625 \r\nQ 25.390625 42.390625 31.78125 42.390625 \r\nQ 38.140625 42.390625 41.71875 45.5625 \r\nQ 45.3125 48.734375 45.3125 54.390625 \r\nQ 45.3125 60.0625 41.71875 63.234375 \r\nQ 38.140625 66.40625 31.78125 66.40625 \r\nQ 25.390625 66.40625 21.84375 63.234375 \r\nQ 18.3125 60.0625 18.3125 54.390625 \r\nz\r\n\" id=\"DejaVuSans-56\"/>\r\n       </defs>\r\n       <use xlink:href=\"#DejaVuSans-56\"/>\r\n       <use x=\"63.623047\" xlink:href=\"#DejaVuSans-48\"/>\r\n      </g>\r\n     </g>\r\n    </g>\r\n    <g id=\"xtick_6\">\r\n     <g id=\"line2d_6\">\r\n      <g>\r\n       <use style=\"stroke:#000000;stroke-width:0.8;\" x=\"680.940098\" xlink:href=\"#m3b1a7cb085\" y=\"131.038125\"/>\r\n      </g>\r\n     </g>\r\n     <g id=\"text_6\">\r\n      <!-- 100 -->\r\n      <g transform=\"translate(671.396348 145.636562)scale(0.1 -0.1)\">\r\n       <defs>\r\n        <path d=\"M 12.40625 8.296875 \r\nL 28.515625 8.296875 \r\nL 28.515625 63.921875 \r\nL 10.984375 60.40625 \r\nL 10.984375 69.390625 \r\nL 28.421875 72.90625 \r\nL 38.28125 72.90625 \r\nL 38.28125 8.296875 \r\nL 54.390625 8.296875 \r\nL 54.390625 0 \r\nL 12.40625 0 \r\nz\r\n\" id=\"DejaVuSans-49\"/>\r\n       </defs>\r\n       <use xlink:href=\"#DejaVuSans-49\"/>\r\n       <use x=\"63.623047\" xlink:href=\"#DejaVuSans-48\"/>\r\n       <use x=\"127.246094\" xlink:href=\"#DejaVuSans-48\"/>\r\n      </g>\r\n     </g>\r\n    </g>\r\n    <g id=\"xtick_7\">\r\n     <g id=\"line2d_7\">\r\n      <g>\r\n       <use style=\"stroke:#000000;stroke-width:0.8;\" x=\"804.665154\" xlink:href=\"#m3b1a7cb085\" y=\"131.038125\"/>\r\n      </g>\r\n     </g>\r\n     <g id=\"text_7\">\r\n      <!-- 120 -->\r\n      <g transform=\"translate(795.121404 145.636562)scale(0.1 -0.1)\">\r\n       <use xlink:href=\"#DejaVuSans-49\"/>\r\n       <use x=\"63.623047\" xlink:href=\"#DejaVuSans-50\"/>\r\n       <use x=\"127.246094\" xlink:href=\"#DejaVuSans-48\"/>\r\n      </g>\r\n     </g>\r\n    </g>\r\n    <g id=\"text_8\">\r\n     <!-- Age in Years -->\r\n     <g transform=\"translate(430.728906 159.314687)scale(0.1 -0.1)\">\r\n      <defs>\r\n       <path d=\"M 34.1875 63.1875 \r\nL 20.796875 26.90625 \r\nL 47.609375 26.90625 \r\nz\r\nM 28.609375 72.90625 \r\nL 39.796875 72.90625 \r\nL 67.578125 0 \r\nL 57.328125 0 \r\nL 50.6875 18.703125 \r\nL 17.828125 18.703125 \r\nL 11.1875 0 \r\nL 0.78125 0 \r\nz\r\n\" id=\"DejaVuSans-65\"/>\r\n       <path d=\"M 45.40625 27.984375 \r\nQ 45.40625 37.75 41.375 43.109375 \r\nQ 37.359375 48.484375 30.078125 48.484375 \r\nQ 22.859375 48.484375 18.828125 43.109375 \r\nQ 14.796875 37.75 14.796875 27.984375 \r\nQ 14.796875 18.265625 18.828125 12.890625 \r\nQ 22.859375 7.515625 30.078125 7.515625 \r\nQ 37.359375 7.515625 41.375 12.890625 \r\nQ 45.40625 18.265625 45.40625 27.984375 \r\nz\r\nM 54.390625 6.78125 \r\nQ 54.390625 -7.171875 48.1875 -13.984375 \r\nQ 42 -20.796875 29.203125 -20.796875 \r\nQ 24.46875 -20.796875 20.265625 -20.09375 \r\nQ 16.0625 -19.390625 12.109375 -17.921875 \r\nL 12.109375 -9.1875 \r\nQ 16.0625 -11.328125 19.921875 -12.34375 \r\nQ 23.78125 -13.375 27.78125 -13.375 \r\nQ 36.625 -13.375 41.015625 -8.765625 \r\nQ 45.40625 -4.15625 45.40625 5.171875 \r\nL 45.40625 9.625 \r\nQ 42.625 4.78125 38.28125 2.390625 \r\nQ 33.9375 0 27.875 0 \r\nQ 17.828125 0 11.671875 7.65625 \r\nQ 5.515625 15.328125 5.515625 27.984375 \r\nQ 5.515625 40.671875 11.671875 48.328125 \r\nQ 17.828125 56 27.875 56 \r\nQ 33.9375 56 38.28125 53.609375 \r\nQ 42.625 51.21875 45.40625 46.390625 \r\nL 45.40625 54.6875 \r\nL 54.390625 54.6875 \r\nz\r\n\" id=\"DejaVuSans-103\"/>\r\n       <path d=\"M 56.203125 29.59375 \r\nL 56.203125 25.203125 \r\nL 14.890625 25.203125 \r\nQ 15.484375 15.921875 20.484375 11.0625 \r\nQ 25.484375 6.203125 34.421875 6.203125 \r\nQ 39.59375 6.203125 44.453125 7.46875 \r\nQ 49.3125 8.734375 54.109375 11.28125 \r\nL 54.109375 2.78125 \r\nQ 49.265625 0.734375 44.1875 -0.34375 \r\nQ 39.109375 -1.421875 33.890625 -1.421875 \r\nQ 20.796875 -1.421875 13.15625 6.1875 \r\nQ 5.515625 13.8125 5.515625 26.8125 \r\nQ 5.515625 40.234375 12.765625 48.109375 \r\nQ 20.015625 56 32.328125 56 \r\nQ 43.359375 56 49.78125 48.890625 \r\nQ 56.203125 41.796875 56.203125 29.59375 \r\nz\r\nM 47.21875 32.234375 \r\nQ 47.125 39.59375 43.09375 43.984375 \r\nQ 39.0625 48.390625 32.421875 48.390625 \r\nQ 24.90625 48.390625 20.390625 44.140625 \r\nQ 15.875 39.890625 15.1875 32.171875 \r\nz\r\n\" id=\"DejaVuSans-101\"/>\r\n       <path id=\"DejaVuSans-32\"/>\r\n       <path d=\"M 9.421875 54.6875 \r\nL 18.40625 54.6875 \r\nL 18.40625 0 \r\nL 9.421875 0 \r\nz\r\nM 9.421875 75.984375 \r\nL 18.40625 75.984375 \r\nL 18.40625 64.59375 \r\nL 9.421875 64.59375 \r\nz\r\n\" id=\"DejaVuSans-105\"/>\r\n       <path d=\"M 54.890625 33.015625 \r\nL 54.890625 0 \r\nL 45.90625 0 \r\nL 45.90625 32.71875 \r\nQ 45.90625 40.484375 42.875 44.328125 \r\nQ 39.84375 48.1875 33.796875 48.1875 \r\nQ 26.515625 48.1875 22.3125 43.546875 \r\nQ 18.109375 38.921875 18.109375 30.90625 \r\nL 18.109375 0 \r\nL 9.078125 0 \r\nL 9.078125 54.6875 \r\nL 18.109375 54.6875 \r\nL 18.109375 46.1875 \r\nQ 21.34375 51.125 25.703125 53.5625 \r\nQ 30.078125 56 35.796875 56 \r\nQ 45.21875 56 50.046875 50.171875 \r\nQ 54.890625 44.34375 54.890625 33.015625 \r\nz\r\n\" id=\"DejaVuSans-110\"/>\r\n       <path d=\"M -0.203125 72.90625 \r\nL 10.40625 72.90625 \r\nL 30.609375 42.921875 \r\nL 50.6875 72.90625 \r\nL 61.28125 72.90625 \r\nL 35.5 34.71875 \r\nL 35.5 0 \r\nL 25.59375 0 \r\nL 25.59375 34.71875 \r\nz\r\n\" id=\"DejaVuSans-89\"/>\r\n       <path d=\"M 34.28125 27.484375 \r\nQ 23.390625 27.484375 19.1875 25 \r\nQ 14.984375 22.515625 14.984375 16.5 \r\nQ 14.984375 11.71875 18.140625 8.90625 \r\nQ 21.296875 6.109375 26.703125 6.109375 \r\nQ 34.1875 6.109375 38.703125 11.40625 \r\nQ 43.21875 16.703125 43.21875 25.484375 \r\nL 43.21875 27.484375 \r\nz\r\nM 52.203125 31.203125 \r\nL 52.203125 0 \r\nL 43.21875 0 \r\nL 43.21875 8.296875 \r\nQ 40.140625 3.328125 35.546875 0.953125 \r\nQ 30.953125 -1.421875 24.3125 -1.421875 \r\nQ 15.921875 -1.421875 10.953125 3.296875 \r\nQ 6 8.015625 6 15.921875 \r\nQ 6 25.140625 12.171875 29.828125 \r\nQ 18.359375 34.515625 30.609375 34.515625 \r\nL 43.21875 34.515625 \r\nL 43.21875 35.40625 \r\nQ 43.21875 41.609375 39.140625 45 \r\nQ 35.0625 48.390625 27.6875 48.390625 \r\nQ 23 48.390625 18.546875 47.265625 \r\nQ 14.109375 46.140625 10.015625 43.890625 \r\nL 10.015625 52.203125 \r\nQ 14.9375 54.109375 19.578125 55.046875 \r\nQ 24.21875 56 28.609375 56 \r\nQ 40.484375 56 46.34375 49.84375 \r\nQ 52.203125 43.703125 52.203125 31.203125 \r\nz\r\n\" id=\"DejaVuSans-97\"/>\r\n       <path d=\"M 41.109375 46.296875 \r\nQ 39.59375 47.171875 37.8125 47.578125 \r\nQ 36.03125 48 33.890625 48 \r\nQ 26.265625 48 22.1875 43.046875 \r\nQ 18.109375 38.09375 18.109375 28.8125 \r\nL 18.109375 0 \r\nL 9.078125 0 \r\nL 9.078125 54.6875 \r\nL 18.109375 54.6875 \r\nL 18.109375 46.1875 \r\nQ 20.953125 51.171875 25.484375 53.578125 \r\nQ 30.03125 56 36.53125 56 \r\nQ 37.453125 56 38.578125 55.875 \r\nQ 39.703125 55.765625 41.0625 55.515625 \r\nz\r\n\" id=\"DejaVuSans-114\"/>\r\n       <path d=\"M 44.28125 53.078125 \r\nL 44.28125 44.578125 \r\nQ 40.484375 46.53125 36.375 47.5 \r\nQ 32.28125 48.484375 27.875 48.484375 \r\nQ 21.1875 48.484375 17.84375 46.4375 \r\nQ 14.5 44.390625 14.5 40.28125 \r\nQ 14.5 37.15625 16.890625 35.375 \r\nQ 19.28125 33.59375 26.515625 31.984375 \r\nL 29.59375 31.296875 \r\nQ 39.15625 29.25 43.1875 25.515625 \r\nQ 47.21875 21.78125 47.21875 15.09375 \r\nQ 47.21875 7.46875 41.1875 3.015625 \r\nQ 35.15625 -1.421875 24.609375 -1.421875 \r\nQ 20.21875 -1.421875 15.453125 -0.5625 \r\nQ 10.6875 0.296875 5.421875 2 \r\nL 5.421875 11.28125 \r\nQ 10.40625 8.6875 15.234375 7.390625 \r\nQ 20.0625 6.109375 24.8125 6.109375 \r\nQ 31.15625 6.109375 34.5625 8.28125 \r\nQ 37.984375 10.453125 37.984375 14.40625 \r\nQ 37.984375 18.0625 35.515625 20.015625 \r\nQ 33.0625 21.96875 24.703125 23.78125 \r\nL 21.578125 24.515625 \r\nQ 13.234375 26.265625 9.515625 29.90625 \r\nQ 5.8125 33.546875 5.8125 39.890625 \r\nQ 5.8125 47.609375 11.28125 51.796875 \r\nQ 16.75 56 26.8125 56 \r\nQ 31.78125 56 36.171875 55.265625 \r\nQ 40.578125 54.546875 44.28125 53.078125 \r\nz\r\n\" id=\"DejaVuSans-115\"/>\r\n      </defs>\r\n      <use xlink:href=\"#DejaVuSans-65\"/>\r\n      <use x=\"68.408203\" xlink:href=\"#DejaVuSans-103\"/>\r\n      <use x=\"131.884766\" xlink:href=\"#DejaVuSans-101\"/>\r\n      <use x=\"193.408203\" xlink:href=\"#DejaVuSans-32\"/>\r\n      <use x=\"225.195312\" xlink:href=\"#DejaVuSans-105\"/>\r\n      <use x=\"252.978516\" xlink:href=\"#DejaVuSans-110\"/>\r\n      <use x=\"316.357422\" xlink:href=\"#DejaVuSans-32\"/>\r\n      <use x=\"348.144531\" xlink:href=\"#DejaVuSans-89\"/>\r\n      <use x=\"395.978516\" xlink:href=\"#DejaVuSans-101\"/>\r\n      <use x=\"457.501953\" xlink:href=\"#DejaVuSans-97\"/>\r\n      <use x=\"518.78125\" xlink:href=\"#DejaVuSans-114\"/>\r\n      <use x=\"559.894531\" xlink:href=\"#DejaVuSans-115\"/>\r\n     </g>\r\n    </g>\r\n   </g>\r\n   <g id=\"matplotlib.axis_2\">\r\n    <g id=\"ytick_1\">\r\n     <g id=\"line2d_8\">\r\n      <defs>\r\n       <path d=\"M 0 0 \r\nL -3.5 0 \r\n\" id=\"m5ce06e486b\" style=\"stroke:#000000;stroke-width:0.8;\"/>\r\n      </defs>\r\n      <g>\r\n       <use style=\"stroke:#000000;stroke-width:0.8;\" x=\"42.828125\" xlink:href=\"#m5ce06e486b\" y=\"126.096307\"/>\r\n      </g>\r\n     </g>\r\n     <g id=\"text_9\">\r\n      <!-- 0.950 -->\r\n      <g transform=\"translate(7.2 129.895526)scale(0.1 -0.1)\">\r\n       <defs>\r\n        <path d=\"M 10.6875 12.40625 \r\nL 21 12.40625 \r\nL 21 0 \r\nL 10.6875 0 \r\nz\r\n\" id=\"DejaVuSans-46\"/>\r\n        <path d=\"M 10.984375 1.515625 \r\nL 10.984375 10.5 \r\nQ 14.703125 8.734375 18.5 7.8125 \r\nQ 22.3125 6.890625 25.984375 6.890625 \r\nQ 35.75 6.890625 40.890625 13.453125 \r\nQ 46.046875 20.015625 46.78125 33.40625 \r\nQ 43.953125 29.203125 39.59375 26.953125 \r\nQ 35.25 24.703125 29.984375 24.703125 \r\nQ 19.046875 24.703125 12.671875 31.3125 \r\nQ 6.296875 37.9375 6.296875 49.421875 \r\nQ 6.296875 60.640625 12.9375 67.421875 \r\nQ 19.578125 74.21875 30.609375 74.21875 \r\nQ 43.265625 74.21875 49.921875 64.515625 \r\nQ 56.59375 54.828125 56.59375 36.375 \r\nQ 56.59375 19.140625 48.40625 8.859375 \r\nQ 40.234375 -1.421875 26.421875 -1.421875 \r\nQ 22.703125 -1.421875 18.890625 -0.6875 \r\nQ 15.09375 0.046875 10.984375 1.515625 \r\nz\r\nM 30.609375 32.421875 \r\nQ 37.25 32.421875 41.125 36.953125 \r\nQ 45.015625 41.5 45.015625 49.421875 \r\nQ 45.015625 57.28125 41.125 61.84375 \r\nQ 37.25 66.40625 30.609375 66.40625 \r\nQ 23.96875 66.40625 20.09375 61.84375 \r\nQ 16.21875 57.28125 16.21875 49.421875 \r\nQ 16.21875 41.5 20.09375 36.953125 \r\nQ 23.96875 32.421875 30.609375 32.421875 \r\nz\r\n\" id=\"DejaVuSans-57\"/>\r\n        <path d=\"M 10.796875 72.90625 \r\nL 49.515625 72.90625 \r\nL 49.515625 64.59375 \r\nL 19.828125 64.59375 \r\nL 19.828125 46.734375 \r\nQ 21.96875 47.46875 24.109375 47.828125 \r\nQ 26.265625 48.1875 28.421875 48.1875 \r\nQ 40.625 48.1875 47.75 41.5 \r\nQ 54.890625 34.8125 54.890625 23.390625 \r\nQ 54.890625 11.625 47.5625 5.09375 \r\nQ 40.234375 -1.421875 26.90625 -1.421875 \r\nQ 22.3125 -1.421875 17.546875 -0.640625 \r\nQ 12.796875 0.140625 7.71875 1.703125 \r\nL 7.71875 11.625 \r\nQ 12.109375 9.234375 16.796875 8.0625 \r\nQ 21.484375 6.890625 26.703125 6.890625 \r\nQ 35.15625 6.890625 40.078125 11.328125 \r\nQ 45.015625 15.765625 45.015625 23.390625 \r\nQ 45.015625 31 40.078125 35.4375 \r\nQ 35.15625 39.890625 26.703125 39.890625 \r\nQ 22.75 39.890625 18.8125 39.015625 \r\nQ 14.890625 38.140625 10.796875 36.28125 \r\nz\r\n\" id=\"DejaVuSans-53\"/>\r\n       </defs>\r\n       <use xlink:href=\"#DejaVuSans-48\"/>\r\n       <use x=\"63.623047\" xlink:href=\"#DejaVuSans-46\"/>\r\n       <use x=\"95.410156\" xlink:href=\"#DejaVuSans-57\"/>\r\n       <use x=\"159.033203\" xlink:href=\"#DejaVuSans-53\"/>\r\n       <use x=\"222.65625\" xlink:href=\"#DejaVuSans-48\"/>\r\n      </g>\r\n     </g>\r\n    </g>\r\n    <g id=\"ytick_2\">\r\n     <g id=\"line2d_9\">\r\n      <g>\r\n       <use style=\"stroke:#000000;stroke-width:0.8;\" x=\"42.828125\" xlink:href=\"#m5ce06e486b\" y=\"101.387216\"/>\r\n      </g>\r\n     </g>\r\n     <g id=\"text_10\">\r\n      <!-- 0.975 -->\r\n      <g transform=\"translate(7.2 105.186435)scale(0.1 -0.1)\">\r\n       <defs>\r\n        <path d=\"M 8.203125 72.90625 \r\nL 55.078125 72.90625 \r\nL 55.078125 68.703125 \r\nL 28.609375 0 \r\nL 18.3125 0 \r\nL 43.21875 64.59375 \r\nL 8.203125 64.59375 \r\nz\r\n\" id=\"DejaVuSans-55\"/>\r\n       </defs>\r\n       <use xlink:href=\"#DejaVuSans-48\"/>\r\n       <use x=\"63.623047\" xlink:href=\"#DejaVuSans-46\"/>\r\n       <use x=\"95.410156\" xlink:href=\"#DejaVuSans-57\"/>\r\n       <use x=\"159.033203\" xlink:href=\"#DejaVuSans-55\"/>\r\n       <use x=\"222.65625\" xlink:href=\"#DejaVuSans-53\"/>\r\n      </g>\r\n     </g>\r\n    </g>\r\n    <g id=\"ytick_3\">\r\n     <g id=\"line2d_10\">\r\n      <g>\r\n       <use style=\"stroke:#000000;stroke-width:0.8;\" x=\"42.828125\" xlink:href=\"#m5ce06e486b\" y=\"76.678125\"/>\r\n      </g>\r\n     </g>\r\n     <g id=\"text_11\">\r\n      <!-- 1.000 -->\r\n      <g transform=\"translate(7.2 80.477344)scale(0.1 -0.1)\">\r\n       <use xlink:href=\"#DejaVuSans-49\"/>\r\n       <use x=\"63.623047\" xlink:href=\"#DejaVuSans-46\"/>\r\n       <use x=\"95.410156\" xlink:href=\"#DejaVuSans-48\"/>\r\n       <use x=\"159.033203\" xlink:href=\"#DejaVuSans-48\"/>\r\n       <use x=\"222.65625\" xlink:href=\"#DejaVuSans-48\"/>\r\n      </g>\r\n     </g>\r\n    </g>\r\n    <g id=\"ytick_4\">\r\n     <g id=\"line2d_11\">\r\n      <g>\r\n       <use style=\"stroke:#000000;stroke-width:0.8;\" x=\"42.828125\" xlink:href=\"#m5ce06e486b\" y=\"51.969034\"/>\r\n      </g>\r\n     </g>\r\n     <g id=\"text_12\">\r\n      <!-- 1.025 -->\r\n      <g transform=\"translate(7.2 55.768253)scale(0.1 -0.1)\">\r\n       <use xlink:href=\"#DejaVuSans-49\"/>\r\n       <use x=\"63.623047\" xlink:href=\"#DejaVuSans-46\"/>\r\n       <use x=\"95.410156\" xlink:href=\"#DejaVuSans-48\"/>\r\n       <use x=\"159.033203\" xlink:href=\"#DejaVuSans-50\"/>\r\n       <use x=\"222.65625\" xlink:href=\"#DejaVuSans-53\"/>\r\n      </g>\r\n     </g>\r\n    </g>\r\n    <g id=\"ytick_5\">\r\n     <g id=\"line2d_12\">\r\n      <g>\r\n       <use style=\"stroke:#000000;stroke-width:0.8;\" x=\"42.828125\" xlink:href=\"#m5ce06e486b\" y=\"27.259943\"/>\r\n      </g>\r\n     </g>\r\n     <g id=\"text_13\">\r\n      <!-- 1.050 -->\r\n      <g transform=\"translate(7.2 31.059162)scale(0.1 -0.1)\">\r\n       <use xlink:href=\"#DejaVuSans-49\"/>\r\n       <use x=\"63.623047\" xlink:href=\"#DejaVuSans-46\"/>\r\n       <use x=\"95.410156\" xlink:href=\"#DejaVuSans-48\"/>\r\n       <use x=\"159.033203\" xlink:href=\"#DejaVuSans-53\"/>\r\n       <use x=\"222.65625\" xlink:href=\"#DejaVuSans-48\"/>\r\n      </g>\r\n     </g>\r\n    </g>\r\n   </g>\r\n   <g id=\"line2d_13\">\r\n    <defs>\r\n     <path d=\"M 0 1.5 \r\nC 0.397805 1.5 0.77937 1.341951 1.06066 1.06066 \r\nC 1.341951 0.77937 1.5 0.397805 1.5 0 \r\nC 1.5 -0.397805 1.341951 -0.77937 1.06066 -1.06066 \r\nC 0.77937 -1.341951 0.397805 -1.5 0 -1.5 \r\nC -0.397805 -1.5 -0.77937 -1.341951 -1.06066 -1.06066 \r\nC -1.341951 -0.77937 -1.5 -0.397805 -1.5 0 \r\nC -1.5 0.397805 -1.341951 0.77937 -1.06066 1.06066 \r\nC -0.77937 1.341951 -0.397805 1.5 0 1.5 \r\nz\r\n\" id=\"md9b715a8ae\" style=\"stroke:#000000;\"/>\r\n    </defs>\r\n    <g clip-path=\"url(#p1a257ca117)\">\r\n     <use style=\"stroke:#000000;\" x=\"841.78267\" xlink:href=\"#md9b715a8ae\" y=\"76.678125\"/>\r\n     <use style=\"stroke:#000000;\" x=\"297.392427\" xlink:href=\"#md9b715a8ae\" y=\"76.678125\"/>\r\n     <use style=\"stroke:#000000;\" x=\"235.529899\" xlink:href=\"#md9b715a8ae\" y=\"76.678125\"/>\r\n     <use style=\"stroke:#000000;\" x=\"291.206174\" xlink:href=\"#md9b715a8ae\" y=\"76.678125\"/>\r\n     <use style=\"stroke:#000000;\" x=\"235.529899\" xlink:href=\"#md9b715a8ae\" y=\"76.678125\"/>\r\n     <use style=\"stroke:#000000;\" x=\"229.343646\" xlink:href=\"#md9b715a8ae\" y=\"76.678125\"/>\r\n     <use style=\"stroke:#000000;\" x=\"278.833668\" xlink:href=\"#md9b715a8ae\" y=\"76.678125\"/>\r\n     <use style=\"stroke:#000000;\" x=\"247.902404\" xlink:href=\"#md9b715a8ae\" y=\"76.678125\"/>\r\n     <use style=\"stroke:#000000;\" x=\"216.971141\" xlink:href=\"#md9b715a8ae\" y=\"76.678125\"/>\r\n     <use style=\"stroke:#000000;\" x=\"167.481118\" xlink:href=\"#md9b715a8ae\" y=\"76.678125\"/>\r\n     <use style=\"stroke:#000000;\" x=\"186.039877\" xlink:href=\"#md9b715a8ae\" y=\"76.678125\"/>\r\n     <use style=\"stroke:#000000;\" x=\"235.529899\" xlink:href=\"#md9b715a8ae\" y=\"76.678125\"/>\r\n     <use style=\"stroke:#000000;\" x=\"167.481118\" xlink:href=\"#md9b715a8ae\" y=\"76.678125\"/>\r\n     <use style=\"stroke:#000000;\" x=\"167.481118\" xlink:href=\"#md9b715a8ae\" y=\"76.678125\"/>\r\n     <use style=\"stroke:#000000;\" x=\"272.647415\" xlink:href=\"#md9b715a8ae\" y=\"76.678125\"/>\r\n     <use style=\"stroke:#000000;\" x=\"235.529899\" xlink:href=\"#md9b715a8ae\" y=\"76.678125\"/>\r\n     <use style=\"stroke:#000000;\" x=\"235.529899\" xlink:href=\"#md9b715a8ae\" y=\"76.678125\"/>\r\n     <use style=\"stroke:#000000;\" x=\"297.392427\" xlink:href=\"#md9b715a8ae\" y=\"76.678125\"/>\r\n     <use style=\"stroke:#000000;\" x=\"173.667371\" xlink:href=\"#md9b715a8ae\" y=\"76.678125\"/>\r\n     <use style=\"stroke:#000000;\" x=\"161.294866\" xlink:href=\"#md9b715a8ae\" y=\"76.678125\"/>\r\n     <use style=\"stroke:#000000;\" x=\"161.294866\" xlink:href=\"#md9b715a8ae\" y=\"76.678125\"/>\r\n     <use style=\"stroke:#000000;\" x=\"161.294866\" xlink:href=\"#md9b715a8ae\" y=\"76.678125\"/>\r\n     <use style=\"stroke:#000000;\" x=\"235.529899\" xlink:href=\"#md9b715a8ae\" y=\"76.678125\"/>\r\n     <use style=\"stroke:#000000;\" x=\"235.529899\" xlink:href=\"#md9b715a8ae\" y=\"76.678125\"/>\r\n     <use style=\"stroke:#000000;\" x=\"167.481118\" xlink:href=\"#md9b715a8ae\" y=\"76.678125\"/>\r\n     <use style=\"stroke:#000000;\" x=\"235.529899\" xlink:href=\"#md9b715a8ae\" y=\"76.678125\"/>\r\n     <use style=\"stroke:#000000;\" x=\"161.294866\" xlink:href=\"#md9b715a8ae\" y=\"76.678125\"/>\r\n     <use style=\"stroke:#000000;\" x=\"173.667371\" xlink:href=\"#md9b715a8ae\" y=\"76.678125\"/>\r\n     <use style=\"stroke:#000000;\" x=\"117.991096\" xlink:href=\"#md9b715a8ae\" y=\"76.678125\"/>\r\n     <use style=\"stroke:#000000;\" x=\"192.226129\" xlink:href=\"#md9b715a8ae\" y=\"76.678125\"/>\r\n     <use style=\"stroke:#000000;\" x=\"278.833668\" xlink:href=\"#md9b715a8ae\" y=\"76.678125\"/>\r\n     <use style=\"stroke:#000000;\" x=\"167.481118\" xlink:href=\"#md9b715a8ae\" y=\"76.678125\"/>\r\n     <use style=\"stroke:#000000;\" x=\"161.294866\" xlink:href=\"#md9b715a8ae\" y=\"76.678125\"/>\r\n     <use style=\"stroke:#000000;\" x=\"297.392427\" xlink:href=\"#md9b715a8ae\" y=\"76.678125\"/>\r\n     <use style=\"stroke:#000000;\" x=\"198.412382\" xlink:href=\"#md9b715a8ae\" y=\"76.678125\"/>\r\n     <use style=\"stroke:#000000;\" x=\"167.481118\" xlink:href=\"#md9b715a8ae\" y=\"76.678125\"/>\r\n     <use style=\"stroke:#000000;\" x=\"186.039877\" xlink:href=\"#md9b715a8ae\" y=\"76.678125\"/>\r\n     <use style=\"stroke:#000000;\" x=\"142.736107\" xlink:href=\"#md9b715a8ae\" y=\"76.678125\"/>\r\n     <use style=\"stroke:#000000;\" x=\"80.87358\" xlink:href=\"#md9b715a8ae\" y=\"76.678125\"/>\r\n     <use style=\"stroke:#000000;\" x=\"80.87358\" xlink:href=\"#md9b715a8ae\" y=\"76.678125\"/>\r\n     <use style=\"stroke:#000000;\" x=\"167.481118\" xlink:href=\"#md9b715a8ae\" y=\"76.678125\"/>\r\n     <use style=\"stroke:#000000;\" x=\"198.412382\" xlink:href=\"#md9b715a8ae\" y=\"76.678125\"/>\r\n    </g>\r\n   </g>\r\n   <g id=\"patch_3\">\r\n    <path d=\"M 42.828125 131.038125 \r\nL 42.828125 22.318125 \r\n\" style=\"fill:none;stroke:#000000;stroke-linecap:square;stroke-linejoin:miter;stroke-width:0.8;\"/>\r\n   </g>\r\n   <g id=\"patch_4\">\r\n    <path d=\"M 879.828125 131.038125 \r\nL 879.828125 22.318125 \r\n\" style=\"fill:none;stroke:#000000;stroke-linecap:square;stroke-linejoin:miter;stroke-width:0.8;\"/>\r\n   </g>\r\n   <g id=\"patch_5\">\r\n    <path d=\"M 42.828125 131.038125 \r\nL 879.828125 131.038125 \r\n\" style=\"fill:none;stroke:#000000;stroke-linecap:square;stroke-linejoin:miter;stroke-width:0.8;\"/>\r\n   </g>\r\n   <g id=\"patch_6\">\r\n    <path d=\"M 42.828125 22.318125 \r\nL 879.828125 22.318125 \r\n\" style=\"fill:none;stroke:#000000;stroke-linecap:square;stroke-linejoin:miter;stroke-width:0.8;\"/>\r\n   </g>\r\n   <g id=\"text_14\">\r\n    <!-- Events for CaseID 126 -->\r\n    <g transform=\"translate(394.51625 16.318125)scale(0.12 -0.12)\">\r\n     <defs>\r\n      <path d=\"M 9.8125 72.90625 \r\nL 55.90625 72.90625 \r\nL 55.90625 64.59375 \r\nL 19.671875 64.59375 \r\nL 19.671875 43.015625 \r\nL 54.390625 43.015625 \r\nL 54.390625 34.71875 \r\nL 19.671875 34.71875 \r\nL 19.671875 8.296875 \r\nL 56.78125 8.296875 \r\nL 56.78125 0 \r\nL 9.8125 0 \r\nz\r\n\" id=\"DejaVuSans-69\"/>\r\n      <path d=\"M 2.984375 54.6875 \r\nL 12.5 54.6875 \r\nL 29.59375 8.796875 \r\nL 46.6875 54.6875 \r\nL 56.203125 54.6875 \r\nL 35.6875 0 \r\nL 23.484375 0 \r\nz\r\n\" id=\"DejaVuSans-118\"/>\r\n      <path d=\"M 18.3125 70.21875 \r\nL 18.3125 54.6875 \r\nL 36.8125 54.6875 \r\nL 36.8125 47.703125 \r\nL 18.3125 47.703125 \r\nL 18.3125 18.015625 \r\nQ 18.3125 11.328125 20.140625 9.421875 \r\nQ 21.96875 7.515625 27.59375 7.515625 \r\nL 36.8125 7.515625 \r\nL 36.8125 0 \r\nL 27.59375 0 \r\nQ 17.1875 0 13.234375 3.875 \r\nQ 9.28125 7.765625 9.28125 18.015625 \r\nL 9.28125 47.703125 \r\nL 2.6875 47.703125 \r\nL 2.6875 54.6875 \r\nL 9.28125 54.6875 \r\nL 9.28125 70.21875 \r\nz\r\n\" id=\"DejaVuSans-116\"/>\r\n      <path d=\"M 37.109375 75.984375 \r\nL 37.109375 68.5 \r\nL 28.515625 68.5 \r\nQ 23.6875 68.5 21.796875 66.546875 \r\nQ 19.921875 64.59375 19.921875 59.515625 \r\nL 19.921875 54.6875 \r\nL 34.71875 54.6875 \r\nL 34.71875 47.703125 \r\nL 19.921875 47.703125 \r\nL 19.921875 0 \r\nL 10.890625 0 \r\nL 10.890625 47.703125 \r\nL 2.296875 47.703125 \r\nL 2.296875 54.6875 \r\nL 10.890625 54.6875 \r\nL 10.890625 58.5 \r\nQ 10.890625 67.625 15.140625 71.796875 \r\nQ 19.390625 75.984375 28.609375 75.984375 \r\nz\r\n\" id=\"DejaVuSans-102\"/>\r\n      <path d=\"M 30.609375 48.390625 \r\nQ 23.390625 48.390625 19.1875 42.75 \r\nQ 14.984375 37.109375 14.984375 27.296875 \r\nQ 14.984375 17.484375 19.15625 11.84375 \r\nQ 23.34375 6.203125 30.609375 6.203125 \r\nQ 37.796875 6.203125 41.984375 11.859375 \r\nQ 46.1875 17.53125 46.1875 27.296875 \r\nQ 46.1875 37.015625 41.984375 42.703125 \r\nQ 37.796875 48.390625 30.609375 48.390625 \r\nz\r\nM 30.609375 56 \r\nQ 42.328125 56 49.015625 48.375 \r\nQ 55.71875 40.765625 55.71875 27.296875 \r\nQ 55.71875 13.875 49.015625 6.21875 \r\nQ 42.328125 -1.421875 30.609375 -1.421875 \r\nQ 18.84375 -1.421875 12.171875 6.21875 \r\nQ 5.515625 13.875 5.515625 27.296875 \r\nQ 5.515625 40.765625 12.171875 48.375 \r\nQ 18.84375 56 30.609375 56 \r\nz\r\n\" id=\"DejaVuSans-111\"/>\r\n      <path d=\"M 64.40625 67.28125 \r\nL 64.40625 56.890625 \r\nQ 59.421875 61.53125 53.78125 63.8125 \r\nQ 48.140625 66.109375 41.796875 66.109375 \r\nQ 29.296875 66.109375 22.65625 58.46875 \r\nQ 16.015625 50.828125 16.015625 36.375 \r\nQ 16.015625 21.96875 22.65625 14.328125 \r\nQ 29.296875 6.6875 41.796875 6.6875 \r\nQ 48.140625 6.6875 53.78125 8.984375 \r\nQ 59.421875 11.28125 64.40625 15.921875 \r\nL 64.40625 5.609375 \r\nQ 59.234375 2.09375 53.4375 0.328125 \r\nQ 47.65625 -1.421875 41.21875 -1.421875 \r\nQ 24.65625 -1.421875 15.125 8.703125 \r\nQ 5.609375 18.84375 5.609375 36.375 \r\nQ 5.609375 53.953125 15.125 64.078125 \r\nQ 24.65625 74.21875 41.21875 74.21875 \r\nQ 47.75 74.21875 53.53125 72.484375 \r\nQ 59.328125 70.75 64.40625 67.28125 \r\nz\r\n\" id=\"DejaVuSans-67\"/>\r\n      <path d=\"M 9.8125 72.90625 \r\nL 19.671875 72.90625 \r\nL 19.671875 0 \r\nL 9.8125 0 \r\nz\r\n\" id=\"DejaVuSans-73\"/>\r\n      <path d=\"M 19.671875 64.796875 \r\nL 19.671875 8.109375 \r\nL 31.59375 8.109375 \r\nQ 46.6875 8.109375 53.6875 14.9375 \r\nQ 60.6875 21.78125 60.6875 36.53125 \r\nQ 60.6875 51.171875 53.6875 57.984375 \r\nQ 46.6875 64.796875 31.59375 64.796875 \r\nz\r\nM 9.8125 72.90625 \r\nL 30.078125 72.90625 \r\nQ 51.265625 72.90625 61.171875 64.09375 \r\nQ 71.09375 55.28125 71.09375 36.53125 \r\nQ 71.09375 17.671875 61.125 8.828125 \r\nQ 51.171875 0 30.078125 0 \r\nL 9.8125 0 \r\nz\r\n\" id=\"DejaVuSans-68\"/>\r\n     </defs>\r\n     <use xlink:href=\"#DejaVuSans-69\"/>\r\n     <use x=\"63.183594\" xlink:href=\"#DejaVuSans-118\"/>\r\n     <use x=\"122.363281\" xlink:href=\"#DejaVuSans-101\"/>\r\n     <use x=\"183.886719\" xlink:href=\"#DejaVuSans-110\"/>\r\n     <use x=\"247.265625\" xlink:href=\"#DejaVuSans-116\"/>\r\n     <use x=\"286.474609\" xlink:href=\"#DejaVuSans-115\"/>\r\n     <use x=\"338.574219\" xlink:href=\"#DejaVuSans-32\"/>\r\n     <use x=\"370.361328\" xlink:href=\"#DejaVuSans-102\"/>\r\n     <use x=\"405.566406\" xlink:href=\"#DejaVuSans-111\"/>\r\n     <use x=\"466.748047\" xlink:href=\"#DejaVuSans-114\"/>\r\n     <use x=\"507.861328\" xlink:href=\"#DejaVuSans-32\"/>\r\n     <use x=\"539.648438\" xlink:href=\"#DejaVuSans-67\"/>\r\n     <use x=\"609.472656\" xlink:href=\"#DejaVuSans-97\"/>\r\n     <use x=\"670.751953\" xlink:href=\"#DejaVuSans-115\"/>\r\n     <use x=\"722.851562\" xlink:href=\"#DejaVuSans-101\"/>\r\n     <use x=\"784.375\" xlink:href=\"#DejaVuSans-73\"/>\r\n     <use x=\"813.867188\" xlink:href=\"#DejaVuSans-68\"/>\r\n     <use x=\"890.869141\" xlink:href=\"#DejaVuSans-32\"/>\r\n     <use x=\"922.65625\" xlink:href=\"#DejaVuSans-49\"/>\r\n     <use x=\"986.279297\" xlink:href=\"#DejaVuSans-50\"/>\r\n     <use x=\"1049.902344\" xlink:href=\"#DejaVuSans-54\"/>\r\n    </g>\r\n   </g>\r\n  </g>\r\n </g>\r\n <defs>\r\n  <clipPath id=\"p1a257ca117\">\r\n   <rect height=\"108.72\" width=\"837\" x=\"42.828125\" y=\"22.318125\"/>\r\n  </clipPath>\r\n </defs>\r\n</svg>\r\n",
      "image/png": "[encoded data removed]"
     },
     "metadata": {
      "needs_background": "light"
     }
    }
   ],
   "source": [
    "cn = 125\n",
    "sorted_values = [ x for x in ncsr.iloc[cn,:] if x != -1 ]\n",
    "plt.figure(figsize=(15, 2))\n",
    "plt.title(\"Events for CaseID \"+ str(cn+1))\n",
    "plt.xlabel(\"Age in Years\")\n",
    "plt.plot(np.array(sorted_values), np.ones(len(sorted_values)), 'k.')\n",
    "plt.savefig(\"case_id_events_\" + str(cn+1) + \".jpg\", bbox_inches = 'tight')"
   ]
  },
  {
   "source": [
    "from tick.plot import plot_point_process\n",
    "from tick.hawkes import SimuHawkes, HawkesKernelSumExp"
   ],
   "cell_type": "code",
   "metadata": {},
   "execution_count": 56,
   "outputs": []
  },
  {
   "cell_type": "code",
   "execution_count": 64,
   "metadata": {},
   "outputs": [
    {
     "output_type": "error",
     "ename": "ValueError",
     "evalue": "n_nodes will be automatically calculated if baseline or kernels is set",
     "traceback": [
      "\u001b[1;31m---------------------------------------------------------------------------\u001b[0m",
      "\u001b[1;31mValueError\u001b[0m                                Traceback (most recent call last)",
      "\u001b[1;32m<ipython-input-64-c38dca7dda39>\u001b[0m in \u001b[0;36m<module>\u001b[1;34m\u001b[0m\n\u001b[1;32m----> 1\u001b[1;33m \u001b[0mhawkes\u001b[0m \u001b[1;33m=\u001b[0m \u001b[0mSimuHawkes\u001b[0m\u001b[1;33m(\u001b[0m\u001b[0mn_nodes\u001b[0m\u001b[1;33m=\u001b[0m\u001b[1;36m1\u001b[0m\u001b[1;33m,\u001b[0m \u001b[0mend_time\u001b[0m \u001b[1;33m=\u001b[0m \u001b[1;36m40\u001b[0m\u001b[1;33m,\u001b[0m \u001b[0mverbose\u001b[0m\u001b[1;33m=\u001b[0m\u001b[1;32mFalse\u001b[0m\u001b[1;33m,\u001b[0m \u001b[0mbaseline\u001b[0m \u001b[1;33m=\u001b[0m \u001b[0msorted_values\u001b[0m\u001b[1;33m)\u001b[0m\u001b[1;33m\u001b[0m\u001b[1;33m\u001b[0m\u001b[0m\n\u001b[0m",
      "\u001b[1;32m~\\miniconda3\\lib\\site-packages\\tick\\hawkes\\simulation\\simu_hawkes.py\u001b[0m in \u001b[0;36m__init__\u001b[1;34m(self, kernels, baseline, n_nodes, end_time, period_length, max_jumps, seed, verbose, force_simulation)\u001b[0m\n\u001b[0;32m    127\u001b[0m                 \u001b[0mbaseline\u001b[0m \u001b[1;33m=\u001b[0m \u001b[0mbaseline\u001b[0m\u001b[1;33m.\u001b[0m\u001b[0mastype\u001b[0m\u001b[1;33m(\u001b[0m\u001b[0mfloat\u001b[0m\u001b[1;33m)\u001b[0m\u001b[1;33m\u001b[0m\u001b[1;33m\u001b[0m\u001b[0m\n\u001b[0;32m    128\u001b[0m \u001b[1;33m\u001b[0m\u001b[0m\n\u001b[1;32m--> 129\u001b[1;33m         \u001b[0mself\u001b[0m\u001b[1;33m.\u001b[0m\u001b[0mcheck_parameters_coherence\u001b[0m\u001b[1;33m(\u001b[0m\u001b[0mkernels\u001b[0m\u001b[1;33m,\u001b[0m \u001b[0mbaseline\u001b[0m\u001b[1;33m,\u001b[0m \u001b[0mn_nodes\u001b[0m\u001b[1;33m)\u001b[0m\u001b[1;33m\u001b[0m\u001b[1;33m\u001b[0m\u001b[0m\n\u001b[0m\u001b[0;32m    130\u001b[0m \u001b[1;33m\u001b[0m\u001b[0m\n\u001b[0;32m    131\u001b[0m         \u001b[1;31m# Init _pp so we have access to self.n_nodes\u001b[0m\u001b[1;33m\u001b[0m\u001b[1;33m\u001b[0m\u001b[1;33m\u001b[0m\u001b[0m\n",
      "\u001b[1;32m~\\miniconda3\\lib\\site-packages\\tick\\hawkes\\simulation\\simu_hawkes.py\u001b[0m in \u001b[0;36mcheck_parameters_coherence\u001b[1;34m(self, kernels, baseline, n_nodes)\u001b[0m\n\u001b[0;32m    192\u001b[0m \u001b[1;33m\u001b[0m\u001b[0m\n\u001b[0;32m    193\u001b[0m         \u001b[1;32mif\u001b[0m \u001b[0mset_n_nodes\u001b[0m \u001b[1;32mand\u001b[0m \u001b[1;33m(\u001b[0m\u001b[0mset_kernels\u001b[0m \u001b[1;32mor\u001b[0m \u001b[0mset_baseline\u001b[0m\u001b[1;33m)\u001b[0m\u001b[1;33m:\u001b[0m\u001b[1;33m\u001b[0m\u001b[1;33m\u001b[0m\u001b[0m\n\u001b[1;32m--> 194\u001b[1;33m             raise ValueError(\"n_nodes will be automatically calculated if \"\n\u001b[0m\u001b[0;32m    195\u001b[0m                              \"baseline or kernels is set\")\n\u001b[0;32m    196\u001b[0m \u001b[1;33m\u001b[0m\u001b[0m\n",
      "\u001b[1;31mValueError\u001b[0m: n_nodes will be automatically calculated if baseline or kernels is set"
     ]
    }
   ],
   "source": [
    "hawkes = SimuHawkes(n_nodes=1, end_time = 40, verbose=False, baseline = sorted_values)"
   ]
  },
  {
   "cell_type": "code",
   "execution_count": 58,
   "metadata": {},
   "outputs": [
    {
     "output_type": "execute_result",
     "data": {
      "text/plain": [
       "<tick.hawkes.simulation.simu_hawkes.SimuHawkes at 0x294cc616430>"
      ]
     },
     "metadata": {},
     "execution_count": 58
    }
   ],
   "source": [
    "hawkes"
   ]
  },
  {
   "cell_type": "code",
   "execution_count": 59,
   "metadata": {},
   "outputs": [
    {
     "output_type": "execute_result",
     "data": {
      "text/plain": [
       "<bound method Simu.simulate of <tick.hawkes.simulation.simu_hawkes.SimuHawkes object at 0x00000294CC616430>>"
      ]
     },
     "metadata": {},
     "execution_count": 59
    }
   ],
   "source": [
    "hawkes.simulate"
   ]
  },
  {
   "cell_type": "code",
   "execution_count": 63,
   "metadata": {},
   "outputs": [
    {
     "output_type": "execute_result",
     "data": {
      "text/plain": [
       "array([8.27578359e-313, 8.27578359e-313, 3.39519327e-313, 3.39519327e-313,\n",
       "       8.48798317e-314, 6.36598737e-313])"
      ]
     },
     "metadata": {},
     "execution_count": 63
    }
   ],
   "source": [
    "np.ndarray(6)"
   ]
  },
  {
   "cell_type": "code",
   "execution_count": 74,
   "metadata": {},
   "outputs": [],
   "source": [
    "mc = pd.read_csv(\"monte_carlo_matrix.csv\", index_col=0)"
   ]
  },
  {
   "cell_type": "code",
   "execution_count": 75,
   "metadata": {},
   "outputs": [],
   "source": [
    "mc = mc/4708900\n"
   ]
  },
  {
   "cell_type": "code",
   "execution_count": 76,
   "metadata": {},
   "outputs": [
    {
     "output_type": "execute_result",
     "data": {
      "text/plain": [
       "            D37A      D37B       D42       D47      D59A      D72A      D87A  \\\n",
       "D37A    0.000000  0.000019  0.000025  0.000022  0.000018  0.000022  0.000021   \n",
       "D37B    0.000019  0.000000  0.000022  0.000021  0.000020  0.000020  0.000018   \n",
       "D42     0.000025  0.000024  0.000000  0.000021  0.000022  0.000021  0.000024   \n",
       "D47     0.000023  0.000021  0.000024  0.000000  0.000022  0.000020  0.000023   \n",
       "D59A    0.000023  0.000022  0.000021  0.000020  0.000000  0.000017  0.000021   \n",
       "...          ...       ...       ...       ...       ...       ...       ...   \n",
       "EA19B   0.000019  0.000024  0.000022  0.000021  0.000020  0.000021  0.000024   \n",
       "EA19B1  0.000024  0.000017  0.000020  0.000018  0.000022  0.000022  0.000022   \n",
       "EA26A   0.000020  0.000023  0.000023  0.000020  0.000021  0.000020  0.000023   \n",
       "EA35A   0.000021  0.000024  0.000020  0.000021  0.000022  0.000021  0.000021   \n",
       "EA37A   0.000026  0.000020  0.000026  0.000022  0.000021  0.000020  0.000019   \n",
       "\n",
       "           D37B1      M18A     M18B1  ...   DM_MR19    PT246A    PT256A  \\\n",
       "D37A    0.000021  0.000019  0.000019  ...  0.000021  0.000022  0.000019   \n",
       "D37B    0.000021  0.000021  0.000020  ...  0.000017  0.000019  0.000021   \n",
       "D42     0.000021  0.000024  0.000018  ...  0.000021  0.000023  0.000019   \n",
       "D47     0.000021  0.000019  0.000022  ...  0.000020  0.000021  0.000022   \n",
       "D59A    0.000022  0.000022  0.000024  ...  0.000024  0.000021  0.000021   \n",
       "...          ...       ...       ...  ...       ...       ...       ...   \n",
       "EA19B   0.000021  0.000021  0.000023  ...  0.000022  0.000022  0.000021   \n",
       "EA19B1  0.000021  0.000023  0.000023  ...  0.000021  0.000023  0.000020   \n",
       "EA26A   0.000024  0.000022  0.000021  ...  0.000021  0.000023  0.000022   \n",
       "EA35A   0.000020  0.000022  0.000018  ...  0.000021  0.000025  0.000022   \n",
       "EA37A   0.000022  0.000024  0.000020  ...  0.000016  0.000019  0.000027   \n",
       "\n",
       "          EA12B1     EA19A     EA19B    EA19B1     EA26A     EA35A     EA37A  \n",
       "D37A    0.000021  0.000020  0.000020  0.000022  0.000018  0.000024  0.000024  \n",
       "D37B    0.000024  0.000019  0.000021  0.000024  0.000018  0.000022  0.000022  \n",
       "D42     0.000021  0.000023  0.000021  0.000021  0.000021  0.000020  0.000021  \n",
       "D47     0.000023  0.000019  0.000020  0.000024  0.000018  0.000026  0.000021  \n",
       "D59A    0.000022  0.000024  0.000023  0.000019  0.000020  0.000020  0.000020  \n",
       "...          ...       ...       ...       ...       ...       ...       ...  \n",
       "EA19B   0.000018  0.000021  0.000000  0.000019  0.000024  0.000021  0.000018  \n",
       "EA19B1  0.000021  0.000021  0.000021  0.000000  0.000021  0.000022  0.000021  \n",
       "EA26A   0.000020  0.000021  0.000022  0.000019  0.000000  0.000020  0.000024  \n",
       "EA35A   0.000021  0.000021  0.000021  0.000023  0.000020  0.000000  0.000021  \n",
       "EA37A   0.000023  0.000024  0.000018  0.000024  0.000021  0.000024  0.000000  \n",
       "\n",
       "[217 rows x 217 columns]"
      ],
      "text/html": "<div>\n<style scoped>\n    .dataframe tbody tr th:only-of-type {\n        vertical-align: middle;\n    }\n\n    .dataframe tbody tr th {\n        vertical-align: top;\n    }\n\n    .dataframe thead th {\n        text-align: right;\n    }\n</style>\n<table border=\"1\" class=\"dataframe\">\n  <thead>\n    <tr style=\"text-align: right;\">\n      <th></th>\n      <th>D37A</th>\n      <th>D37B</th>\n      <th>D42</th>\n      <th>D47</th>\n      <th>D59A</th>\n      <th>D72A</th>\n      <th>D87A</th>\n      <th>D37B1</th>\n      <th>M18A</th>\n      <th>M18B1</th>\n      <th>...</th>\n      <th>DM_MR19</th>\n      <th>PT246A</th>\n      <th>PT256A</th>\n      <th>EA12B1</th>\n      <th>EA19A</th>\n      <th>EA19B</th>\n      <th>EA19B1</th>\n      <th>EA26A</th>\n      <th>EA35A</th>\n      <th>EA37A</th>\n    </tr>\n  </thead>\n  <tbody>\n    <tr>\n      <th>D37A</th>\n      <td>0.000000</td>\n      <td>0.000019</td>\n      <td>0.000025</td>\n      <td>0.000022</td>\n      <td>0.000018</td>\n      <td>0.000022</td>\n      <td>0.000021</td>\n      <td>0.000021</td>\n      <td>0.000019</td>\n      <td>0.000019</td>\n      <td>...</td>\n      <td>0.000021</td>\n      <td>0.000022</td>\n      <td>0.000019</td>\n      <td>0.000021</td>\n      <td>0.000020</td>\n      <td>0.000020</td>\n      <td>0.000022</td>\n      <td>0.000018</td>\n      <td>0.000024</td>\n      <td>0.000024</td>\n    </tr>\n    <tr>\n      <th>D37B</th>\n      <td>0.000019</td>\n      <td>0.000000</td>\n      <td>0.000022</td>\n      <td>0.000021</td>\n      <td>0.000020</td>\n      <td>0.000020</td>\n      <td>0.000018</td>\n      <td>0.000021</td>\n      <td>0.000021</td>\n      <td>0.000020</td>\n      <td>...</td>\n      <td>0.000017</td>\n      <td>0.000019</td>\n      <td>0.000021</td>\n      <td>0.000024</td>\n      <td>0.000019</td>\n      <td>0.000021</td>\n      <td>0.000024</td>\n      <td>0.000018</td>\n      <td>0.000022</td>\n      <td>0.000022</td>\n    </tr>\n    <tr>\n      <th>D42</th>\n      <td>0.000025</td>\n      <td>0.000024</td>\n      <td>0.000000</td>\n      <td>0.000021</td>\n      <td>0.000022</td>\n      <td>0.000021</td>\n      <td>0.000024</td>\n      <td>0.000021</td>\n      <td>0.000024</td>\n      <td>0.000018</td>\n      <td>...</td>\n      <td>0.000021</td>\n      <td>0.000023</td>\n      <td>0.000019</td>\n      <td>0.000021</td>\n      <td>0.000023</td>\n      <td>0.000021</td>\n      <td>0.000021</td>\n      <td>0.000021</td>\n      <td>0.000020</td>\n      <td>0.000021</td>\n    </tr>\n    <tr>\n      <th>D47</th>\n      <td>0.000023</td>\n      <td>0.000021</td>\n      <td>0.000024</td>\n      <td>0.000000</td>\n      <td>0.000022</td>\n      <td>0.000020</td>\n      <td>0.000023</td>\n      <td>0.000021</td>\n      <td>0.000019</td>\n      <td>0.000022</td>\n      <td>...</td>\n      <td>0.000020</td>\n      <td>0.000021</td>\n      <td>0.000022</td>\n      <td>0.000023</td>\n      <td>0.000019</td>\n      <td>0.000020</td>\n      <td>0.000024</td>\n      <td>0.000018</td>\n      <td>0.000026</td>\n      <td>0.000021</td>\n    </tr>\n    <tr>\n      <th>D59A</th>\n      <td>0.000023</td>\n      <td>0.000022</td>\n      <td>0.000021</td>\n      <td>0.000020</td>\n      <td>0.000000</td>\n      <td>0.000017</td>\n      <td>0.000021</td>\n      <td>0.000022</td>\n      <td>0.000022</td>\n      <td>0.000024</td>\n      <td>...</td>\n      <td>0.000024</td>\n      <td>0.000021</td>\n      <td>0.000021</td>\n      <td>0.000022</td>\n      <td>0.000024</td>\n      <td>0.000023</td>\n      <td>0.000019</td>\n      <td>0.000020</td>\n      <td>0.000020</td>\n      <td>0.000020</td>\n    </tr>\n    <tr>\n      <th>...</th>\n      <td>...</td>\n      <td>...</td>\n      <td>...</td>\n      <td>...</td>\n      <td>...</td>\n      <td>...</td>\n      <td>...</td>\n      <td>...</td>\n      <td>...</td>\n      <td>...</td>\n      <td>...</td>\n      <td>...</td>\n      <td>...</td>\n      <td>...</td>\n      <td>...</td>\n      <td>...</td>\n      <td>...</td>\n      <td>...</td>\n      <td>...</td>\n      <td>...</td>\n      <td>...</td>\n    </tr>\n    <tr>\n      <th>EA19B</th>\n      <td>0.000019</td>\n      <td>0.000024</td>\n      <td>0.000022</td>\n      <td>0.000021</td>\n      <td>0.000020</td>\n      <td>0.000021</td>\n      <td>0.000024</td>\n      <td>0.000021</td>\n      <td>0.000021</td>\n      <td>0.000023</td>\n      <td>...</td>\n      <td>0.000022</td>\n      <td>0.000022</td>\n      <td>0.000021</td>\n      <td>0.000018</td>\n      <td>0.000021</td>\n      <td>0.000000</td>\n      <td>0.000019</td>\n      <td>0.000024</td>\n      <td>0.000021</td>\n      <td>0.000018</td>\n    </tr>\n    <tr>\n      <th>EA19B1</th>\n      <td>0.000024</td>\n      <td>0.000017</td>\n      <td>0.000020</td>\n      <td>0.000018</td>\n      <td>0.000022</td>\n      <td>0.000022</td>\n      <td>0.000022</td>\n      <td>0.000021</td>\n      <td>0.000023</td>\n      <td>0.000023</td>\n      <td>...</td>\n      <td>0.000021</td>\n      <td>0.000023</td>\n      <td>0.000020</td>\n      <td>0.000021</td>\n      <td>0.000021</td>\n      <td>0.000021</td>\n      <td>0.000000</td>\n      <td>0.000021</td>\n      <td>0.000022</td>\n      <td>0.000021</td>\n    </tr>\n    <tr>\n      <th>EA26A</th>\n      <td>0.000020</td>\n      <td>0.000023</td>\n      <td>0.000023</td>\n      <td>0.000020</td>\n      <td>0.000021</td>\n      <td>0.000020</td>\n      <td>0.000023</td>\n      <td>0.000024</td>\n      <td>0.000022</td>\n      <td>0.000021</td>\n      <td>...</td>\n      <td>0.000021</td>\n      <td>0.000023</td>\n      <td>0.000022</td>\n      <td>0.000020</td>\n      <td>0.000021</td>\n      <td>0.000022</td>\n      <td>0.000019</td>\n      <td>0.000000</td>\n      <td>0.000020</td>\n      <td>0.000024</td>\n    </tr>\n    <tr>\n      <th>EA35A</th>\n      <td>0.000021</td>\n      <td>0.000024</td>\n      <td>0.000020</td>\n      <td>0.000021</td>\n      <td>0.000022</td>\n      <td>0.000021</td>\n      <td>0.000021</td>\n      <td>0.000020</td>\n      <td>0.000022</td>\n      <td>0.000018</td>\n      <td>...</td>\n      <td>0.000021</td>\n      <td>0.000025</td>\n      <td>0.000022</td>\n      <td>0.000021</td>\n      <td>0.000021</td>\n      <td>0.000021</td>\n      <td>0.000023</td>\n      <td>0.000020</td>\n      <td>0.000000</td>\n      <td>0.000021</td>\n    </tr>\n    <tr>\n      <th>EA37A</th>\n      <td>0.000026</td>\n      <td>0.000020</td>\n      <td>0.000026</td>\n      <td>0.000022</td>\n      <td>0.000021</td>\n      <td>0.000020</td>\n      <td>0.000019</td>\n      <td>0.000022</td>\n      <td>0.000024</td>\n      <td>0.000020</td>\n      <td>...</td>\n      <td>0.000016</td>\n      <td>0.000019</td>\n      <td>0.000027</td>\n      <td>0.000023</td>\n      <td>0.000024</td>\n      <td>0.000018</td>\n      <td>0.000024</td>\n      <td>0.000021</td>\n      <td>0.000024</td>\n      <td>0.000000</td>\n    </tr>\n  </tbody>\n</table>\n<p>217 rows × 217 columns</p>\n</div>"
     },
     "metadata": {},
     "execution_count": 76
    }
   ],
   "source": [
    "mc"
   ]
  },
  {
   "cell_type": "code",
   "execution_count": 81,
   "metadata": {},
   "outputs": [
    {
     "output_type": "execute_result",
     "data": {
      "text/plain": [
       "            D37A      D37B       D42       D47      D59A      D72A      D87A  \\\n",
       "D37A    0.000000  0.000019  0.000025  0.000022  0.000018  0.000022  0.000021   \n",
       "D37B    0.000019  0.000000  0.000022  0.000021  0.000020  0.000020  0.000018   \n",
       "D42     0.000025  0.000024  0.000000  0.000021  0.000022  0.000021  0.000024   \n",
       "D47     0.000023  0.000021  0.000024  0.000000  0.000022  0.000020  0.000023   \n",
       "D59A    0.000023  0.000022  0.000021  0.000020  0.000000  0.000017  0.000021   \n",
       "...          ...       ...       ...       ...       ...       ...       ...   \n",
       "EA19B   0.000019  0.000024  0.000022  0.000021  0.000020  0.000021  0.000024   \n",
       "EA19B1  0.000024  0.000017  0.000020  0.000018  0.000022  0.000022  0.000022   \n",
       "EA26A   0.000020  0.000023  0.000023  0.000020  0.000021  0.000020  0.000023   \n",
       "EA35A   0.000021  0.000024  0.000020  0.000021  0.000022  0.000021  0.000021   \n",
       "EA37A   0.000026  0.000020  0.000026  0.000022  0.000021  0.000020  0.000019   \n",
       "\n",
       "           D37B1      M18A     M18B1  ...   DM_MR19    PT246A    PT256A  \\\n",
       "D37A    0.000021  0.000019  0.000019  ...  0.000021  0.000022  0.000019   \n",
       "D37B    0.000021  0.000021  0.000020  ...  0.000017  0.000019  0.000021   \n",
       "D42     0.000021  0.000024  0.000018  ...  0.000021  0.000023  0.000019   \n",
       "D47     0.000021  0.000019  0.000022  ...  0.000020  0.000021  0.000022   \n",
       "D59A    0.000022  0.000022  0.000024  ...  0.000024  0.000021  0.000021   \n",
       "...          ...       ...       ...  ...       ...       ...       ...   \n",
       "EA19B   0.000021  0.000021  0.000023  ...  0.000022  0.000022  0.000021   \n",
       "EA19B1  0.000021  0.000023  0.000023  ...  0.000021  0.000023  0.000020   \n",
       "EA26A   0.000024  0.000022  0.000021  ...  0.000021  0.000023  0.000022   \n",
       "EA35A   0.000020  0.000022  0.000018  ...  0.000021  0.000025  0.000022   \n",
       "EA37A   0.000022  0.000024  0.000020  ...  0.000016  0.000019  0.000027   \n",
       "\n",
       "          EA12B1     EA19A     EA19B    EA19B1     EA26A     EA35A     EA37A  \n",
       "D37A    0.000021  0.000020  0.000020  0.000022  0.000018  0.000024  0.000024  \n",
       "D37B    0.000024  0.000019  0.000021  0.000024  0.000018  0.000022  0.000022  \n",
       "D42     0.000021  0.000023  0.000021  0.000021  0.000021  0.000020  0.000021  \n",
       "D47     0.000023  0.000019  0.000020  0.000024  0.000018  0.000026  0.000021  \n",
       "D59A    0.000022  0.000024  0.000023  0.000019  0.000020  0.000020  0.000020  \n",
       "...          ...       ...       ...       ...       ...       ...       ...  \n",
       "EA19B   0.000018  0.000021  0.000000  0.000019  0.000024  0.000021  0.000018  \n",
       "EA19B1  0.000021  0.000021  0.000021  0.000000  0.000021  0.000022  0.000021  \n",
       "EA26A   0.000020  0.000021  0.000022  0.000019  0.000000  0.000020  0.000024  \n",
       "EA35A   0.000021  0.000021  0.000021  0.000023  0.000020  0.000000  0.000021  \n",
       "EA37A   0.000023  0.000024  0.000018  0.000024  0.000021  0.000024  0.000000  \n",
       "\n",
       "[217 rows x 217 columns]"
      ],
      "text/html": "<div>\n<style scoped>\n    .dataframe tbody tr th:only-of-type {\n        vertical-align: middle;\n    }\n\n    .dataframe tbody tr th {\n        vertical-align: top;\n    }\n\n    .dataframe thead th {\n        text-align: right;\n    }\n</style>\n<table border=\"1\" class=\"dataframe\">\n  <thead>\n    <tr style=\"text-align: right;\">\n      <th></th>\n      <th>D37A</th>\n      <th>D37B</th>\n      <th>D42</th>\n      <th>D47</th>\n      <th>D59A</th>\n      <th>D72A</th>\n      <th>D87A</th>\n      <th>D37B1</th>\n      <th>M18A</th>\n      <th>M18B1</th>\n      <th>...</th>\n      <th>DM_MR19</th>\n      <th>PT246A</th>\n      <th>PT256A</th>\n      <th>EA12B1</th>\n      <th>EA19A</th>\n      <th>EA19B</th>\n      <th>EA19B1</th>\n      <th>EA26A</th>\n      <th>EA35A</th>\n      <th>EA37A</th>\n    </tr>\n  </thead>\n  <tbody>\n    <tr>\n      <th>D37A</th>\n      <td>0.000000</td>\n      <td>0.000019</td>\n      <td>0.000025</td>\n      <td>0.000022</td>\n      <td>0.000018</td>\n      <td>0.000022</td>\n      <td>0.000021</td>\n      <td>0.000021</td>\n      <td>0.000019</td>\n      <td>0.000019</td>\n      <td>...</td>\n      <td>0.000021</td>\n      <td>0.000022</td>\n      <td>0.000019</td>\n      <td>0.000021</td>\n      <td>0.000020</td>\n      <td>0.000020</td>\n      <td>0.000022</td>\n      <td>0.000018</td>\n      <td>0.000024</td>\n      <td>0.000024</td>\n    </tr>\n    <tr>\n      <th>D37B</th>\n      <td>0.000019</td>\n      <td>0.000000</td>\n      <td>0.000022</td>\n      <td>0.000021</td>\n      <td>0.000020</td>\n      <td>0.000020</td>\n      <td>0.000018</td>\n      <td>0.000021</td>\n      <td>0.000021</td>\n      <td>0.000020</td>\n      <td>...</td>\n      <td>0.000017</td>\n      <td>0.000019</td>\n      <td>0.000021</td>\n      <td>0.000024</td>\n      <td>0.000019</td>\n      <td>0.000021</td>\n      <td>0.000024</td>\n      <td>0.000018</td>\n      <td>0.000022</td>\n      <td>0.000022</td>\n    </tr>\n    <tr>\n      <th>D42</th>\n      <td>0.000025</td>\n      <td>0.000024</td>\n      <td>0.000000</td>\n      <td>0.000021</td>\n      <td>0.000022</td>\n      <td>0.000021</td>\n      <td>0.000024</td>\n      <td>0.000021</td>\n      <td>0.000024</td>\n      <td>0.000018</td>\n      <td>...</td>\n      <td>0.000021</td>\n      <td>0.000023</td>\n      <td>0.000019</td>\n      <td>0.000021</td>\n      <td>0.000023</td>\n      <td>0.000021</td>\n      <td>0.000021</td>\n      <td>0.000021</td>\n      <td>0.000020</td>\n      <td>0.000021</td>\n    </tr>\n    <tr>\n      <th>D47</th>\n      <td>0.000023</td>\n      <td>0.000021</td>\n      <td>0.000024</td>\n      <td>0.000000</td>\n      <td>0.000022</td>\n      <td>0.000020</td>\n      <td>0.000023</td>\n      <td>0.000021</td>\n      <td>0.000019</td>\n      <td>0.000022</td>\n      <td>...</td>\n      <td>0.000020</td>\n      <td>0.000021</td>\n      <td>0.000022</td>\n      <td>0.000023</td>\n      <td>0.000019</td>\n      <td>0.000020</td>\n      <td>0.000024</td>\n      <td>0.000018</td>\n      <td>0.000026</td>\n      <td>0.000021</td>\n    </tr>\n    <tr>\n      <th>D59A</th>\n      <td>0.000023</td>\n      <td>0.000022</td>\n      <td>0.000021</td>\n      <td>0.000020</td>\n      <td>0.000000</td>\n      <td>0.000017</td>\n      <td>0.000021</td>\n      <td>0.000022</td>\n      <td>0.000022</td>\n      <td>0.000024</td>\n      <td>...</td>\n      <td>0.000024</td>\n      <td>0.000021</td>\n      <td>0.000021</td>\n      <td>0.000022</td>\n      <td>0.000024</td>\n      <td>0.000023</td>\n      <td>0.000019</td>\n      <td>0.000020</td>\n      <td>0.000020</td>\n      <td>0.000020</td>\n    </tr>\n    <tr>\n      <th>...</th>\n      <td>...</td>\n      <td>...</td>\n      <td>...</td>\n      <td>...</td>\n      <td>...</td>\n      <td>...</td>\n      <td>...</td>\n      <td>...</td>\n      <td>...</td>\n      <td>...</td>\n      <td>...</td>\n      <td>...</td>\n      <td>...</td>\n      <td>...</td>\n      <td>...</td>\n      <td>...</td>\n      <td>...</td>\n      <td>...</td>\n      <td>...</td>\n      <td>...</td>\n      <td>...</td>\n    </tr>\n    <tr>\n      <th>EA19B</th>\n      <td>0.000019</td>\n      <td>0.000024</td>\n      <td>0.000022</td>\n      <td>0.000021</td>\n      <td>0.000020</td>\n      <td>0.000021</td>\n      <td>0.000024</td>\n      <td>0.000021</td>\n      <td>0.000021</td>\n      <td>0.000023</td>\n      <td>...</td>\n      <td>0.000022</td>\n      <td>0.000022</td>\n      <td>0.000021</td>\n      <td>0.000018</td>\n      <td>0.000021</td>\n      <td>0.000000</td>\n      <td>0.000019</td>\n      <td>0.000024</td>\n      <td>0.000021</td>\n      <td>0.000018</td>\n    </tr>\n    <tr>\n      <th>EA19B1</th>\n      <td>0.000024</td>\n      <td>0.000017</td>\n      <td>0.000020</td>\n      <td>0.000018</td>\n      <td>0.000022</td>\n      <td>0.000022</td>\n      <td>0.000022</td>\n      <td>0.000021</td>\n      <td>0.000023</td>\n      <td>0.000023</td>\n      <td>...</td>\n      <td>0.000021</td>\n      <td>0.000023</td>\n      <td>0.000020</td>\n      <td>0.000021</td>\n      <td>0.000021</td>\n      <td>0.000021</td>\n      <td>0.000000</td>\n      <td>0.000021</td>\n      <td>0.000022</td>\n      <td>0.000021</td>\n    </tr>\n    <tr>\n      <th>EA26A</th>\n      <td>0.000020</td>\n      <td>0.000023</td>\n      <td>0.000023</td>\n      <td>0.000020</td>\n      <td>0.000021</td>\n      <td>0.000020</td>\n      <td>0.000023</td>\n      <td>0.000024</td>\n      <td>0.000022</td>\n      <td>0.000021</td>\n      <td>...</td>\n      <td>0.000021</td>\n      <td>0.000023</td>\n      <td>0.000022</td>\n      <td>0.000020</td>\n      <td>0.000021</td>\n      <td>0.000022</td>\n      <td>0.000019</td>\n      <td>0.000000</td>\n      <td>0.000020</td>\n      <td>0.000024</td>\n    </tr>\n    <tr>\n      <th>EA35A</th>\n      <td>0.000021</td>\n      <td>0.000024</td>\n      <td>0.000020</td>\n      <td>0.000021</td>\n      <td>0.000022</td>\n      <td>0.000021</td>\n      <td>0.000021</td>\n      <td>0.000020</td>\n      <td>0.000022</td>\n      <td>0.000018</td>\n      <td>...</td>\n      <td>0.000021</td>\n      <td>0.000025</td>\n      <td>0.000022</td>\n      <td>0.000021</td>\n      <td>0.000021</td>\n      <td>0.000021</td>\n      <td>0.000023</td>\n      <td>0.000020</td>\n      <td>0.000000</td>\n      <td>0.000021</td>\n    </tr>\n    <tr>\n      <th>EA37A</th>\n      <td>0.000026</td>\n      <td>0.000020</td>\n      <td>0.000026</td>\n      <td>0.000022</td>\n      <td>0.000021</td>\n      <td>0.000020</td>\n      <td>0.000019</td>\n      <td>0.000022</td>\n      <td>0.000024</td>\n      <td>0.000020</td>\n      <td>...</td>\n      <td>0.000016</td>\n      <td>0.000019</td>\n      <td>0.000027</td>\n      <td>0.000023</td>\n      <td>0.000024</td>\n      <td>0.000018</td>\n      <td>0.000024</td>\n      <td>0.000021</td>\n      <td>0.000024</td>\n      <td>0.000000</td>\n    </tr>\n  </tbody>\n</table>\n<p>217 rows × 217 columns</p>\n</div>"
     },
     "metadata": {},
     "execution_count": 81
    }
   ],
   "source": [
    "mc"
   ]
  },
  {
   "cell_type": "code",
   "execution_count": 80,
   "metadata": {},
   "outputs": [
    {
     "output_type": "execute_result",
     "data": {
      "text/plain": [
       "46872"
      ]
     },
     "metadata": {},
     "execution_count": 80
    }
   ],
   "source": [
    "(217*216)"
   ]
  },
  {
   "source": [],
   "cell_type": "markdown",
   "metadata": {}
  }
 ]
}