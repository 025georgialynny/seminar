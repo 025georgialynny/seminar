{
 "metadata": {
  "language_info": {
   "codemirror_mode": {
    "name": "ipython",
    "version": 3
   },
   "file_extension": ".py",
   "mimetype": "text/x-python",
   "name": "python",
   "nbconvert_exporter": "python",
   "pygments_lexer": "ipython3",
   "version": "3.8.5-final"
  },
  "orig_nbformat": 2,
  "kernelspec": {
   "name": "python3",
   "display_name": "Python 3.8.5 64-bit (conda)",
   "metadata": {
    "interpreter": {
     "hash": "8ca28b1d433ae75eab343bd246052c2243632e123f07554f7cebf0e78e390e86"
    }
   }
  }
 },
 "nbformat": 4,
 "nbformat_minor": 2,
 "cells": [
  {
   "cell_type": "code",
   "execution_count": 1,
   "metadata": {},
   "outputs": [],
   "source": [
    "#import matplotlib as matplot\n",
    "#import seaborn\n",
    "#import bokeh\n",
    "#import keras\n",
    "import numpy\n",
    "#import scipy\n",
    "import pandas as pd\n",
    "from get_tree_data import tree_data as tree_import\n",
    "from get_tree_data import sort_DXDM_cols\n",
    "import re\n",
    "# import block"
   ]
  },
  {
   "cell_type": "code",
   "execution_count": 2,
   "metadata": {},
   "outputs": [],
   "source": [
    "class dataTree : pass"
   ]
  },
  {
   "cell_type": "code",
   "execution_count": 3,
   "metadata": {},
   "outputs": [],
   "source": [
    "tree_root = dataTree()\n",
    "tree = tree_import.tree"
   ]
  },
  {
   "cell_type": "code",
   "execution_count": 81,
   "metadata": {
    "tags": []
   },
   "outputs": [],
   "source": [
    "ncs1 = pd.read_csv(\"ICPSR_06693-V6/ICPSR_06693/DS0001/06693-0001-Data.tsv\", sep = \"\\t\")\n",
    "# ncs1 includes all of the symptom data from the NCS Data\n",
    "ncs1 = pd.DataFrame(ncs1)\n",
    "#turn into pandas DF\n",
    "ncsDXDM = pd.read_csv(\"ICPSR_06693-V6/ICPSR_06693/DS0002/06693-0002-Data.tsv\", sep = \"\\t\")\n",
    "# ncs1 includes all of the symptom data from the NCS Data\n",
    "ncsDXDM = pd.DataFrame(ncsDXDM)\n",
    "#turn into pandas DF\n",
    "ncsDXDM = ncsDXDM.reindex(sort_DXDM_cols(ncsDXDM.columns), axis=1)\n",
    "\n",
    "# reindex according to codebook"
   ]
  },
  {
   "source": [
    "CASEID\n",
    "SEASON[SWIN, SSPR, SSUM, SFAL]\n",
    "AGO/AGR\n",
    "ALC\n",
    "AAB/ASP\n",
    "BP1\n",
    "CDLT\n",
    "DEP\n",
    "DRG\n",
    "DYS\n",
    "GAD\n",
    "MAN\n",
    "PD/PT\n",
    "SIM/SOC\n",
    "PTSD\n",
    "NAP\n",
    "AG/OLDAG\n",
    "ED\n",
    "EMP/SELFEMP/WKHRS\n",
    "HH\n",
    "IN/PV\n",
    "MAR\n",
    "RACE/RWH/RBL/HRSP/ROTHR\n",
    "R4\n",
    "REL\n",
    "SEX\n",
    "STR/SECU/P1FWT/P2WTV2/P2WTV3/OLDP2FWt"
   ],
   "cell_type": "markdown",
   "metadata": {}
  },
  {
   "cell_type": "code",
   "execution_count": 270,
   "metadata": {},
   "outputs": [],
   "source": [
    "def get_tree_obj_array(var, root, tree, dxdm):\n",
    "    start = 10000000\n",
    "    end = -10000000\n",
    "      # setting start & end to -10000000 so they throw errors if not changed\n",
    "    tmpDF = pd.DataFrame(columns = ['VarName', 'Description', 'Root_DF', 'Start', 'End', 'DataFrame', \"recursion_flag\"])\n",
    "    for x in range (3, len(tree)):\n",
    "        if len(tree[x]) > 3: \n",
    "            # If List has sublists\n",
    "            var2 = re.sub('[^ A-Za-z0-9]+', '', tree[x][0])\n",
    "            var2 = re.sub('[ ]+', '_', var2)\n",
    "              #Make sublist variable name\n",
    "            start_end = get_tree_obj_array(var2, root, tree[x], dxdm)\n",
    "            if x == 3: \n",
    "                start = start_end[0]\n",
    "                # first iteration gives start value\n",
    "            if x+1 == len(tree):\n",
    "                end = start_end[1]\n",
    "                # last itereation gives end value\n",
    "            if dxdm: \n",
    "                tmpDF.loc[len(tmpDF)] = [var2, tree[x][0], var, start_end[0], start_end[1], 'ncsDXDM', 1]\n",
    "            else:\n",
    "                tmpDF.loc[len(tmpDF)] = [var2, tree[x][0], var, start_end[0], start_end[1], 'ncs1', 1]\n",
    "            # set row\n",
    "        elif not dxdm:\n",
    "            #if dxdm flag is false it is the ncs1 dataset with is DS0001\n",
    "            if x == 3: \n",
    "                start = ncs1.columns.get_loc(tree[x][0])\n",
    "                # first iteration gives start value\n",
    "            if x+1 == len(tree):\n",
    "                end = ncs1.columns.get_loc(tree[x][0])\n",
    "            #start and end values are the the location of the varnames at 3 and the end of the list\n",
    "            # Setup temp DF\n",
    "            tmpDF.loc[len(tmpDF)] = [tree[x][0], tree[x][1], var, ncs1.columns.get_loc(tree[x][0]), ncs1.columns.get_loc(tree[x][0]), 'ncs1', 0]\n",
    "            # iterate through list and add rows to df\n",
    "        else:  \n",
    "            # otherwise the values are part of the ncsDXDM or DS0002 dataset\n",
    "            if ncsDXDM.columns.get_loc(tree[x][0]) < start: \n",
    "                start = ncsDXDM.columns.get_loc(tree[x][0])\n",
    "                # first iteration gives start value\n",
    "            if ncsDXDM.columns.get_loc(tree[x][0]) > end:\n",
    "                end = ncsDXDM.columns.get_loc(tree[x][0])\n",
    "            #start and end values are the the location of the varnames at 3 and the end of the list\n",
    "            for x in range(3, len(tree)):\n",
    "                tmpDF.loc[len(tmpDF)] = [tree[x][0], tree[x][1], var, ncsDXDM.columns.get_loc(tree[x][0]), ncsDXDM.columns.get_loc(tree[x][0]), 'ncsDXDM', 0]\n",
    "                # iterate through list and add rows to df\n",
    "    setattr(root, var, tmpDF)\n",
    "    return (start, end)\n",
    "\n",
    "\n",
    "def search_for_description(var, dxdm, tree_data, lvl = 1):\n",
    "    value = -99999999999999999\n",
    "    description = \"\"\n",
    "    if lvl: \n",
    "        if dxdm: \n",
    "            try: \n",
    "                value = ncsDXDM.columns.get_loc(var)\n",
    "            except: \n",
    "                print(\"No value \" + var + \" in ncsDXDM (DS0002)\")\n",
    "                return\n",
    "            tree_data = tree_data[tree_data.DataFrame == \"ncsDXDM\"]\n",
    "        else: \n",
    "            try: \n",
    "                value = ncs1.columns.get_loc(var)\n",
    "            except: \n",
    "                print(\"No value \" + var + \" in ncs1 (DS0001)\")\n",
    "                return\n",
    "            tree_data = tree_data[tree_data.DataFrame == \"ncs1\"]\n",
    "        for x in range(0, len(tree_data)):\n",
    "            if value <=tree_data.iloc[x, 5] and value >= tree_data.iloc[x, 4]:\n",
    "                if tree_data.iloc[x, 0] != var:\n",
    "                    description = search_for_description(var, dxdm, eval(\"tree_root.\" + tree_data.iloc[x,0]),  0)\n",
    "                elif tree_data.iloc[x, 0] == var: \n",
    "                    return tree_data.iloc[x,:]\n",
    "                else: \n",
    "                    return -1\n",
    "    else: \n",
    "        if dxdm: \n",
    "            try: \n",
    "                value = ncsDXDM.columns.get_loc(var)\n",
    "            except: \n",
    "                print(\"No value \" + var + \" in ncsDXDM (DS0002)\")\n",
    "        else: \n",
    "            try: \n",
    "                value = ncs1.columns.get_loc(var)\n",
    "            except: \n",
    "                print(\"No value \" + var + \" in ncs1 (DS0001)\")\n",
    "                return\n",
    "        for x in range(0, len(tree_data)):\n",
    "            if value <=tree_data.loc[x, 'End'] and value >= tree_data.loc[x, 'Start']:\n",
    "                if tree_data.iloc[x, 0] != var and tree_data.loc[x, 'recursion_flag'] == 1:\n",
    "                    description = search_for_description(var, dxdm, eval(\"tree_root.\" + tree_data.iloc[x,0]),  0)\n",
    "                elif tree_data.iloc[x, 0] == var: \n",
    "                    return tree_data.iloc[x,:]\n",
    "                else: \n",
    "                    return -1\n",
    "    return description\n"
   ]
  },
  {
   "cell_type": "code",
   "execution_count": 271,
   "metadata": {},
   "outputs": [
    {
     "output_type": "execute_result",
     "data": {
      "text/plain": [
       "VarName                                 AGONS\n",
       "Description       AGO WITH OR W-O PANIC ONSET\n",
       "Root_DF                      DXDM_AGORAPHOBIA\n",
       "Start                                       6\n",
       "End                                         6\n",
       "DataFrame                             ncsDXDM\n",
       "recursion_flag                              0\n",
       "Name: 6, dtype: object"
      ]
     },
     "metadata": {},
     "execution_count": 271
    }
   ],
   "source": [
    "search_for_description(\"AGONS\", 1, tree_data)\n"
   ]
  },
  {
   "cell_type": "code",
   "execution_count": null,
   "metadata": {},
   "outputs": [],
   "source": []
  },
  {
   "cell_type": "code",
   "execution_count": 234,
   "metadata": {},
   "outputs": [
    {
     "output_type": "execute_result",
     "data": {
      "text/plain": [
       "                                              VarName  \\\n",
       "0                       CASE_IDENTIFICATION_VARIABLES   \n",
       "1   DIAGNOSTIC_INTERVIEW_SURVEY_ADMINISTRATIONFACE...   \n",
       "2   DIAGNOSTIC_INTERVIEW_SECTION_A_ACTIVITIES_OF_D...   \n",
       "3   DIAGNOSTIC_INTERVIEW_SECTION_B_LIFETIME_MOODS_...   \n",
       "4      DIAGNOSTIC_INTERVIEW_SECTION_C_ONGOING_SADNESS   \n",
       "5              DIAGNOSTIC_INTERVIEW_SECTION_D_SADNESS   \n",
       "6                DIAGNOSTIC_INTERVIEW_SECTION_E_MANIA   \n",
       "7              DIAGNOSTIC_INTERVIEW_SECTION_F_ALCOHOL   \n",
       "8   DIAGNOSTIC_INTERVIEW_SECTION_G_MEDICATIONS_amp...   \n",
       "9    DIAGNOSTIC_INTERVIEW_SECTION_H_PROBLEM_BEHAVIORS   \n",
       "10        DIAGNOSTIC_INTERVIEW_SECTION_J_DEMOGRAPHICS   \n",
       "11  DIAGNOSTIC_INTERVIEW_SECTION_AA_INTERVIEWERS_O...   \n",
       "12    RISK_ASSESSMENT_INTERVIEW_SURVEY_ADMINISTRATION   \n",
       "13  RISK_ASSESSMENT_INTERVIEW_SECTION_K_BELIEFS_AN...   \n",
       "14    RISK_ASSESSMENT_INTERVIEW_SECTION_L_PERSONALITY   \n",
       "15        RISK_ASSESSMENT_INTERVIEW_SETION_M_MARRIAGE   \n",
       "16     RISK_ASSESSMENT_INTERVIEW_SECTION_N_EMPLOYMENT   \n",
       "17  RISK_ASSESSMENT_INTERVIEW_SECTION_P_HOME_AND_WORK   \n",
       "18       RISK_ASSESSMENT_INTERVIEW_SECTION_Q_CHILDREN   \n",
       "19  RISK_ASSESSMENT_INTERVIEW_SECTION_R_SELFDESCRI...   \n",
       "20         RISK_ASSESSMENT_INTERVIEW_SECTION_S_HEALTH   \n",
       "21       RISK_ASSESSMENT_INTERVIEW_SECTION_T_FINANCES   \n",
       "22  RISK_ASSESSMENT_INTERVIEW_SECTION_U_LIFE_EVENT...   \n",
       "23  RISK_ASSESSMENT_INTERVIEW_SECTION_V_RECENT_LIF...   \n",
       "24  RISK_ASSESSMENT_INTERVIEW_SECTION_X_FAMILY_HIS...   \n",
       "25       RISK_ASSESSMENT_INTERVIEW_SECTION_Y_RELIGION   \n",
       "26  RISK_ASSESSMENT_INTERVIEW_SECTION_Z_RACIAL_AND...   \n",
       "27  RISK_ASSESSMENT_INTERVIEW_SECTION_BB_INTERVIEW...   \n",
       "28    RISK_ASSESSMENT_INTERVIEW_RECODESPART_II_SURVEY   \n",
       "29                             TOBACCO_USE_SUPPLEMENT   \n",
       "30                          DS001_WEIGHTS_P1_P2_TOBAC   \n",
       "31                 DXDM_CASE_IDENTIFICATION_VARIABLES   \n",
       "32                     DXDM_SEASON_OF_INTERVIEW_START   \n",
       "33                                   DXDM_AGORAPHOBIA   \n",
       "34                                DXDM_ALCOHOL_MISUSE   \n",
       "35                           DXDM_ANTISOCIAL_BEHAVIOR   \n",
       "36                              DXDM_BIPOLAR_DISORDER   \n",
       "37                              DXDM_CONDUCT_DISORDER   \n",
       "38                                    DXDM_DEPRESSION   \n",
       "39                                   DXDM_DRUG_MISUSE   \n",
       "40                                     DXDM_DYSTHYMIA   \n",
       "41                  DXDM_GENERALIZED_ANXIETY_DISORDER   \n",
       "42                                         DXDM_MANIA   \n",
       "43                                         DXDM_PANIC   \n",
       "44                                        DXDM_PHOBIA   \n",
       "45                 DXDM_POSTTRAUMATIC_STRESS_DISORDER   \n",
       "46                                     DXDM_PSYCHOSIS   \n",
       "47                                  DXDM_DEMOGRAPHICS   \n",
       "48                           DXDM_WEIGHTS_P1_P2_TOBAC   \n",
       "\n",
       "                                          Description Value DataFrame Start  \\\n",
       "0                       CASE IDENTIFICATION VARIABLES     0      ncs1     0   \n",
       "1   DIAGNOSTIC INTERVIEW | SURVEY ADMINISTRATION/F...     1      ncs1     1   \n",
       "2   DIAGNOSTIC INTERVIEW | SECTION A: ACTIVITIES O...     2      ncs1    15   \n",
       "3   DIAGNOSTIC INTERVIEW | SECTION B: LIFETIME MOO...     3      ncs1    79   \n",
       "4   DIAGNOSTIC INTERVIEW | SECTION C: ONGOING SADNESS     4      ncs1   364   \n",
       "5           DIAGNOSTIC INTERVIEW | SECTION D: SADNESS     5      ncs1   378   \n",
       "6             DIAGNOSTIC INTERVIEW | SECTION E: MANIA     6      ncs1   633   \n",
       "7           DIAGNOSTIC INTERVIEW | SECTION F: ALCOHOL     7      ncs1   740   \n",
       "8   DIAGNOSTIC INTERVIEW | SECTION G: MEDICATIONS ...     8      ncs1   756   \n",
       "9   DIAGNOSTIC INTERVIEW | SECTION H: PROBLEM BEHA...     9      ncs1  1577   \n",
       "10     DIAGNOSTIC INTERVIEW | SECTION J: DEMOGRAPHICS    10      ncs1  1594   \n",
       "11  DIAGNOSTIC INTERVIEW | SECTION AA: INTERVIEWER...    11      ncs1  1630   \n",
       "12  RISK ASSESSMENT INTERVIEW | SURVEY ADMINISTRATION    12      ncs1  1684   \n",
       "13  RISK ASSESSMENT INTERVIEW | SECTION K: BELIEFS...    13      ncs1  1699   \n",
       "14  RISK ASSESSMENT INTERVIEW | SECTION L: PERSONA...    14      ncs1  1813   \n",
       "15     RISK ASSESSMENT INTERVIEW | SETION M: MARRIAGE    15      ncs1  1860   \n",
       "16  RISK ASSESSMENT INTERVIEW | SECTION N: EMPLOYMENT    16      ncs1  1920   \n",
       "17  RISK ASSESSMENT INTERVIEW | SECTION P: HOME AN...    17      ncs1  1990   \n",
       "18    RISK ASSESSMENT INTERVIEW | SECTION Q: CHILDREN    18      ncs1  2007   \n",
       "19  RISK ASSESSMENT INTERVIEW | SECTION R: SELF-DE...    19      ncs1  2066   \n",
       "20      RISK ASSESSMENT INTERVIEW | SECTION S: HEALTH    20      ncs1  2100   \n",
       "21    RISK ASSESSMENT INTERVIEW | SECTION T: FINANCES    21      ncs1  2378   \n",
       "22  RISK ASSESSMENT INTERVIEW | SECTION U: LIFE EV...    22      ncs1  2397   \n",
       "23  RISK ASSESSMENT INTERVIEW | SECTION V: RECENT ...    23      ncs1  2508   \n",
       "24  RISK ASSESSMENT INTERVIEW | SECTION X: FAMILY ...    24      ncs1  2587   \n",
       "25    RISK ASSESSMENT INTERVIEW | SECTION Y: RELIGION    25      ncs1  2788   \n",
       "26  RISK ASSESSMENT INTERVIEW | SECTION Z: RACIAL ...    26      ncs1  2798   \n",
       "27  RISK ASSESSMENT INTERVIEW | SECTION BB: INTERV...    27      ncs1  2829   \n",
       "28  RISK ASSESSMENT INTERVIEW | RECODES--PART II S...    28      ncs1  2888   \n",
       "29                             TOBACCO USE SUPPLEMENT    29      ncs1  2908   \n",
       "30                        DS001 WEIGHTS | P1 P2 TOBAC    30      ncs1  2950   \n",
       "31               DXDM - CASE IDENTIFICATION VARIABLES    31   ncsDXDM     0   \n",
       "32                   DXDM - SEASON OF INTERVIEW START    32   ncsDXDM     1   \n",
       "33                                 DXDM | AGORAPHOBIA    33   ncsDXDM     6   \n",
       "34                              DXDM | ALCOHOL MISUSE    34   ncsDXDM    18   \n",
       "35                         DXDM | ANTISOCIAL BEHAVIOR    35   ncsDXDM    32   \n",
       "36                            DXDM | BIPOLAR DISORDER    36   ncsDXDM    35   \n",
       "37                            DXDM | CONDUCT DISORDER    37   ncsDXDM    43   \n",
       "38                                  DXDM | DEPRESSION    38   ncsDXDM    44   \n",
       "39                                 DXDM | DRUG MISUSE    39   ncsDXDM    56   \n",
       "40                                   DXDM | DYSTHYMIA    40   ncsDXDM    70   \n",
       "41                DXDM | GENERALIZED ANXIETY DISORDER    41   ncsDXDM    82   \n",
       "42                                       DXDM | MANIA    42   ncsDXDM    94   \n",
       "43                                       DXDM | PANIC    43   ncsDXDM   106   \n",
       "44                                      DXDM | PHOBIA    44   ncsDXDM   130   \n",
       "45              DXDM | POST-TRAUMATIC STRESS DISORDER    45   ncsDXDM   118   \n",
       "46                                   DXDM | PSYCHOSIS    46   ncsDXDM   146   \n",
       "47                                DXDM | DEMOGRAPHICS    47   ncsDXDM   153   \n",
       "48                         DXDM WEIGHTS | P1 P2 TOBAC    48   ncsDXDM   219   \n",
       "\n",
       "     End  \n",
       "0      0  \n",
       "1     14  \n",
       "2     78  \n",
       "3    363  \n",
       "4    377  \n",
       "5    632  \n",
       "6    739  \n",
       "7    755  \n",
       "8   1576  \n",
       "9   1593  \n",
       "10  1629  \n",
       "11  1683  \n",
       "12  1698  \n",
       "13  1812  \n",
       "14  1859  \n",
       "15  1919  \n",
       "16  1989  \n",
       "17  2006  \n",
       "18  2065  \n",
       "19  2099  \n",
       "20  2377  \n",
       "21  2396  \n",
       "22  2507  \n",
       "23  2586  \n",
       "24  2787  \n",
       "25  2797  \n",
       "26  2828  \n",
       "27  2887  \n",
       "28  2907  \n",
       "29  2949  \n",
       "30  2953  \n",
       "31     0  \n",
       "32     5  \n",
       "33    17  \n",
       "34    31  \n",
       "35    34  \n",
       "36    42  \n",
       "37    43  \n",
       "38    55  \n",
       "39    69  \n",
       "40    81  \n",
       "41    93  \n",
       "42   105  \n",
       "43   127  \n",
       "44   145  \n",
       "45   129  \n",
       "46   152  \n",
       "47   217  \n",
       "48   223  "
      ],
      "text/html": "<div>\n<style scoped>\n    .dataframe tbody tr th:only-of-type {\n        vertical-align: middle;\n    }\n\n    .dataframe tbody tr th {\n        vertical-align: top;\n    }\n\n    .dataframe thead th {\n        text-align: right;\n    }\n</style>\n<table border=\"1\" class=\"dataframe\">\n  <thead>\n    <tr style=\"text-align: right;\">\n      <th></th>\n      <th>VarName</th>\n      <th>Description</th>\n      <th>Value</th>\n      <th>DataFrame</th>\n      <th>Start</th>\n      <th>End</th>\n    </tr>\n  </thead>\n  <tbody>\n    <tr>\n      <th>0</th>\n      <td>CASE_IDENTIFICATION_VARIABLES</td>\n      <td>CASE IDENTIFICATION VARIABLES</td>\n      <td>0</td>\n      <td>ncs1</td>\n      <td>0</td>\n      <td>0</td>\n    </tr>\n    <tr>\n      <th>1</th>\n      <td>DIAGNOSTIC_INTERVIEW_SURVEY_ADMINISTRATIONFACE...</td>\n      <td>DIAGNOSTIC INTERVIEW | SURVEY ADMINISTRATION/F...</td>\n      <td>1</td>\n      <td>ncs1</td>\n      <td>1</td>\n      <td>14</td>\n    </tr>\n    <tr>\n      <th>2</th>\n      <td>DIAGNOSTIC_INTERVIEW_SECTION_A_ACTIVITIES_OF_D...</td>\n      <td>DIAGNOSTIC INTERVIEW | SECTION A: ACTIVITIES O...</td>\n      <td>2</td>\n      <td>ncs1</td>\n      <td>15</td>\n      <td>78</td>\n    </tr>\n    <tr>\n      <th>3</th>\n      <td>DIAGNOSTIC_INTERVIEW_SECTION_B_LIFETIME_MOODS_...</td>\n      <td>DIAGNOSTIC INTERVIEW | SECTION B: LIFETIME MOO...</td>\n      <td>3</td>\n      <td>ncs1</td>\n      <td>79</td>\n      <td>363</td>\n    </tr>\n    <tr>\n      <th>4</th>\n      <td>DIAGNOSTIC_INTERVIEW_SECTION_C_ONGOING_SADNESS</td>\n      <td>DIAGNOSTIC INTERVIEW | SECTION C: ONGOING SADNESS</td>\n      <td>4</td>\n      <td>ncs1</td>\n      <td>364</td>\n      <td>377</td>\n    </tr>\n    <tr>\n      <th>5</th>\n      <td>DIAGNOSTIC_INTERVIEW_SECTION_D_SADNESS</td>\n      <td>DIAGNOSTIC INTERVIEW | SECTION D: SADNESS</td>\n      <td>5</td>\n      <td>ncs1</td>\n      <td>378</td>\n      <td>632</td>\n    </tr>\n    <tr>\n      <th>6</th>\n      <td>DIAGNOSTIC_INTERVIEW_SECTION_E_MANIA</td>\n      <td>DIAGNOSTIC INTERVIEW | SECTION E: MANIA</td>\n      <td>6</td>\n      <td>ncs1</td>\n      <td>633</td>\n      <td>739</td>\n    </tr>\n    <tr>\n      <th>7</th>\n      <td>DIAGNOSTIC_INTERVIEW_SECTION_F_ALCOHOL</td>\n      <td>DIAGNOSTIC INTERVIEW | SECTION F: ALCOHOL</td>\n      <td>7</td>\n      <td>ncs1</td>\n      <td>740</td>\n      <td>755</td>\n    </tr>\n    <tr>\n      <th>8</th>\n      <td>DIAGNOSTIC_INTERVIEW_SECTION_G_MEDICATIONS_amp...</td>\n      <td>DIAGNOSTIC INTERVIEW | SECTION G: MEDICATIONS ...</td>\n      <td>8</td>\n      <td>ncs1</td>\n      <td>756</td>\n      <td>1576</td>\n    </tr>\n    <tr>\n      <th>9</th>\n      <td>DIAGNOSTIC_INTERVIEW_SECTION_H_PROBLEM_BEHAVIORS</td>\n      <td>DIAGNOSTIC INTERVIEW | SECTION H: PROBLEM BEHA...</td>\n      <td>9</td>\n      <td>ncs1</td>\n      <td>1577</td>\n      <td>1593</td>\n    </tr>\n    <tr>\n      <th>10</th>\n      <td>DIAGNOSTIC_INTERVIEW_SECTION_J_DEMOGRAPHICS</td>\n      <td>DIAGNOSTIC INTERVIEW | SECTION J: DEMOGRAPHICS</td>\n      <td>10</td>\n      <td>ncs1</td>\n      <td>1594</td>\n      <td>1629</td>\n    </tr>\n    <tr>\n      <th>11</th>\n      <td>DIAGNOSTIC_INTERVIEW_SECTION_AA_INTERVIEWERS_O...</td>\n      <td>DIAGNOSTIC INTERVIEW | SECTION AA: INTERVIEWER...</td>\n      <td>11</td>\n      <td>ncs1</td>\n      <td>1630</td>\n      <td>1683</td>\n    </tr>\n    <tr>\n      <th>12</th>\n      <td>RISK_ASSESSMENT_INTERVIEW_SURVEY_ADMINISTRATION</td>\n      <td>RISK ASSESSMENT INTERVIEW | SURVEY ADMINISTRATION</td>\n      <td>12</td>\n      <td>ncs1</td>\n      <td>1684</td>\n      <td>1698</td>\n    </tr>\n    <tr>\n      <th>13</th>\n      <td>RISK_ASSESSMENT_INTERVIEW_SECTION_K_BELIEFS_AN...</td>\n      <td>RISK ASSESSMENT INTERVIEW | SECTION K: BELIEFS...</td>\n      <td>13</td>\n      <td>ncs1</td>\n      <td>1699</td>\n      <td>1812</td>\n    </tr>\n    <tr>\n      <th>14</th>\n      <td>RISK_ASSESSMENT_INTERVIEW_SECTION_L_PERSONALITY</td>\n      <td>RISK ASSESSMENT INTERVIEW | SECTION L: PERSONA...</td>\n      <td>14</td>\n      <td>ncs1</td>\n      <td>1813</td>\n      <td>1859</td>\n    </tr>\n    <tr>\n      <th>15</th>\n      <td>RISK_ASSESSMENT_INTERVIEW_SETION_M_MARRIAGE</td>\n      <td>RISK ASSESSMENT INTERVIEW | SETION M: MARRIAGE</td>\n      <td>15</td>\n      <td>ncs1</td>\n      <td>1860</td>\n      <td>1919</td>\n    </tr>\n    <tr>\n      <th>16</th>\n      <td>RISK_ASSESSMENT_INTERVIEW_SECTION_N_EMPLOYMENT</td>\n      <td>RISK ASSESSMENT INTERVIEW | SECTION N: EMPLOYMENT</td>\n      <td>16</td>\n      <td>ncs1</td>\n      <td>1920</td>\n      <td>1989</td>\n    </tr>\n    <tr>\n      <th>17</th>\n      <td>RISK_ASSESSMENT_INTERVIEW_SECTION_P_HOME_AND_WORK</td>\n      <td>RISK ASSESSMENT INTERVIEW | SECTION P: HOME AN...</td>\n      <td>17</td>\n      <td>ncs1</td>\n      <td>1990</td>\n      <td>2006</td>\n    </tr>\n    <tr>\n      <th>18</th>\n      <td>RISK_ASSESSMENT_INTERVIEW_SECTION_Q_CHILDREN</td>\n      <td>RISK ASSESSMENT INTERVIEW | SECTION Q: CHILDREN</td>\n      <td>18</td>\n      <td>ncs1</td>\n      <td>2007</td>\n      <td>2065</td>\n    </tr>\n    <tr>\n      <th>19</th>\n      <td>RISK_ASSESSMENT_INTERVIEW_SECTION_R_SELFDESCRI...</td>\n      <td>RISK ASSESSMENT INTERVIEW | SECTION R: SELF-DE...</td>\n      <td>19</td>\n      <td>ncs1</td>\n      <td>2066</td>\n      <td>2099</td>\n    </tr>\n    <tr>\n      <th>20</th>\n      <td>RISK_ASSESSMENT_INTERVIEW_SECTION_S_HEALTH</td>\n      <td>RISK ASSESSMENT INTERVIEW | SECTION S: HEALTH</td>\n      <td>20</td>\n      <td>ncs1</td>\n      <td>2100</td>\n      <td>2377</td>\n    </tr>\n    <tr>\n      <th>21</th>\n      <td>RISK_ASSESSMENT_INTERVIEW_SECTION_T_FINANCES</td>\n      <td>RISK ASSESSMENT INTERVIEW | SECTION T: FINANCES</td>\n      <td>21</td>\n      <td>ncs1</td>\n      <td>2378</td>\n      <td>2396</td>\n    </tr>\n    <tr>\n      <th>22</th>\n      <td>RISK_ASSESSMENT_INTERVIEW_SECTION_U_LIFE_EVENT...</td>\n      <td>RISK ASSESSMENT INTERVIEW | SECTION U: LIFE EV...</td>\n      <td>22</td>\n      <td>ncs1</td>\n      <td>2397</td>\n      <td>2507</td>\n    </tr>\n    <tr>\n      <th>23</th>\n      <td>RISK_ASSESSMENT_INTERVIEW_SECTION_V_RECENT_LIF...</td>\n      <td>RISK ASSESSMENT INTERVIEW | SECTION V: RECENT ...</td>\n      <td>23</td>\n      <td>ncs1</td>\n      <td>2508</td>\n      <td>2586</td>\n    </tr>\n    <tr>\n      <th>24</th>\n      <td>RISK_ASSESSMENT_INTERVIEW_SECTION_X_FAMILY_HIS...</td>\n      <td>RISK ASSESSMENT INTERVIEW | SECTION X: FAMILY ...</td>\n      <td>24</td>\n      <td>ncs1</td>\n      <td>2587</td>\n      <td>2787</td>\n    </tr>\n    <tr>\n      <th>25</th>\n      <td>RISK_ASSESSMENT_INTERVIEW_SECTION_Y_RELIGION</td>\n      <td>RISK ASSESSMENT INTERVIEW | SECTION Y: RELIGION</td>\n      <td>25</td>\n      <td>ncs1</td>\n      <td>2788</td>\n      <td>2797</td>\n    </tr>\n    <tr>\n      <th>26</th>\n      <td>RISK_ASSESSMENT_INTERVIEW_SECTION_Z_RACIAL_AND...</td>\n      <td>RISK ASSESSMENT INTERVIEW | SECTION Z: RACIAL ...</td>\n      <td>26</td>\n      <td>ncs1</td>\n      <td>2798</td>\n      <td>2828</td>\n    </tr>\n    <tr>\n      <th>27</th>\n      <td>RISK_ASSESSMENT_INTERVIEW_SECTION_BB_INTERVIEW...</td>\n      <td>RISK ASSESSMENT INTERVIEW | SECTION BB: INTERV...</td>\n      <td>27</td>\n      <td>ncs1</td>\n      <td>2829</td>\n      <td>2887</td>\n    </tr>\n    <tr>\n      <th>28</th>\n      <td>RISK_ASSESSMENT_INTERVIEW_RECODESPART_II_SURVEY</td>\n      <td>RISK ASSESSMENT INTERVIEW | RECODES--PART II S...</td>\n      <td>28</td>\n      <td>ncs1</td>\n      <td>2888</td>\n      <td>2907</td>\n    </tr>\n    <tr>\n      <th>29</th>\n      <td>TOBACCO_USE_SUPPLEMENT</td>\n      <td>TOBACCO USE SUPPLEMENT</td>\n      <td>29</td>\n      <td>ncs1</td>\n      <td>2908</td>\n      <td>2949</td>\n    </tr>\n    <tr>\n      <th>30</th>\n      <td>DS001_WEIGHTS_P1_P2_TOBAC</td>\n      <td>DS001 WEIGHTS | P1 P2 TOBAC</td>\n      <td>30</td>\n      <td>ncs1</td>\n      <td>2950</td>\n      <td>2953</td>\n    </tr>\n    <tr>\n      <th>31</th>\n      <td>DXDM_CASE_IDENTIFICATION_VARIABLES</td>\n      <td>DXDM - CASE IDENTIFICATION VARIABLES</td>\n      <td>31</td>\n      <td>ncsDXDM</td>\n      <td>0</td>\n      <td>0</td>\n    </tr>\n    <tr>\n      <th>32</th>\n      <td>DXDM_SEASON_OF_INTERVIEW_START</td>\n      <td>DXDM - SEASON OF INTERVIEW START</td>\n      <td>32</td>\n      <td>ncsDXDM</td>\n      <td>1</td>\n      <td>5</td>\n    </tr>\n    <tr>\n      <th>33</th>\n      <td>DXDM_AGORAPHOBIA</td>\n      <td>DXDM | AGORAPHOBIA</td>\n      <td>33</td>\n      <td>ncsDXDM</td>\n      <td>6</td>\n      <td>17</td>\n    </tr>\n    <tr>\n      <th>34</th>\n      <td>DXDM_ALCOHOL_MISUSE</td>\n      <td>DXDM | ALCOHOL MISUSE</td>\n      <td>34</td>\n      <td>ncsDXDM</td>\n      <td>18</td>\n      <td>31</td>\n    </tr>\n    <tr>\n      <th>35</th>\n      <td>DXDM_ANTISOCIAL_BEHAVIOR</td>\n      <td>DXDM | ANTISOCIAL BEHAVIOR</td>\n      <td>35</td>\n      <td>ncsDXDM</td>\n      <td>32</td>\n      <td>34</td>\n    </tr>\n    <tr>\n      <th>36</th>\n      <td>DXDM_BIPOLAR_DISORDER</td>\n      <td>DXDM | BIPOLAR DISORDER</td>\n      <td>36</td>\n      <td>ncsDXDM</td>\n      <td>35</td>\n      <td>42</td>\n    </tr>\n    <tr>\n      <th>37</th>\n      <td>DXDM_CONDUCT_DISORDER</td>\n      <td>DXDM | CONDUCT DISORDER</td>\n      <td>37</td>\n      <td>ncsDXDM</td>\n      <td>43</td>\n      <td>43</td>\n    </tr>\n    <tr>\n      <th>38</th>\n      <td>DXDM_DEPRESSION</td>\n      <td>DXDM | DEPRESSION</td>\n      <td>38</td>\n      <td>ncsDXDM</td>\n      <td>44</td>\n      <td>55</td>\n    </tr>\n    <tr>\n      <th>39</th>\n      <td>DXDM_DRUG_MISUSE</td>\n      <td>DXDM | DRUG MISUSE</td>\n      <td>39</td>\n      <td>ncsDXDM</td>\n      <td>56</td>\n      <td>69</td>\n    </tr>\n    <tr>\n      <th>40</th>\n      <td>DXDM_DYSTHYMIA</td>\n      <td>DXDM | DYSTHYMIA</td>\n      <td>40</td>\n      <td>ncsDXDM</td>\n      <td>70</td>\n      <td>81</td>\n    </tr>\n    <tr>\n      <th>41</th>\n      <td>DXDM_GENERALIZED_ANXIETY_DISORDER</td>\n      <td>DXDM | GENERALIZED ANXIETY DISORDER</td>\n      <td>41</td>\n      <td>ncsDXDM</td>\n      <td>82</td>\n      <td>93</td>\n    </tr>\n    <tr>\n      <th>42</th>\n      <td>DXDM_MANIA</td>\n      <td>DXDM | MANIA</td>\n      <td>42</td>\n      <td>ncsDXDM</td>\n      <td>94</td>\n      <td>105</td>\n    </tr>\n    <tr>\n      <th>43</th>\n      <td>DXDM_PANIC</td>\n      <td>DXDM | PANIC</td>\n      <td>43</td>\n      <td>ncsDXDM</td>\n      <td>106</td>\n      <td>127</td>\n    </tr>\n    <tr>\n      <th>44</th>\n      <td>DXDM_PHOBIA</td>\n      <td>DXDM | PHOBIA</td>\n      <td>44</td>\n      <td>ncsDXDM</td>\n      <td>130</td>\n      <td>145</td>\n    </tr>\n    <tr>\n      <th>45</th>\n      <td>DXDM_POSTTRAUMATIC_STRESS_DISORDER</td>\n      <td>DXDM | POST-TRAUMATIC STRESS DISORDER</td>\n      <td>45</td>\n      <td>ncsDXDM</td>\n      <td>118</td>\n      <td>129</td>\n    </tr>\n    <tr>\n      <th>46</th>\n      <td>DXDM_PSYCHOSIS</td>\n      <td>DXDM | PSYCHOSIS</td>\n      <td>46</td>\n      <td>ncsDXDM</td>\n      <td>146</td>\n      <td>152</td>\n    </tr>\n    <tr>\n      <th>47</th>\n      <td>DXDM_DEMOGRAPHICS</td>\n      <td>DXDM | DEMOGRAPHICS</td>\n      <td>47</td>\n      <td>ncsDXDM</td>\n      <td>153</td>\n      <td>217</td>\n    </tr>\n    <tr>\n      <th>48</th>\n      <td>DXDM_WEIGHTS_P1_P2_TOBAC</td>\n      <td>DXDM WEIGHTS | P1 P2 TOBAC</td>\n      <td>48</td>\n      <td>ncsDXDM</td>\n      <td>219</td>\n      <td>223</td>\n    </tr>\n  </tbody>\n</table>\n</div>"
     },
     "metadata": {},
     "execution_count": 234
    }
   ],
   "source": [
    "tree_data[:]"
   ]
  },
  {
   "cell_type": "code",
   "execution_count": 91,
   "metadata": {},
   "outputs": [],
   "source": [
    "tree_data = pd.DataFrame(columns = ['VarName', 'Description', 'Value', 'DataFrame', 'Start', 'End'])\n"
   ]
  },
  {
   "cell_type": "code",
   "execution_count": 92,
   "metadata": {
    "tags": []
   },
   "outputs": [],
   "source": [
    "#This builds an object representing variable names and all of their desriptions. format is as follows: \n",
    "  # 1. tree_data holds top level varnames & description & location in tree[] list\n",
    "  # 2. root.tree_data.iloc[n, 0] holds the next level varnames, description, and either location in tree[] list or REF value if given\n",
    "  # 3. root.(root.tree_data.iloc[n,0]).iloc[n,0] varies. For some is is the final level with a 1D list with the column index from ncs1, for others it is the varname for another level\n",
    "  # If this level exists it generally represents the final information \n",
    "  # To traverse the object: \n",
    "    # eval('tree_root.' + varnamestring)\n",
    "    # LVL1 EX: eval('tree_root.' + tree_data.iloc[4, 0])\n",
    "    # LVL2 EX: eval('tree_root.' + eval('tree_root.' + tree_data.iloc[4, 0] + \".iloc[0,0]\"))\n",
    "tree_data_tmp = pd.DataFrame(columns = ['VarName', 'Description', 'Value', 'DataFrame'])\n",
    "for i in range(0, len(tree)):\n",
    "    varname = re.sub('[^ A-Za-z0-9]+', '', tree[i][0])\n",
    "    varname = re.sub('[ ]+', '_', varname)\n",
    "      # Get Variable name\n",
    "    if i <= 30:\n",
    "        # Set tree_data so that we can traverse object\n",
    "      start_end = get_tree_obj_array(varname, tree_root, tree[i], 0)\n",
    "      tree_data.loc[len(tree_data)] = [varname , tree[i][0], i, 'ncs1', start_end[0], start_end[1]]\n",
    "    else:\n",
    "        # Set tree_data so that we can traverse object\n",
    "      start_end = get_tree_obj_array(varname, tree_root, tree[i], 1)\n",
    "      tree_data.loc[len(tree_data)] = [varname , tree[i][0], i, 'ncsDXDM', start_end[0], start_end[1]]\n",
    "\n"
   ]
  },
  {
   "cell_type": "code",
   "execution_count": 235,
   "metadata": {},
   "outputs": [
    {
     "output_type": "execute_result",
     "data": {
      "text/plain": [
       "                                 VarName  \\\n",
       "0    ONGOING_SADNESS_SCREENING_QUESTIONS   \n",
       "1           ONGOING_SADNESS_AGE_OF_ONSET   \n",
       "2  ONGOING_SADNESS_SEVERITY_AND_DURATION   \n",
       "\n",
       "                               Description  \\\n",
       "0    ONGOING SADNESS - SCREENING QUESTIONS   \n",
       "1           ONGOING SADNESS - AGE OF ONSET   \n",
       "2  ONGOING SADNESS - SEVERITY AND DURATION   \n",
       "\n",
       "                                          Root_DF Start  End DataFrame  \\\n",
       "0  DIAGNOSTIC_INTERVIEW_SECTION_C_ONGOING_SADNESS   364  367      ncs1   \n",
       "1  DIAGNOSTIC_INTERVIEW_SECTION_C_ONGOING_SADNESS   368  370      ncs1   \n",
       "2  DIAGNOSTIC_INTERVIEW_SECTION_C_ONGOING_SADNESS   371  377      ncs1   \n",
       "\n",
       "  recursion_flag  \n",
       "0              1  \n",
       "1              1  \n",
       "2              1  "
      ],
      "text/html": "<div>\n<style scoped>\n    .dataframe tbody tr th:only-of-type {\n        vertical-align: middle;\n    }\n\n    .dataframe tbody tr th {\n        vertical-align: top;\n    }\n\n    .dataframe thead th {\n        text-align: right;\n    }\n</style>\n<table border=\"1\" class=\"dataframe\">\n  <thead>\n    <tr style=\"text-align: right;\">\n      <th></th>\n      <th>VarName</th>\n      <th>Description</th>\n      <th>Root_DF</th>\n      <th>Start</th>\n      <th>End</th>\n      <th>DataFrame</th>\n      <th>recursion_flag</th>\n    </tr>\n  </thead>\n  <tbody>\n    <tr>\n      <th>0</th>\n      <td>ONGOING_SADNESS_SCREENING_QUESTIONS</td>\n      <td>ONGOING SADNESS - SCREENING QUESTIONS</td>\n      <td>DIAGNOSTIC_INTERVIEW_SECTION_C_ONGOING_SADNESS</td>\n      <td>364</td>\n      <td>367</td>\n      <td>ncs1</td>\n      <td>1</td>\n    </tr>\n    <tr>\n      <th>1</th>\n      <td>ONGOING_SADNESS_AGE_OF_ONSET</td>\n      <td>ONGOING SADNESS - AGE OF ONSET</td>\n      <td>DIAGNOSTIC_INTERVIEW_SECTION_C_ONGOING_SADNESS</td>\n      <td>368</td>\n      <td>370</td>\n      <td>ncs1</td>\n      <td>1</td>\n    </tr>\n    <tr>\n      <th>2</th>\n      <td>ONGOING_SADNESS_SEVERITY_AND_DURATION</td>\n      <td>ONGOING SADNESS - SEVERITY AND DURATION</td>\n      <td>DIAGNOSTIC_INTERVIEW_SECTION_C_ONGOING_SADNESS</td>\n      <td>371</td>\n      <td>377</td>\n      <td>ncs1</td>\n      <td>1</td>\n    </tr>\n  </tbody>\n</table>\n</div>"
     },
     "metadata": {},
     "execution_count": 235
    }
   ],
   "source": [
    "eval('tree_root.' + tree_data.iloc[4, 0])"
   ]
  },
  {
   "cell_type": "code",
   "execution_count": 9,
   "metadata": {},
   "outputs": [
    {
     "output_type": "execute_result",
     "data": {
      "text/plain": [
       "      CASEID  SEASON  SWIN  SSPR  SSUM  SFAL AGONS AGONSA  AGOLT1  AGOLT2  \\\n",
       "0      10001       4     0     0     0     1                    0       0   \n",
       "1      10002       4     0     0     0     1                    0       0   \n",
       "2      10003       4     0     0     0     1                    0       0   \n",
       "3      10004       4     0     0     0     1                    0       0   \n",
       "4      10005       4     0     0     0     1                    0       0   \n",
       "...      ...     ...   ...   ...   ...   ...   ...    ...     ...     ...   \n",
       "8093   25952       4     0     0     0     1                    0       0   \n",
       "8094   25953       3     0     0     1     0                    0       0   \n",
       "8095   25954       3     0     0     1     0                    0       0   \n",
       "8096   25955       4     0     0     0     1                    0       0   \n",
       "8097   25956       3     0     0     1     0                    0       0   \n",
       "\n",
       "      ...  RELNOPR  SEXF  SEX  SEXM  STR  SECU   P1FWT P2WTV2 P2WTV3  OLDP2FWT  \n",
       "0     ...        0     1    2     0   34     2  0.5135                          \n",
       "1     ...        0     1    2     0   19     2  1.8968                          \n",
       "2     ...        0     1    2     0   39     2  0.4100                          \n",
       "3     ...        0     0    1     1   39     2  0.3093                          \n",
       "4     ...        0     0    1     1    7     1  0.7790                          \n",
       "...   ...      ...   ...  ...   ...  ...   ...     ...    ...    ...       ...  \n",
       "8093  ...        0     1    2     0   30     1  3.1569                          \n",
       "8094  ...        0     1    2     0    2     2  0.1200  .0902  .2128     .0945  \n",
       "8095  ...        0     1    2     0   20     2  0.8161  .6145  .6435     .6439  \n",
       "8096  ...        0     0    1     1    1     2  0.5060                          \n",
       "8097  ...        0     0    1     1    2     1  0.9369                          \n",
       "\n",
       "[8098 rows x 224 columns]"
      ],
      "text/html": "<div>\n<style scoped>\n    .dataframe tbody tr th:only-of-type {\n        vertical-align: middle;\n    }\n\n    .dataframe tbody tr th {\n        vertical-align: top;\n    }\n\n    .dataframe thead th {\n        text-align: right;\n    }\n</style>\n<table border=\"1\" class=\"dataframe\">\n  <thead>\n    <tr style=\"text-align: right;\">\n      <th></th>\n      <th>CASEID</th>\n      <th>SEASON</th>\n      <th>SWIN</th>\n      <th>SSPR</th>\n      <th>SSUM</th>\n      <th>SFAL</th>\n      <th>AGONS</th>\n      <th>AGONSA</th>\n      <th>AGOLT1</th>\n      <th>AGOLT2</th>\n      <th>...</th>\n      <th>RELNOPR</th>\n      <th>SEXF</th>\n      <th>SEX</th>\n      <th>SEXM</th>\n      <th>STR</th>\n      <th>SECU</th>\n      <th>P1FWT</th>\n      <th>P2WTV2</th>\n      <th>P2WTV3</th>\n      <th>OLDP2FWT</th>\n    </tr>\n  </thead>\n  <tbody>\n    <tr>\n      <th>0</th>\n      <td>10001</td>\n      <td>4</td>\n      <td>0</td>\n      <td>0</td>\n      <td>0</td>\n      <td>1</td>\n      <td></td>\n      <td></td>\n      <td>0</td>\n      <td>0</td>\n      <td>...</td>\n      <td>0</td>\n      <td>1</td>\n      <td>2</td>\n      <td>0</td>\n      <td>34</td>\n      <td>2</td>\n      <td>0.5135</td>\n      <td></td>\n      <td></td>\n      <td></td>\n    </tr>\n    <tr>\n      <th>1</th>\n      <td>10002</td>\n      <td>4</td>\n      <td>0</td>\n      <td>0</td>\n      <td>0</td>\n      <td>1</td>\n      <td></td>\n      <td></td>\n      <td>0</td>\n      <td>0</td>\n      <td>...</td>\n      <td>0</td>\n      <td>1</td>\n      <td>2</td>\n      <td>0</td>\n      <td>19</td>\n      <td>2</td>\n      <td>1.8968</td>\n      <td></td>\n      <td></td>\n      <td></td>\n    </tr>\n    <tr>\n      <th>2</th>\n      <td>10003</td>\n      <td>4</td>\n      <td>0</td>\n      <td>0</td>\n      <td>0</td>\n      <td>1</td>\n      <td></td>\n      <td></td>\n      <td>0</td>\n      <td>0</td>\n      <td>...</td>\n      <td>0</td>\n      <td>1</td>\n      <td>2</td>\n      <td>0</td>\n      <td>39</td>\n      <td>2</td>\n      <td>0.4100</td>\n      <td></td>\n      <td></td>\n      <td></td>\n    </tr>\n    <tr>\n      <th>3</th>\n      <td>10004</td>\n      <td>4</td>\n      <td>0</td>\n      <td>0</td>\n      <td>0</td>\n      <td>1</td>\n      <td></td>\n      <td></td>\n      <td>0</td>\n      <td>0</td>\n      <td>...</td>\n      <td>0</td>\n      <td>0</td>\n      <td>1</td>\n      <td>1</td>\n      <td>39</td>\n      <td>2</td>\n      <td>0.3093</td>\n      <td></td>\n      <td></td>\n      <td></td>\n    </tr>\n    <tr>\n      <th>4</th>\n      <td>10005</td>\n      <td>4</td>\n      <td>0</td>\n      <td>0</td>\n      <td>0</td>\n      <td>1</td>\n      <td></td>\n      <td></td>\n      <td>0</td>\n      <td>0</td>\n      <td>...</td>\n      <td>0</td>\n      <td>0</td>\n      <td>1</td>\n      <td>1</td>\n      <td>7</td>\n      <td>1</td>\n      <td>0.7790</td>\n      <td></td>\n      <td></td>\n      <td></td>\n    </tr>\n    <tr>\n      <th>...</th>\n      <td>...</td>\n      <td>...</td>\n      <td>...</td>\n      <td>...</td>\n      <td>...</td>\n      <td>...</td>\n      <td>...</td>\n      <td>...</td>\n      <td>...</td>\n      <td>...</td>\n      <td>...</td>\n      <td>...</td>\n      <td>...</td>\n      <td>...</td>\n      <td>...</td>\n      <td>...</td>\n      <td>...</td>\n      <td>...</td>\n      <td>...</td>\n      <td>...</td>\n      <td>...</td>\n    </tr>\n    <tr>\n      <th>8093</th>\n      <td>25952</td>\n      <td>4</td>\n      <td>0</td>\n      <td>0</td>\n      <td>0</td>\n      <td>1</td>\n      <td></td>\n      <td></td>\n      <td>0</td>\n      <td>0</td>\n      <td>...</td>\n      <td>0</td>\n      <td>1</td>\n      <td>2</td>\n      <td>0</td>\n      <td>30</td>\n      <td>1</td>\n      <td>3.1569</td>\n      <td></td>\n      <td></td>\n      <td></td>\n    </tr>\n    <tr>\n      <th>8094</th>\n      <td>25953</td>\n      <td>3</td>\n      <td>0</td>\n      <td>0</td>\n      <td>1</td>\n      <td>0</td>\n      <td></td>\n      <td></td>\n      <td>0</td>\n      <td>0</td>\n      <td>...</td>\n      <td>0</td>\n      <td>1</td>\n      <td>2</td>\n      <td>0</td>\n      <td>2</td>\n      <td>2</td>\n      <td>0.1200</td>\n      <td>.0902</td>\n      <td>.2128</td>\n      <td>.0945</td>\n    </tr>\n    <tr>\n      <th>8095</th>\n      <td>25954</td>\n      <td>3</td>\n      <td>0</td>\n      <td>0</td>\n      <td>1</td>\n      <td>0</td>\n      <td></td>\n      <td></td>\n      <td>0</td>\n      <td>0</td>\n      <td>...</td>\n      <td>0</td>\n      <td>1</td>\n      <td>2</td>\n      <td>0</td>\n      <td>20</td>\n      <td>2</td>\n      <td>0.8161</td>\n      <td>.6145</td>\n      <td>.6435</td>\n      <td>.6439</td>\n    </tr>\n    <tr>\n      <th>8096</th>\n      <td>25955</td>\n      <td>4</td>\n      <td>0</td>\n      <td>0</td>\n      <td>0</td>\n      <td>1</td>\n      <td></td>\n      <td></td>\n      <td>0</td>\n      <td>0</td>\n      <td>...</td>\n      <td>0</td>\n      <td>0</td>\n      <td>1</td>\n      <td>1</td>\n      <td>1</td>\n      <td>2</td>\n      <td>0.5060</td>\n      <td></td>\n      <td></td>\n      <td></td>\n    </tr>\n    <tr>\n      <th>8097</th>\n      <td>25956</td>\n      <td>3</td>\n      <td>0</td>\n      <td>0</td>\n      <td>1</td>\n      <td>0</td>\n      <td></td>\n      <td></td>\n      <td>0</td>\n      <td>0</td>\n      <td>...</td>\n      <td>0</td>\n      <td>0</td>\n      <td>1</td>\n      <td>1</td>\n      <td>2</td>\n      <td>1</td>\n      <td>0.9369</td>\n      <td></td>\n      <td></td>\n      <td></td>\n    </tr>\n  </tbody>\n</table>\n<p>8098 rows × 224 columns</p>\n</div>"
     },
     "metadata": {},
     "execution_count": 9
    }
   ],
   "source": [
    "ncsDXDM"
   ]
  },
  {
   "cell_type": "code",
   "execution_count": 10,
   "metadata": {},
   "outputs": [
    {
     "output_type": "execute_result",
     "data": {
      "text/plain": [
       "      CASEID        V2  V3    V4  V5  V6  V7  V8  V9  V10  ...  V7437  V7438  \\\n",
       "0      10001  60080192   1  8128   9  28  90   9  28   90  ...      9      9   \n",
       "1      10002  16030048   1  3941  10   1  90  10   1   90  ...      9      9   \n",
       "2      10003  74070592   1  7813  10   5  90  10   5   90  ...      9      9   \n",
       "3      10004  74030720   1  7813  10  10  90  10  10   90  ...      9      9   \n",
       "4      10005   4180080   1  9018  10  10  90  10  10   90  ...      9      9   \n",
       "...      ...       ...  ..   ...  ..  ..  ..  ..  ..  ...  ...    ...    ...   \n",
       "8093   25952  44110688   6  8331  11   8  91  11   8   91  ...      0      0   \n",
       "8094   25953   1130821   5  4260   8  21  91  11  13   91  ...      5      5   \n",
       "8095   25954  18070448   4  5319   7   7  91   7   7   91  ...      0      0   \n",
       "8096   25955   1400261   6  8224  11  22  91  11  22   91  ...      5      5   \n",
       "8097   25956   1471591   4  8224   8  25  91  10  11   91  ...      0      0   \n",
       "\n",
       "      V7439  V7440  V7441  V7442   P1FWT  P2WTV3  TOBACWT  P2TOBWT  \n",
       "0         9      9     99      9  0.5135           0.5883           \n",
       "1         9      9     99      9  1.8968           2.1730           \n",
       "2         9      9     99      9  0.4100           0.4697           \n",
       "3         9      9     99      9  0.3093           0.3543           \n",
       "4         9      9     99      9  0.7790           0.8924           \n",
       "...     ...    ...    ...    ...     ...     ...      ...      ...  \n",
       "8093      0      0      0      0  3.1569           3.6165           \n",
       "8094      0      1     99      9  0.1200   .2128   0.1375    .3332  \n",
       "8095      0      0      0      0  0.8161   .6435   0.9349   1.0076  \n",
       "8096      0      2      0      0  0.5060           0.5797           \n",
       "8097      0      0      0      0  0.9369           1.0733           \n",
       "\n",
       "[8098 rows x 2954 columns]"
      ],
      "text/html": "<div>\n<style scoped>\n    .dataframe tbody tr th:only-of-type {\n        vertical-align: middle;\n    }\n\n    .dataframe tbody tr th {\n        vertical-align: top;\n    }\n\n    .dataframe thead th {\n        text-align: right;\n    }\n</style>\n<table border=\"1\" class=\"dataframe\">\n  <thead>\n    <tr style=\"text-align: right;\">\n      <th></th>\n      <th>CASEID</th>\n      <th>V2</th>\n      <th>V3</th>\n      <th>V4</th>\n      <th>V5</th>\n      <th>V6</th>\n      <th>V7</th>\n      <th>V8</th>\n      <th>V9</th>\n      <th>V10</th>\n      <th>...</th>\n      <th>V7437</th>\n      <th>V7438</th>\n      <th>V7439</th>\n      <th>V7440</th>\n      <th>V7441</th>\n      <th>V7442</th>\n      <th>P1FWT</th>\n      <th>P2WTV3</th>\n      <th>TOBACWT</th>\n      <th>P2TOBWT</th>\n    </tr>\n  </thead>\n  <tbody>\n    <tr>\n      <th>0</th>\n      <td>10001</td>\n      <td>60080192</td>\n      <td>1</td>\n      <td>8128</td>\n      <td>9</td>\n      <td>28</td>\n      <td>90</td>\n      <td>9</td>\n      <td>28</td>\n      <td>90</td>\n      <td>...</td>\n      <td>9</td>\n      <td>9</td>\n      <td>9</td>\n      <td>9</td>\n      <td>99</td>\n      <td>9</td>\n      <td>0.5135</td>\n      <td></td>\n      <td>0.5883</td>\n      <td></td>\n    </tr>\n    <tr>\n      <th>1</th>\n      <td>10002</td>\n      <td>16030048</td>\n      <td>1</td>\n      <td>3941</td>\n      <td>10</td>\n      <td>1</td>\n      <td>90</td>\n      <td>10</td>\n      <td>1</td>\n      <td>90</td>\n      <td>...</td>\n      <td>9</td>\n      <td>9</td>\n      <td>9</td>\n      <td>9</td>\n      <td>99</td>\n      <td>9</td>\n      <td>1.8968</td>\n      <td></td>\n      <td>2.1730</td>\n      <td></td>\n    </tr>\n    <tr>\n      <th>2</th>\n      <td>10003</td>\n      <td>74070592</td>\n      <td>1</td>\n      <td>7813</td>\n      <td>10</td>\n      <td>5</td>\n      <td>90</td>\n      <td>10</td>\n      <td>5</td>\n      <td>90</td>\n      <td>...</td>\n      <td>9</td>\n      <td>9</td>\n      <td>9</td>\n      <td>9</td>\n      <td>99</td>\n      <td>9</td>\n      <td>0.4100</td>\n      <td></td>\n      <td>0.4697</td>\n      <td></td>\n    </tr>\n    <tr>\n      <th>3</th>\n      <td>10004</td>\n      <td>74030720</td>\n      <td>1</td>\n      <td>7813</td>\n      <td>10</td>\n      <td>10</td>\n      <td>90</td>\n      <td>10</td>\n      <td>10</td>\n      <td>90</td>\n      <td>...</td>\n      <td>9</td>\n      <td>9</td>\n      <td>9</td>\n      <td>9</td>\n      <td>99</td>\n      <td>9</td>\n      <td>0.3093</td>\n      <td></td>\n      <td>0.3543</td>\n      <td></td>\n    </tr>\n    <tr>\n      <th>4</th>\n      <td>10005</td>\n      <td>4180080</td>\n      <td>1</td>\n      <td>9018</td>\n      <td>10</td>\n      <td>10</td>\n      <td>90</td>\n      <td>10</td>\n      <td>10</td>\n      <td>90</td>\n      <td>...</td>\n      <td>9</td>\n      <td>9</td>\n      <td>9</td>\n      <td>9</td>\n      <td>99</td>\n      <td>9</td>\n      <td>0.7790</td>\n      <td></td>\n      <td>0.8924</td>\n      <td></td>\n    </tr>\n    <tr>\n      <th>...</th>\n      <td>...</td>\n      <td>...</td>\n      <td>...</td>\n      <td>...</td>\n      <td>...</td>\n      <td>...</td>\n      <td>...</td>\n      <td>...</td>\n      <td>...</td>\n      <td>...</td>\n      <td>...</td>\n      <td>...</td>\n      <td>...</td>\n      <td>...</td>\n      <td>...</td>\n      <td>...</td>\n      <td>...</td>\n      <td>...</td>\n      <td>...</td>\n      <td>...</td>\n      <td>...</td>\n    </tr>\n    <tr>\n      <th>8093</th>\n      <td>25952</td>\n      <td>44110688</td>\n      <td>6</td>\n      <td>8331</td>\n      <td>11</td>\n      <td>8</td>\n      <td>91</td>\n      <td>11</td>\n      <td>8</td>\n      <td>91</td>\n      <td>...</td>\n      <td>0</td>\n      <td>0</td>\n      <td>0</td>\n      <td>0</td>\n      <td>0</td>\n      <td>0</td>\n      <td>3.1569</td>\n      <td></td>\n      <td>3.6165</td>\n      <td></td>\n    </tr>\n    <tr>\n      <th>8094</th>\n      <td>25953</td>\n      <td>1130821</td>\n      <td>5</td>\n      <td>4260</td>\n      <td>8</td>\n      <td>21</td>\n      <td>91</td>\n      <td>11</td>\n      <td>13</td>\n      <td>91</td>\n      <td>...</td>\n      <td>5</td>\n      <td>5</td>\n      <td>0</td>\n      <td>1</td>\n      <td>99</td>\n      <td>9</td>\n      <td>0.1200</td>\n      <td>.2128</td>\n      <td>0.1375</td>\n      <td>.3332</td>\n    </tr>\n    <tr>\n      <th>8095</th>\n      <td>25954</td>\n      <td>18070448</td>\n      <td>4</td>\n      <td>5319</td>\n      <td>7</td>\n      <td>7</td>\n      <td>91</td>\n      <td>7</td>\n      <td>7</td>\n      <td>91</td>\n      <td>...</td>\n      <td>0</td>\n      <td>0</td>\n      <td>0</td>\n      <td>0</td>\n      <td>0</td>\n      <td>0</td>\n      <td>0.8161</td>\n      <td>.6435</td>\n      <td>0.9349</td>\n      <td>1.0076</td>\n    </tr>\n    <tr>\n      <th>8096</th>\n      <td>25955</td>\n      <td>1400261</td>\n      <td>6</td>\n      <td>8224</td>\n      <td>11</td>\n      <td>22</td>\n      <td>91</td>\n      <td>11</td>\n      <td>22</td>\n      <td>91</td>\n      <td>...</td>\n      <td>5</td>\n      <td>5</td>\n      <td>0</td>\n      <td>2</td>\n      <td>0</td>\n      <td>0</td>\n      <td>0.5060</td>\n      <td></td>\n      <td>0.5797</td>\n      <td></td>\n    </tr>\n    <tr>\n      <th>8097</th>\n      <td>25956</td>\n      <td>1471591</td>\n      <td>4</td>\n      <td>8224</td>\n      <td>8</td>\n      <td>25</td>\n      <td>91</td>\n      <td>10</td>\n      <td>11</td>\n      <td>91</td>\n      <td>...</td>\n      <td>0</td>\n      <td>0</td>\n      <td>0</td>\n      <td>0</td>\n      <td>0</td>\n      <td>0</td>\n      <td>0.9369</td>\n      <td></td>\n      <td>1.0733</td>\n      <td></td>\n    </tr>\n  </tbody>\n</table>\n<p>8098 rows × 2954 columns</p>\n</div>"
     },
     "metadata": {},
     "execution_count": 10
    }
   ],
   "source": [
    "ncs1"
   ]
  },
  {
   "cell_type": "code",
   "execution_count": 26,
   "metadata": {},
   "outputs": [
    {
     "output_type": "execute_result",
     "data": {
      "text/plain": [
       "'diagnostic_interview_survey_administrationfacesheet'"
      ]
     },
     "metadata": {},
     "execution_count": 26
    }
   ],
   "source": [
    "tree_data.iloc[0,0]"
   ]
  },
  {
   "cell_type": "code",
   "execution_count": 137,
   "metadata": {},
   "outputs": [],
   "source": [
    "tree[0][2]\n",
    "sampling_weight = pd.DataFrame(data = tree[0][2][3:len(tree[0][2])], columns = ['Index', 'Description'])"
   ]
  },
  {
   "cell_type": "code",
   "execution_count": 138,
   "metadata": {},
   "outputs": [],
   "source": [
    "basic_info = pd.DataFrame(data = tree[1][3:len(tree[1])], columns = ['Index', 'Description', 'Other'])\n"
   ]
  },
  {
   "cell_type": "code",
   "execution_count": 201,
   "metadata": {},
   "outputs": [],
   "source": [
    "a = pd.DataFrame(columns = ['Name', 'Range Start', 'Range End'])\n"
   ]
  },
  {
   "cell_type": "code",
   "execution_count": 202,
   "metadata": {},
   "outputs": [],
   "source": [
    "social_life_health = pd.DataFrame(data = tree[2][3][3:len(tree[2][3])], columns = ['Index', 'Description', 'Other'])\n",
    "a.loc[len(a)] = ['social_life_health', social_life_health.loc[0, 'Index'], social_life_health.loc[len(social_life_health)-1, 'Index'] ]\n"
   ]
  },
  {
   "cell_type": "code",
   "execution_count": 203,
   "metadata": {},
   "outputs": [],
   "source": [
    "social_life_marriage = pd.DataFrame(data = tree[2][4][3:len(tree[2][4])], columns = ['Index', 'Description', 'Other'])\n",
    "a.loc[len(a)] = ['social_life_marriage', social_life_marriage.loc[0, 'Index'], social_life_marriage.loc[len(social_life_marriage)-1, 'Index'] ]\n"
   ]
  },
  {
   "cell_type": "code",
   "execution_count": 204,
   "metadata": {},
   "outputs": [],
   "source": [
    "social_life_relatives = pd.DataFrame(data = tree[2][5][3:len(tree[2][5])], columns = ['Index', 'Description', 'Other'])\n",
    "a.loc[len(a)] = ['social_life_relatives', social_life_relatives.loc[0, 'Index'], social_life_relatives.loc[len(social_life_relatives)-1, 'Index'] ]\n"
   ]
  },
  {
   "cell_type": "code",
   "execution_count": 205,
   "metadata": {},
   "outputs": [],
   "source": [
    "social_life_friends = pd.DataFrame(data = tree[2][6][3:len(tree[2][6])], columns = ['Index', 'Description', 'Other'])\n",
    "a.loc[len(a)] = ['social_life_friends', social_life_friends.loc[0, 'Index'], social_life_friends.loc[len(social_life_friends)-1, 'Index'] ]\n"
   ]
  },
  {
   "cell_type": "code",
   "execution_count": 206,
   "metadata": {},
   "outputs": [],
   "source": [
    "social_life_turnto = pd.DataFrame(data = tree[2][7][3:len(tree[2][7])], columns = ['Index', 'Description', 'Other'])\n",
    "a.loc[len(a)] = ['social_life_turnto', social_life_turnto.loc[0, 'Index'], social_life_turnto.loc[len(social_life_turnto)-1, 'Index'] ]\n"
   ]
  },
  {
   "cell_type": "code",
   "execution_count": 207,
   "metadata": {},
   "outputs": [],
   "source": [
    "checkpoint1 = pd.DataFrame(data = tree[2][8][3:len(tree[2][8])], columns = ['Index', 'Description', 'Other'])\n",
    "a.loc[len(a)] = ['checkpoint1', checkpoint1.loc[0, 'Index'], checkpoint1.loc[len(checkpoint1)-1, 'Index'] ]\n"
   ]
  },
  {
   "cell_type": "code",
   "execution_count": 212,
   "metadata": {},
   "outputs": [],
   "source": [
    "b = pd.DataFrame(columns = ['Name', 'Range Start', 'Range End'])"
   ]
  },
  {
   "cell_type": "code",
   "execution_count": 217,
   "metadata": {},
   "outputs": [],
   "source": [
    "lifetime_frigt_anx = pd.DataFrame(data = tree[3][3][3:len(tree[3][3])], columns = ['Index', 'Description', 'Other'])\n",
    "b.loc[len(b)] = ['lifetime_frigt_anx', lifetime_frigt_anx.loc[0, 'Index'], lifetime_frigt_anx.loc[len(lifetime_frigt_anx)-1, 'Index'] ]\n"
   ]
  },
  {
   "cell_type": "code",
   "execution_count": 224,
   "metadata": {},
   "outputs": [],
   "source": [
    "lifetime_sad_blue_depress = pd.DataFrame(data = tree[3][4][3:len(tree[3][4])], columns = ['Index', 'Description', 'Other'])\n",
    "b.loc[len(b)] = ['lifetime_sad_blue_depress', lifetime_sad_blue_depress.loc[0, 'Index'], lifetime_sad_blue_depress.loc[len(lifetime_sad_blue_depress)-1, 'Index'] ]"
   ]
  },
  {
   "cell_type": "code",
   "execution_count": 229,
   "metadata": {},
   "outputs": [],
   "source": [
    "lifetime_lost_interest = pd.DataFrame(data = tree[3][5][3:len(tree[3][5])], columns = ['Index', 'Description', 'Other'])\n",
    "b.loc[len(b)] = ['lifetime_lost_interest', lifetime_lost_interest.loc[0, 'Index'], lifetime_lost_interest.loc[len(lifetime_lost_interest)-1, 'Index'] ]"
   ]
  },
  {
   "cell_type": "code",
   "execution_count": 232,
   "metadata": {},
   "outputs": [],
   "source": [
    "lifetime_manic_irrit = pd.DataFrame(data = tree[3][6][3:len(tree[3][6])], columns = ['Index', 'Description', 'Other'])\n",
    "b.loc[len(b)] = ['lifetime_manic_irrit', lifetime_manic_irrit.loc[0, 'Index'], lifetime_manic_irrit.loc[len(lifetime_manic_irrit)-1, 'Index'] ]"
   ]
  },
  {
   "cell_type": "code",
   "execution_count": 238,
   "metadata": {},
   "outputs": [],
   "source": [
    "too_strong_fears = pd.DataFrame(data = tree[3][7][3:len(tree[3][7])], columns = ['Index', 'Description', 'Other'])\n",
    "b.loc[len(b)] = ['too_strong_fears', too_strong_fears.loc[0, 'Index'], too_strong_fears.loc[len(too_strong_fears)-1, 'Index'] ]"
   ]
  },
  {
   "cell_type": "code",
   "execution_count": 242,
   "metadata": {},
   "outputs": [],
   "source": [
    "too_strong_fears_physical = pd.DataFrame(data = tree[3][8][3:len(tree[3][8])], columns = ['Index', 'Description', 'Other'])\n",
    "b.loc[len(b)] = ['too_strong_fears_physical', too_strong_fears_physical.loc[0, 'Index'], too_strong_fears_physical.loc[len(too_strong_fears_physical)-1, 'Index'] ]"
   ]
  },
  {
   "cell_type": "code",
   "execution_count": 245,
   "metadata": {},
   "outputs": [],
   "source": [
    "too_strong_fears_tell_dr = pd.DataFrame(data = tree[3][9][3:len(tree[3][9])], columns = ['Index', 'Description', 'Other'])\n",
    "b.loc[len(b)] = ['too_strong_fears_tell_dr', too_strong_fears_tell_dr.loc[0, 'Index'], too_strong_fears_tell_dr.loc[len(too_strong_fears_tell_dr)-1, 'Index'] ]"
   ]
  },
  {
   "cell_type": "code",
   "execution_count": 248,
   "metadata": {},
   "outputs": [],
   "source": [
    "too_strong_fears_take_meds = pd.DataFrame(data = tree[3][10][3:len(tree[3][10])], columns = ['Index', 'Description', 'Other'])\n",
    "b.loc[len(b)] = ['too_strong_fears_take_meds', too_strong_fears_take_meds.loc[0, 'Index'], too_strong_fears_take_meds.loc[len(too_strong_fears_take_meds)-1, 'Index'] ]"
   ]
  },
  {
   "cell_type": "code",
   "execution_count": null,
   "metadata": {},
   "outputs": [],
   "source": [
    "too_strong_fears_limit_life = pd.DataFrame(data = tree[3][7][3:len(tree[3][7])], columns = ['Index', 'Description', 'Other'])\n",
    "b.loc[len(b)] = ['too_strong_fears', too_strong_fears.loc[0, 'Index'], too_strong_fears.loc[len(too_strong_fears)-1, 'Index'] ]"
   ]
  },
  {
   "cell_type": "code",
   "execution_count": 251,
   "metadata": {},
   "outputs": [
    {
     "output_type": "execute_result",
     "data": {
      "text/plain": [
       "['DIAGNOSTIC INTERVIEW | SECTION A: ACTIVITIES OF DAILY LIFE',\n",
       " 0,\n",
       " 0,\n",
       " ['SOCIAL LIFE - HEALTH',\n",
       "  0,\n",
       "  0,\n",
       "  ['V101', 'a1:rate physical health', 'REF= 101 ID=DDE'],\n",
       "  ['V102', 'a2:rate mental health', 'REF= 102 ID=DDE'],\n",
       "  ['V103', 'a3:rate health vs.others', 'REF= 103 ID=DDE'],\n",
       "  ['V104', 'a5:freq balanced meals', 'REF= 104 ID=DDE'],\n",
       "  ['V105', 'a6:#hrs sleep in 24 hrs', 'REF= 105 ID=DDE'],\n",
       "  ['V106', 'a7:freq regular exercise', 'REF= 106 ID=DDE'],\n",
       "  ['V107', 'a8:chkpt-spouse in HH', 'REF= 107 ID=DDE']],\n",
       " ['SOCIAL LIFE - MARRIAGE &amp; PARTNERSHIP',\n",
       "  0,\n",
       "  0,\n",
       "  ['V108', \"a9:R's marital status\", 'REF= 108 ID=DDE'],\n",
       "  ['V109', 'a9a:livng mrriag-likerel', 'REF= 109 ID=DDE'],\n",
       "  ['V110', 'a9b:spouse lives here', 'REF= 110 ID=DDE'],\n",
       "  ['V111', 'a9c:where does spouslive', 'REF= 111 ID=DDE'],\n",
       "  ['V112', 'a9d:#time sps live there', 'REF= 112 ID=DDE'],\n",
       "  ['V113', \"a9d:per'd time sps there\", 'REF= 113 ID=DDE'],\n",
       "  ['V114', 'a9e:freq contact w/spous', 'REF= 114 ID=DDE'],\n",
       "  ['V201', 'a10:spous cares for R', 'REF= 201 ID=DDE'],\n",
       "  ['V202', 'a11:spouse understands R', 'REF= 202 ID=DDE'],\n",
       "  ['V203', 'a12:spouse appreciates R', 'REF= 203 ID=DDE'],\n",
       "  ['V204', 'a13:rely on spous w/prbl', 'REF= 204 ID=DDE'],\n",
       "  ['V205', 'a14:openup/discs w/spous', 'REF= 205 ID=DDE'],\n",
       "  ['V206', 'a15:relax/bself w/spouse', 'REF= 206 ID=DDE'],\n",
       "  ['V207', 'a16:freq sp demands on R', 'REF= 207 ID=DDE'],\n",
       "  ['V208', 'a17:freq sp makes R tens', 'REF= 208 ID=DDE'],\n",
       "  ['V209', 'a18:freq sp argues w/R', 'REF= 209 ID=DDE'],\n",
       "  ['V210', 'a19:freq sp criticizes R', 'REF= 210 ID=DDE'],\n",
       "  ['V211', 'a20:freq sp lets R down', 'REF= 211 ID=DDE'],\n",
       "  ['V212', \"a21:freq sp on R's nervs\", 'REF= 212 ID=DDE']],\n",
       " ['SOCIAL LIFE - RELATIVES',\n",
       "  0,\n",
       "  0,\n",
       "  ['V213', 'a22:freq contct w/relatv', 'REF= 213 ID=DDE'],\n",
       "  ['V214', 'a23:relatives care for R', 'REF= 214 ID=DDE'],\n",
       "  ['V215', 'a24:relatvs understand R', 'REF= 215 ID=DDE'],\n",
       "  ['V216', 'a25:relatvs appreciate R', 'REF= 216 ID=DDE'],\n",
       "  ['V217', 'a26:rely on reltv w/prbl', 'REF= 217 ID=DDE'],\n",
       "  ['V218', 'a27:openup/disc w/relatv', 'REF= 218 ID=DDE'],\n",
       "  ['V219', 'a28:relax/bself w/relatv', 'REF= 219 ID=DDE'],\n",
       "  ['V220', 'a29:freq rltv demand onR', 'REF= 220 ID=DDE'],\n",
       "  ['V221', 'a30:freq rltv make Rtens', 'REF= 221 ID=DDE'],\n",
       "  ['V222', 'a31:freq argue w/relativ', 'REF= 222 ID=DDE'],\n",
       "  ['V223', 'a32:freq reltv criticize', 'REF= 223 ID=DDE'],\n",
       "  ['V224', 'a33:freq rltv let R down', 'REF= 224 ID=DDE'],\n",
       "  ['V225', 'a34:freq reltiv on nervs', 'REF= 225 ID=DDE'],\n",
       "  ['V226', 'a35:freq contct w/friend', 'REF= 226 ID=DDE']],\n",
       " ['SOCIAL LIFE - FRIENDS',\n",
       "  0,\n",
       "  0,\n",
       "  ['V227', 'a36:friends care for R', 'REF= 227 ID=DDE'],\n",
       "  ['V228', 'a37:friends understand R', 'REF= 228 ID=DDE'],\n",
       "  ['V229', 'a38:friends appreciate R', 'REF= 229 ID=DDE'],\n",
       "  ['V230', 'a39:rely on frend w/prbl', 'REF= 230 ID=DDE'],\n",
       "  ['V231', 'a40:openup/disc w/friend', 'REF= 231 ID=DDE'],\n",
       "  ['V232', 'a41:relax/bself w/friend', 'REF= 232 ID=DDE'],\n",
       "  ['V233', 'a42:freq frnd demnds onR', 'REF= 233 ID=DDE'],\n",
       "  ['V234', 'a43:freq frnd make Rtens', 'REF= 234 ID=DDE'],\n",
       "  ['V235', 'a44:freq argue w/friends', 'REF= 235 ID=DDE'],\n",
       "  ['V236', 'a45:freq frend criticize', 'REF= 236 ID=DDE'],\n",
       "  ['V237', 'a46:freq frnd let R down', 'REF= 237 ID=DDE'],\n",
       "  ['V238', 'a47:freq frnd on Rnerves', 'REF= 238 ID=DDE'],\n",
       "  ['V239', 'a48:ckpt-R livng w/spous', 'REF= 239 ID=DDE'],\n",
       "  ['V240', 'a48a:anyone openup with', 'REF= 240 ID=DDE'],\n",
       "  ['V241', 'a48b:open relshp w/spous', 'REF= 241 ID=DDE'],\n",
       "  ['V242', 'a48c/d:#peopl open relsh', 'REF= 242 ID=DDE'],\n",
       "  ['V243', 'a48e:anyone open relship', 'REF= 243 ID=DDE'],\n",
       "  ['V244', 'a48f:#peopl open relship', 'REF= 244 ID=DDE']],\n",
       " ['SOCIAL LIFE - WHO DO YOU TURN TO?',\n",
       "  0,\n",
       "  0,\n",
       "  ['V245', 'a49:freq tel spous worry', 'REF= 245 ID=DDE'],\n",
       "  ['V246', 'a50:freq tel other worry', 'REF= 246 ID=DDE'],\n",
       "  ['V247', 'a51:easy get closew/othr', 'REF= 247 ID=DDE'],\n",
       "  ['V248', 'a52:diffclt close w/othr', 'REF= 248 ID=DDE'],\n",
       "  ['V249', 'a53:others reluctant w/R', 'REF= 249 ID=DDE']],\n",
       " ['CHECKPOINT - WILLING TO GO ON WITH INTERVIEW?',\n",
       "  0,\n",
       "  0,\n",
       "  ['V250', \"a54:willing to answr q's\", 'REF= 250 ID=DDE']]]"
      ]
     },
     "metadata": {},
     "execution_count": 251
    }
   ],
   "source": [
    "tree [2]"
   ]
  },
  {
   "cell_type": "code",
   "execution_count": 246,
   "metadata": {},
   "outputs": [
    {
     "output_type": "execute_result",
     "data": {
      "text/plain": [
       "                        Name Range Start Range End\n",
       "0         lifetime_frigt_anx        V301      V305\n",
       "1  lifetime_sad_blue_depress        V306      V309\n",
       "2     lifetime_lost_interest        V310      V311\n",
       "3       lifetime_manic_irrit        V312      V313\n",
       "4           too_strong_fears        V314      V320\n",
       "5  too_strong_fears_physical        V321      V326\n",
       "6   too_strong_fears_tell_dr        V327      V331"
      ],
      "text/html": "<div>\n<style scoped>\n    .dataframe tbody tr th:only-of-type {\n        vertical-align: middle;\n    }\n\n    .dataframe tbody tr th {\n        vertical-align: top;\n    }\n\n    .dataframe thead th {\n        text-align: right;\n    }\n</style>\n<table border=\"1\" class=\"dataframe\">\n  <thead>\n    <tr style=\"text-align: right;\">\n      <th></th>\n      <th>Name</th>\n      <th>Range Start</th>\n      <th>Range End</th>\n    </tr>\n  </thead>\n  <tbody>\n    <tr>\n      <th>0</th>\n      <td>lifetime_frigt_anx</td>\n      <td>V301</td>\n      <td>V305</td>\n    </tr>\n    <tr>\n      <th>1</th>\n      <td>lifetime_sad_blue_depress</td>\n      <td>V306</td>\n      <td>V309</td>\n    </tr>\n    <tr>\n      <th>2</th>\n      <td>lifetime_lost_interest</td>\n      <td>V310</td>\n      <td>V311</td>\n    </tr>\n    <tr>\n      <th>3</th>\n      <td>lifetime_manic_irrit</td>\n      <td>V312</td>\n      <td>V313</td>\n    </tr>\n    <tr>\n      <th>4</th>\n      <td>too_strong_fears</td>\n      <td>V314</td>\n      <td>V320</td>\n    </tr>\n    <tr>\n      <th>5</th>\n      <td>too_strong_fears_physical</td>\n      <td>V321</td>\n      <td>V326</td>\n    </tr>\n    <tr>\n      <th>6</th>\n      <td>too_strong_fears_tell_dr</td>\n      <td>V327</td>\n      <td>V331</td>\n    </tr>\n  </tbody>\n</table>\n</div>"
     },
     "metadata": {},
     "execution_count": 246
    }
   ],
   "source": [
    "b"
   ]
  },
  {
   "cell_type": "code",
   "execution_count": null,
   "metadata": {},
   "outputs": [],
   "source": []
  }
 ]
}