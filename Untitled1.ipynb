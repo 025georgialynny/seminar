{
 "cells": [
  {
   "cell_type": "code",
   "execution_count": 7,
   "id": "protective-repair",
   "metadata": {},
   "outputs": [],
   "source": [
    "import pickle\n",
    "import numpy as np\n",
    "import matplotlib\n",
    "import matplotlib.pyplot as plt\n",
    "#import pandas as pd\n",
    "#import ncsr_import\n",
    "#ncsr = ncsr_import.ncsr_data()\n",
    "#import numpy\n",
    "#import tick\n",
    "from tick import hawkes\n",
    "\n",
    "from tick.plot import plot_hawkes_kernel_norms\n",
    "from tick.hawkes import HawkesExpKern\n",
    "#import pandas as pd\n",
    "#import ncsr_import\n",
    "import numpy as np\n",
    "from tick.plot import plot_hawkes_kernels\n",
    "with open(\"hawkes_mdd.pkl\", 'rb') as out: \n",
    "    age_mdd = pickle.load(out)\n",
    "#with open(\"mdd_list.pkl\", 'wb') as out: \n",
    "#    pickle.dump(mdd, out)\n",
    "with open('hawke_format.pkl', 'rb') as out: \n",
    "     hawkes_format = pickle.load(out)\n",
    "#ncsr = pd.read_csv('/justage_vars_init.csv', index_col=0)\n",
    "#with open('ncsr_for_ddp.pickle', \"rb\") as pkl: \n",
    "#    dpp_data = pickle.load(pkl)\n",
    "#ddp_data = dpp_data\n"
   ]
  },
  {
   "cell_type": "code",
   "execution_count": null,
   "id": "extraordinary-artist",
   "metadata": {},
   "outputs": [],
   "source": [
    "decay_candidates = np.logspace(0, 6, 20)\n",
    "\n",
    "best_score = -1e100\n",
    "for i, decay in enumerate(decay_candidates):\n",
    "    msk = np.random.rand(len(age_mdd)) < 0.2\n",
    "    mdd_train = [x for x, y in zip(age_mdd, msk) if y]\n",
    "    mdd_train =[np.array(y[1]).astype(float) for y in mdd_train]\n",
    "    mdd_train = [ np.array(x) for x in mdd_train]\n",
    "    train_dim = len(mdd_train)\n",
    "    learner = HawkesExpKern(decay, verbose=False, max_iter=10000,\n",
    "                                   tol=1e-10)\n",
    "    learner.fit(mdd_train)\n",
    "    hawkes_score = learner.score()\n",
    "    if hawkes_score > best_score:\n",
    "        print('obtained {}\\n with {}\\n'.format(hawkes_score, decay))\n",
    "        best_hawkes = learner\n",
    "        best_score = hawkes_score\n",
    "\n",
    "plot_hawkes_kernel_norms(best_hawkes, show=True)\n",
    "    "
   ]
  },
  {
   "cell_type": "markdown",
   "id": "adjacent-dynamics",
   "metadata": {},
   "source": [
    "for idx, person in enumerate(ddp_data):\n",
    "    ddp_data[idx] = sorted(person, key = lambda i: i['time_since_start'])"
   ]
  },
  {
   "cell_type": "markdown",
   "id": "instrumental-question",
   "metadata": {},
   "source": [
    "hawkes_format = []\n",
    "for idx, person in enumerate(ddp_data):\n",
    "    hawkes_format.append(list())\n",
    "    for event_dict in person:\n",
    "        hawkes_format[idx].append(idx)\n",
    "        hawkes_format[idx].append(list())\n",
    "        hawkes_format[idx].append(list())\n",
    "        hawkes_format[idx][1].append(event_dict['type_event'])\n",
    "        hawkes_format[idx][2].append(event_dict['time_since_start'])"
   ]
  },
  {
   "cell_type": "markdown",
   "id": "exempt-zimbabwe",
   "metadata": {},
   "source": [
    "\n",
    "#MDD is 3380\n",
    "mdd = ncsr.ncsr[ncsr.ncsr.iloc[:, 3380] == 1]\n",
    "age_mdd = [hawkes_format[i] for i in mdd.index]\n",
    "#with open(\"hawkes_mdd.pkl\", 'wb') as out: \n",
    "#    pickle.dump(age_mdd, out)\n",
    "#with open(\"mdd_list.pkl\", 'wb') as out: \n",
    "#    pickle.dump(mdd, out)\n",
    "#with open('hawke_format.pkl', 'wb') as out: \n",
    "#    pickle.dump(hawkes_format, out)"
   ]
  },
  {
   "cell_type": "code",
   "execution_count": 2,
   "id": "characteristic-celebrity",
   "metadata": {},
   "outputs": [],
   "source": [
    "msk = np.random.rand(len(age_mdd)) < 0.02\n",
    "mdd_train = [x for x, y in zip(age_mdd, msk) if y]\n",
    "mdd_test = [x for x, y in zip(age_mdd, ~msk) if y]"
   ]
  },
  {
   "cell_type": "code",
   "execution_count": 3,
   "id": "olympic-queensland",
   "metadata": {},
   "outputs": [],
   "source": [
    "train_dim = len(mdd_train)"
   ]
  },
  {
   "cell_type": "code",
   "execution_count": 4,
   "id": "stuffed-triangle",
   "metadata": {},
   "outputs": [],
   "source": [
    "learner = hawkes.HawkesEM(train_dim,  n_threads=2, verbose = True, tol = 1e-3)"
   ]
  },
  {
   "cell_type": "code",
   "execution_count": 5,
   "id": "freelance-respondent",
   "metadata": {},
   "outputs": [],
   "source": [
    "mdd_train =[np.array(y[1]).astype(float) for y in mdd_train]\n",
    "mdd_train = [ np.array(x) for x in mdd_train]"
   ]
  },
  {
   "cell_type": "code",
   "execution_count": 6,
   "id": "regulation-racing",
   "metadata": {},
   "outputs": [
    {
     "data": {
      "text/plain": [
       "array([246., 247.,  48., 287., 288.,  51.,  47.,  79.,  43., 270., 269.,\n",
       "       296.,  61.,  59., 268., 140., 124., 130., 139., 244., 220., 284.,\n",
       "       132., 224., 219., 145., 133., 131., 125., 239., 112., 144.,  99.,\n",
       "       153., 113., 172., 292.,   3., 173.,   1., 108., 101.,  84.,   9.,\n",
       "       103., 102., 175., 200.,  85., 141., 223., 285., 129., 126., 147.,\n",
       "        10.,  96.,   5.,  62.])"
      ]
     },
     "execution_count": 6,
     "metadata": {},
     "output_type": "execute_result"
    }
   ],
   "source": [
    "mdd_train[1]"
   ]
  },
  {
   "cell_type": "code",
   "execution_count": null,
   "id": "personalized-advertising",
   "metadata": {},
   "outputs": [],
   "source": []
  }
 ],
 "metadata": {
  "kernelspec": {
   "display_name": "Python 3",
   "language": "python",
   "name": "python3"
  },
  "language_info": {
   "codemirror_mode": {
    "name": "ipython",
    "version": 3
   },
   "file_extension": ".py",
   "mimetype": "text/x-python",
   "name": "python",
   "nbconvert_exporter": "python",
   "pygments_lexer": "ipython3",
   "version": "3.8.5"
  }
 },
 "nbformat": 4,
 "nbformat_minor": 5
}
