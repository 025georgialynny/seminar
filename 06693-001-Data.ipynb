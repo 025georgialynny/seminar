{
 "cells": [
  {
   "cell_type": "code",
   "execution_count": 2,
   "id": "congressional-rabbit",
   "metadata": {},
   "outputs": [],
   "source": [
    "library(dplyr)"
   ]
  },
  {
   "cell_type": "code",
   "execution_count": 3,
   "id": "killing-characteristic",
   "metadata": {},
   "outputs": [],
   "source": [
    "library(stringr)"
   ]
  },
  {
   "cell_type": "code",
   "execution_count": null,
   "id": "experienced-appliance",
   "metadata": {},
   "outputs": [
    {
     "name": "stdout",
     "output_type": "stream",
     "text": [
      "package 'tensorflow' successfully unpacked and MD5 sums checked\n",
      "\n",
      "The downloaded binary packages are in\n",
      "\tC:\\Users\\galyn\\AppData\\Local\\Temp\\RtmpOqfRo7\\downloaded_packages\n"
     ]
    },
    {
     "name": "stderr",
     "output_type": "stream",
     "text": [
      "Warning message:\n",
      "\"package 'tensorflow' was built under R version 3.6.3\""
     ]
    }
   ],
   "source": [
    "install.packages(\"tensorflow\")\n",
    "library(tensorflow)\n",
    "install_tensorflow()\n",
    "tf$constant(\"Hellow Tensorflow\")"
   ]
  },
  {
   "cell_type": "code",
   "execution_count": null,
   "id": "wireless-default",
   "metadata": {},
   "outputs": [],
   "source": [
    "library(keras)"
   ]
  },
  {
   "cell_type": "code",
   "execution_count": null,
   "id": "gorgeous-departure",
   "metadata": {},
   "outputs": [],
   "source": [
    "ncs1<- read.table(file = 'ICPSR_06693-V6/ICPSR_06693/DS0001/06693-0001-Data.tsv', sep = '\\t', header = TRUE)"
   ]
  },
  {
   "cell_type": "code",
   "execution_count": null,
   "id": "critical-celebrity",
   "metadata": {},
   "outputs": [],
   "source": [
    "dim(ncs1)"
   ]
  },
  {
   "cell_type": "markdown",
   "id": "stock-poetry",
   "metadata": {},
   "source": [
    "boorsboom ex: http://www.psychosystems.org/files/Literature/borsboomcramerannualreview.pdf"
   ]
  },
  {
   "cell_type": "code",
   "execution_count": null,
   "id": "phantom-commitment",
   "metadata": {},
   "outputs": [],
   "source": [
    "head(ncs1)"
   ]
  },
  {
   "cell_type": "code",
   "execution_count": null,
   "id": "supposed-italic",
   "metadata": {},
   "outputs": [],
   "source": [
    "ncs_col = colnames(ncs1)\n"
   ]
  },
  {
   "cell_type": "code",
   "execution_count": null,
   "id": "traditional-county",
   "metadata": {},
   "outputs": [],
   "source": [
    "ncs_administration = ncs1[,1:grep('V15$', ncs_col)]"
   ]
  },
  {
   "cell_type": "code",
   "execution_count": null,
   "id": "mathematical-wrist",
   "metadata": {},
   "outputs": [],
   "source": [
    "ncs_a = ncs1[,c(1, (grep('V15$', ncs_col)+1):grep('V250$', ncs_col))]"
   ]
  },
  {
   "cell_type": "code",
   "execution_count": null,
   "id": "fatal-processing",
   "metadata": {},
   "outputs": [],
   "source": [
    "ncs_b = ncs1[,c(1, (grep('V250$', ncs_col)+1):grep('V948$', ncs_col))]"
   ]
  },
  {
   "cell_type": "code",
   "execution_count": null,
   "id": "aware-marina",
   "metadata": {},
   "outputs": [],
   "source": [
    "ncs_c = ncs1[,c(1, (grep('V948$', ncs_col)+1):grep('V1016$', ncs_col))]"
   ]
  },
  {
   "cell_type": "code",
   "execution_count": null,
   "id": "orange-uganda",
   "metadata": {},
   "outputs": [],
   "source": [
    "ncs_d = ncs1[,c(1, (grep('V1016$', ncs_col)+1):grep('V1559$', ncs_col))]"
   ]
  },
  {
   "cell_type": "code",
   "execution_count": null,
   "id": "responsible-agency",
   "metadata": {},
   "outputs": [],
   "source": [
    "ncs_e = ncs1[,c(1, (grep('V1559$', ncs_col)+1):grep('V1757$', ncs_col))]"
   ]
  },
  {
   "cell_type": "code",
   "execution_count": null,
   "id": "narrative-titanium",
   "metadata": {},
   "outputs": [],
   "source": [
    "ncs_f = ncs1[,c(1, (grep('V1757$', ncs_col)+1):grep('V1816$', ncs_col))]"
   ]
  },
  {
   "cell_type": "code",
   "execution_count": null,
   "id": "empirical-source",
   "metadata": {},
   "outputs": [],
   "source": [
    "ncs_g = ncs1[,c(1, (grep('V1816$', ncs_col)+1):grep('V3757$', ncs_col))]"
   ]
  },
  {
   "cell_type": "code",
   "execution_count": null,
   "id": "adjusted-spencer",
   "metadata": {},
   "outputs": [],
   "source": [
    "ncs_h = ncs1[,c(1, (grep('V3757$', ncs_col)+1):grep('V3817$', ncs_col))]"
   ]
  },
  {
   "cell_type": "code",
   "execution_count": null,
   "id": "numeric-motorcycle",
   "metadata": {},
   "outputs": [],
   "source": [
    "ncs_j = ncs1[,c(1, (grep('V3817$', ncs_col)+1):grep('V3936$', ncs_col))]"
   ]
  },
  {
   "cell_type": "code",
   "execution_count": null,
   "id": "digital-desperate",
   "metadata": {},
   "outputs": [],
   "source": [
    "head(ncs_j)"
   ]
  }
 ],
 "metadata": {
  "kernelspec": {
   "display_name": "Python 3",
   "language": "python",
   "name": "python3"
  },
  "language_info": {
   "codemirror_mode": {
    "name": "ipython",
    "version": 3
   },
   "file_extension": ".py",
   "mimetype": "text/x-python",
   "name": "python",
   "nbconvert_exporter": "python",
   "pygments_lexer": "ipython3",
   "version": "3.8.5"
  }
 },
 "nbformat": 4,
 "nbformat_minor": 5
}
