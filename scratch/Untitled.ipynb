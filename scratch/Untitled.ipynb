{
 "cells": [
  {
   "cell_type": "code",
   "execution_count": 1,
   "id": "reported-conjunction",
   "metadata": {},
   "outputs": [],
   "source": [
    "from tick.dataset import fetch_hawkes_bund_data"
   ]
  },
  {
   "cell_type": "code",
   "execution_count": 2,
   "id": "alien-tomato",
   "metadata": {},
   "outputs": [
    {
     "name": "stderr",
     "output_type": "stream",
     "text": [
      "C:\\Users\\galyn\\miniconda3\\lib\\site-packages\\tick\\dataset\\download_helper.py:214: UserWarning: TICK_DATASETS environment variable was not set. Saving dataset to the default location ~\\tick_datasets\n",
      "  warnings.warn('{} environment variable was not set. Saving dataset'\n"
     ]
    }
   ],
   "source": [
    "x = fetch_hawkes_bund_data()"
   ]
  },
  {
   "cell_type": "code",
   "execution_count": 3,
   "id": "basic-edition",
   "metadata": {},
   "outputs": [
    {
     "data": {
      "text/plain": [
       "5233"
      ]
     },
     "execution_count": 3,
     "metadata": {},
     "output_type": "execute_result"
    }
   ],
   "source": [
    "len(x[1][0])"
   ]
  },
  {
   "cell_type": "code",
   "execution_count": 4,
   "id": "virgin-accreditation",
   "metadata": {},
   "outputs": [
    {
     "data": {
      "text/plain": [
       "array([ 1053.230265,  1053.310129,  1060.707673, ..., 50379.603678,\n",
       "       50381.116953, 50390.021102])"
      ]
     },
     "execution_count": 4,
     "metadata": {},
     "output_type": "execute_result"
    }
   ],
   "source": [
    "x[1][3]"
   ]
  },
  {
   "cell_type": "code",
   "execution_count": 14,
   "id": "reliable-converter",
   "metadata": {},
   "outputs": [
    {
     "data": {
      "text/plain": [
       "array([   64.867081,    64.912798,    64.983132, ..., 50391.44367 ,\n",
       "       50397.064613, 50398.842309])"
      ]
     },
     "execution_count": 14,
     "metadata": {},
     "output_type": "execute_result"
    }
   ],
   "source": [
    "x[3][0]"
   ]
  },
  {
   "cell_type": "code",
   "execution_count": null,
   "id": "danish-calibration",
   "metadata": {},
   "outputs": [],
   "source": []
  }
 ],
 "metadata": {
  "kernelspec": {
   "display_name": "Python 3",
   "language": "python",
   "name": "python3"
  },
  "language_info": {
   "codemirror_mode": {
    "name": "ipython",
    "version": 3
   },
   "file_extension": ".py",
   "mimetype": "text/x-python",
   "name": "python",
   "nbconvert_exporter": "python",
   "pygments_lexer": "ipython3",
   "version": "3.8.5"
  }
 },
 "nbformat": 4,
 "nbformat_minor": 5
}
