{
 "metadata": {
  "language_info": {
   "codemirror_mode": {
    "name": "ipython",
    "version": 3
   },
   "file_extension": ".py",
   "mimetype": "text/x-python",
   "name": "python",
   "nbconvert_exporter": "python",
   "pygments_lexer": "ipython3",
   "version": "3.8.5-final"
  },
  "orig_nbformat": 2,
  "kernelspec": {
   "name": "python3",
   "display_name": "Python 3.8.5 64-bit (conda)",
   "metadata": {
    "interpreter": {
     "hash": "8ca28b1d433ae75eab343bd246052c2243632e123f07554f7cebf0e78e390e86"
    }
   }
  }
 },
 "nbformat": 4,
 "nbformat_minor": 2,
 "cells": [
  {
   "source": [
    "import json\n",
    "import requests"
   ],
   "cell_type": "code",
   "metadata": {},
   "execution_count": 10,
   "outputs": []
  },
  {
   "cell_type": "code",
   "execution_count": 37,
   "metadata": {},
   "outputs": [
    {
     "output_type": "execute_result",
     "data": {
      "text/plain": [
       "{'varName': 'SEX',\n",
       " 'type': 'numeric',\n",
       " 'missingValues': None,\n",
       " 'integer': True,\n",
       " 'formatWidth': 1,\n",
       " 'decimals': 0,\n",
       " 'varLabel': 'SEX',\n",
       " 'filter': None,\n",
       " 'qText': '1 Marcoh (Living in a Marriage-like relationship OR currently married and residing with spouse at least part-time or currently married and NOT residing with spouse at least part-time but spouse is jailed, hospitalized, in armed forces, away on business temporarily) 2 Marswd (Currently separated, divorced widowed, and not currently living in a marriage-like relationship OR currently married and not residing with spouse at all and spouse is not jailed, hospitalized, in armed forces or temporarily away) 3 Marnev (Never married and not currently living in a marriage-like relationship) ',\n",
       " 'txt': None,\n",
       " 'categories': [{'valueCode': None,\n",
       "   'valueString': '1',\n",
       "   'valueLabel': 'Male',\n",
       "   'valueTxt': None,\n",
       "   'missing': False,\n",
       "   'sysMiss': False,\n",
       "   'stats': {'freq': '3835'}},\n",
       "  {'valueCode': None,\n",
       "   'valueString': '2',\n",
       "   'valueLabel': 'Female',\n",
       "   'valueTxt': None,\n",
       "   'missing': False,\n",
       "   'sysMiss': False,\n",
       "   'stats': {'freq': '4263'}}],\n",
       " 'sumStats': {'invd': '0', 'vald': '8098'}}"
      ]
     },
     "metadata": {},
     "execution_count": 37
    }
   ],
   "source": [
    "varname = \"SEX\"\n",
    "r = requests.get('https://pcms.icpsr.umich.edu/pcms/api/1.0/studies/06693/datasets/0002/variables/' + varname)\n",
    "r.json()\n"
   ]
  },
  {
   "cell_type": "code",
   "execution_count": 38,
   "metadata": {},
   "outputs": [
    {
     "output_type": "stream",
     "name": "stdout",
     "text": [
      "{'valueCode': None, 'valueString': '1', 'valueLabel': 'Male', 'valueTxt': None, 'missing': False, 'sysMiss': False, 'stats': {'freq': '3835'}}\n{'valueCode': None, 'valueString': '2', 'valueLabel': 'Female', 'valueTxt': None, 'missing': False, 'sysMiss': False, 'stats': {'freq': '4263'}}\n"
     ]
    }
   ],
   "source": [
    "for x in r.json()['categories']:\n",
    "    print(x)"
   ]
  },
  {
   "cell_type": "code",
   "execution_count": 20,
   "metadata": {},
   "outputs": [
    {
     "output_type": "execute_result",
     "data": {
      "text/plain": [
       "dict"
      ]
     },
     "metadata": {},
     "execution_count": 20
    }
   ],
   "source": [
    "type(r.json())"
   ]
  },
  {
   "cell_type": "code",
   "execution_count": 29,
   "metadata": {},
   "outputs": [
    {
     "output_type": "execute_result",
     "data": {
      "text/plain": [
       "'Absent'"
      ]
     },
     "metadata": {},
     "execution_count": 29
    }
   ],
   "source": [
    "r.json()[\"categories\"][0][\"valueLabel\"]"
   ]
  },
  {
   "cell_type": "code",
   "execution_count": null,
   "metadata": {},
   "outputs": [],
   "source": []
  }
 ]
}